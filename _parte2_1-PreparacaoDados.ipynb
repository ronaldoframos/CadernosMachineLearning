{
 "cells": [
  {
   "cell_type": "markdown",
   "metadata": {},
   "source": [
    "<H1> CURSO DE INTRODUÇÃO A MACHINE LEARNING - LDS </H1>\n",
    "<h2> Preprocessamento de Dados Estruturados </h2>\n"
   ]
  },
  {
   "cell_type": "code",
   "execution_count": 8,
   "metadata": {},
   "outputs": [],
   "source": [
    "%matplotlib inline"
   ]
  },
  {
   "cell_type": "code",
   "execution_count": 9,
   "metadata": {},
   "outputs": [],
   "source": [
    "#IMPORTS \n",
    "\n",
    "# Biblioteca Padrão de Matemática\n",
    "import math\n",
    "\n",
    "#NumPy\n",
    "import numpy as np\n",
    "\n",
    "#scipy stats\n",
    "from scipy import stats\n",
    "\n",
    "#matplotlib pyplot\n",
    "import matplotlib.pyplot as plt\n",
    "\n",
    "#taamnho das figuras\n",
    "plt.rcParams['figure.figsize'] = (8,4)\n",
    "\n",
    "#copias de listas\n",
    "from copy import deepcopy"
   ]
  },
  {
   "cell_type": "markdown",
   "metadata": {},
   "source": [
    "\n",
    "<table style=\"width:100%\">\n",
    "  <tr>\n",
    "    <th align = \"left\">Atributo</th>\n",
    "    <th align = \"left\">Valores Textuais</th> \n",
    "  </tr>\n",
    "  <tr>\n",
    "    <td align = \"left\">Formato</td>\n",
    "    <td align = \"left\">Esférico, Oval, Alongado</td> \n",
    "  </tr>\n",
    "  <tr>\n",
    "    <td align = \"left\">Fruta Cítrica</td>\n",
    "    <td align = \"left\">Sim,Não</td> \n",
    "  </tr>\n",
    "  <tr>\n",
    "    <td align = \"left\">Cor</td>\n",
    "    <td align = \"left\">Amarelo,Vermelho,Alaranjado,Verde</td> \n",
    "  </tr> \n",
    "   <tr>\n",
    "    <td align = \"left\">Rugosidade</td>\n",
    "    <td align = \"left\">Lisa,Rugosa</td> \n",
    "  </tr><tr>\n",
    "    <td align = \"left\">Cheiro</td>\n",
    "    <td align = \"left\">Não,Sim</td> \n",
    "  </tr>\n",
    "</table>"
   ]
  },
  {
   "cell_type": "code",
   "execution_count": 10,
   "metadata": {},
   "outputs": [],
   "source": [
    "# Dataset 4 - Frutas\n",
    "# Atributos : Formato, Fruta Cítrica, Cor, Rugosidade, Cheiro\n",
    "#\n",
    "dadosBrutos = [['esferico','sim','alaranjado','rugosa','nao','LARANJA'],\n",
    "               ['esferico','nao','vermelho','lisa','nao','MACA'],\n",
    "               ['esferico','sim','alaranjado','rugosa','sim','TANGERINA']]"
   ]
  },
  {
   "cell_type": "markdown",
   "metadata": {},
   "source": [
    "<h2> Codificador de Rótulos (Label Encoder) </h2>"
   ]
  },
  {
   "cell_type": "code",
   "execution_count": 11,
   "metadata": {},
   "outputs": [],
   "source": [
    "def codificar(valorAtual,valoresPossiveis):\n",
    "    s = list(set(sorted(valoresPossiveis)))\n",
    "    return s.index(valorAtual)"
   ]
  },
  {
   "cell_type": "code",
   "execution_count": 12,
   "metadata": {},
   "outputs": [
    {
     "data": {
      "text/plain": [
       "0"
      ]
     },
     "execution_count": 12,
     "metadata": {},
     "output_type": "execute_result"
    }
   ],
   "source": [
    "codificar('sim',['sim','nao'])"
   ]
  },
  {
   "cell_type": "code",
   "execution_count": 13,
   "metadata": {},
   "outputs": [
    {
     "data": {
      "text/plain": [
       "1"
      ]
     },
     "execution_count": 13,
     "metadata": {},
     "output_type": "execute_result"
    }
   ],
   "source": [
    "codificar('nao',['sim','nao'])"
   ]
  },
  {
   "cell_type": "code",
   "execution_count": 14,
   "metadata": {},
   "outputs": [
    {
     "data": {
      "text/plain": [
       "0"
      ]
     },
     "execution_count": 14,
     "metadata": {},
     "output_type": "execute_result"
    }
   ],
   "source": [
    "codificar('esferico',['esferico','oval','alongado'])"
   ]
  },
  {
   "cell_type": "code",
   "execution_count": 15,
   "metadata": {},
   "outputs": [
    {
     "data": {
      "text/plain": [
       "2"
      ]
     },
     "execution_count": 15,
     "metadata": {},
     "output_type": "execute_result"
    }
   ],
   "source": [
    "codificar('oval',['esferico','oval','alongado'])"
   ]
  },
  {
   "cell_type": "markdown",
   "metadata": {},
   "source": [
    "<h2> Transformando o Dataset <h2>"
   ]
  },
  {
   "cell_type": "code",
   "execution_count": 16,
   "metadata": {},
   "outputs": [],
   "source": [
    "def criaDominios(ds):\n",
    "    # trata-se da matriz transposta sem repetição dos valores\n",
    "    n  = len(ds[0])-1\n",
    "    m  = len(ds)\n",
    "    doms = []\n",
    "    for i in range(n):\n",
    "        l = []\n",
    "        for j in range(m):\n",
    "            if (ds[j][i] not in l) and isinstance(ds[j][i], str): \n",
    "                l.append(ds[j][i])\n",
    "        l.sort()\n",
    "        if l not in doms:\n",
    "            doms.append(l)\n",
    "        doms.sort()\n",
    "    return doms\n",
    "    "
   ]
  },
  {
   "cell_type": "code",
   "execution_count": 17,
   "metadata": {},
   "outputs": [
    {
     "data": {
      "text/plain": [
       "[['alaranjado', 'vermelho'], ['esferico'], ['lisa', 'rugosa'], ['nao', 'sim']]"
      ]
     },
     "execution_count": 17,
     "metadata": {},
     "output_type": "execute_result"
    }
   ],
   "source": [
    "criaDominios(dadosBrutos)"
   ]
  },
  {
   "cell_type": "code",
   "execution_count": 18,
   "metadata": {},
   "outputs": [],
   "source": [
    "def localizalinha(str,dom):\n",
    "    for i in dom:\n",
    "        if str in i:\n",
    "            return i\n",
    "    return -1"
   ]
  },
  {
   "cell_type": "code",
   "execution_count": 19,
   "metadata": {},
   "outputs": [
    {
     "data": {
      "text/plain": [
       "['alaranjado', 'vermelho']"
      ]
     },
     "execution_count": 19,
     "metadata": {},
     "output_type": "execute_result"
    }
   ],
   "source": [
    "localizalinha('alaranjado',criaDominios(dadosBrutos))"
   ]
  },
  {
   "cell_type": "code",
   "execution_count": 20,
   "metadata": {},
   "outputs": [],
   "source": [
    "#python puro\n",
    "def transformacaoDataset(ds):\n",
    "    n = len(ds)\n",
    "    m = len(ds[0])-1\n",
    "    dom = criaDominios(ds)\n",
    "    for i in range(n):\n",
    "        for j in range(m):\n",
    "            linha = localizalinha(ds[i][j],dom)\n",
    "            ds[i][j] = codificar(ds[i][j],linha)\n",
    "    return ds"
   ]
  },
  {
   "cell_type": "code",
   "execution_count": 21,
   "metadata": {},
   "outputs": [],
   "source": [
    "nDs = transformacaoDataset(deepcopy(dadosBrutos))"
   ]
  },
  {
   "cell_type": "code",
   "execution_count": 22,
   "metadata": {},
   "outputs": [
    {
     "data": {
      "text/plain": [
       "[[0, 0, 0, 0, 1, 'LARANJA'],\n",
       " [0, 1, 1, 1, 1, 'MACA'],\n",
       " [0, 0, 0, 0, 0, 'TANGERINA']]"
      ]
     },
     "execution_count": 22,
     "metadata": {},
     "output_type": "execute_result"
    }
   ],
   "source": [
    "nDs"
   ]
  },
  {
   "cell_type": "code",
   "execution_count": 16,
   "metadata": {},
   "outputs": [
    {
     "data": {
      "text/plain": [
       "[['esferico', 'sim', 'alaranjado', 'rugosa', 'nao', 'LARANJA'],\n",
       " ['esferico', 'nao', 'vermelho', 'lisa', 'nao', 'MACA'],\n",
       " ['esferico', 'sim', 'alaranjado', 'rugosa', 'sim', 'TANGERINA']]"
      ]
     },
     "execution_count": 16,
     "metadata": {},
     "output_type": "execute_result"
    }
   ],
   "source": [
    "dadosBrutos"
   ]
  },
  {
   "cell_type": "code",
   "execution_count": 17,
   "metadata": {},
   "outputs": [],
   "source": [
    "def distanciaEuclidiana(a,b): \n",
    "    d = 0\n",
    "    for i,j in zip(a,b):\n",
    "        d+= (i-j)**2\n",
    "    return  math.sqrt(d) "
   ]
  },
  {
   "cell_type": "code",
   "execution_count": 18,
   "metadata": {},
   "outputs": [
    {
     "data": {
      "text/plain": [
       "1.7320508075688772"
      ]
     },
     "execution_count": 18,
     "metadata": {},
     "output_type": "execute_result"
    }
   ],
   "source": [
    "distanciaEuclidiana(nDs[0][:-1],nDs[1][:-1]) #laranja e maca"
   ]
  },
  {
   "cell_type": "code",
   "execution_count": 19,
   "metadata": {},
   "outputs": [
    {
     "data": {
      "text/plain": [
       "1.0"
      ]
     },
     "execution_count": 19,
     "metadata": {},
     "output_type": "execute_result"
    }
   ],
   "source": [
    "distanciaEuclidiana(nDs[0][:-1],nDs[2][:-1]) #laranja e tangerina"
   ]
  },
  {
   "cell_type": "code",
   "execution_count": 20,
   "metadata": {},
   "outputs": [
    {
     "data": {
      "text/plain": [
       "2.0"
      ]
     },
     "execution_count": 20,
     "metadata": {},
     "output_type": "execute_result"
    }
   ],
   "source": [
    "distanciaEuclidiana(nDs[1][:-1],nDs[2][:-1]) #maca e tangerina"
   ]
  },
  {
   "cell_type": "markdown",
   "metadata": {},
   "source": [
    "<h3> Label Encoder no Scikit Learning <h3>"
   ]
  },
  {
   "cell_type": "code",
   "execution_count": 21,
   "metadata": {},
   "outputs": [
    {
     "data": {
      "text/plain": [
       "LabelEncoder()"
      ]
     },
     "execution_count": 21,
     "metadata": {},
     "output_type": "execute_result"
    }
   ],
   "source": [
    "from sklearn import preprocessing\n",
    "le = preprocessing.LabelEncoder()\n",
    "le.fit(['esferico','oval','alongado'])"
   ]
  },
  {
   "cell_type": "code",
   "execution_count": 22,
   "metadata": {},
   "outputs": [
    {
     "data": {
      "text/plain": [
       "['alongado', 'esferico', 'oval']"
      ]
     },
     "execution_count": 22,
     "metadata": {},
     "output_type": "execute_result"
    }
   ],
   "source": [
    "list(le.classes_)"
   ]
  },
  {
   "cell_type": "code",
   "execution_count": 23,
   "metadata": {},
   "outputs": [
    {
     "data": {
      "text/plain": [
       "array([2, 2, 1], dtype=int64)"
      ]
     },
     "execution_count": 23,
     "metadata": {},
     "output_type": "execute_result"
    }
   ],
   "source": [
    "le.transform([\"oval\", \"oval\", \"esferico\"]) "
   ]
  },
  {
   "cell_type": "code",
   "execution_count": 24,
   "metadata": {},
   "outputs": [
    {
     "data": {
      "text/plain": [
       "['oval', 'oval', 'esferico']"
      ]
     },
     "execution_count": 24,
     "metadata": {},
     "output_type": "execute_result"
    }
   ],
   "source": [
    "list(le.inverse_transform([2, 2, 1]))"
   ]
  },
  {
   "cell_type": "markdown",
   "metadata": {},
   "source": [
    "<h3> Qual o problema com o label encoder ? </h3>"
   ]
  },
  {
   "cell_type": "code",
   "execution_count": 25,
   "metadata": {},
   "outputs": [],
   "source": [
    "def transposta(matriz):\n",
    "    n = len(matriz)\n",
    "    m = len(matriz[0])\n",
    "    novaMatriz = []\n",
    "    for i in range(m):\n",
    "        l = []\n",
    "        for j in range(n):\n",
    "            l.append(matriz[j][i])\n",
    "        novaMatriz.append(l)\n",
    "    return novaMatriz"
   ]
  },
  {
   "cell_type": "code",
   "execution_count": 26,
   "metadata": {},
   "outputs": [
    {
     "data": {
      "text/plain": [
       "[['esferico', 'esferico', 'esferico'],\n",
       " ['sim', 'nao', 'sim'],\n",
       " ['alaranjado', 'vermelho', 'alaranjado'],\n",
       " ['rugosa', 'lisa', 'rugosa'],\n",
       " ['nao', 'nao', 'sim'],\n",
       " ['LARANJA', 'MACA', 'TANGERINA']]"
      ]
     },
     "execution_count": 26,
     "metadata": {},
     "output_type": "execute_result"
    }
   ],
   "source": [
    "transposta(dadosBrutos)"
   ]
  },
  {
   "cell_type": "code",
   "execution_count": 27,
   "metadata": {},
   "outputs": [],
   "source": [
    "def novosRotulos(ds,rots):\n",
    "    dst = transposta(ds)\n",
    "    nrots =[]\n",
    "    for i,j in zip(rots,dst[:-1]):\n",
    "        nr = set(j)\n",
    "        if \"sim\" in nr or \"nao\" in nr:\n",
    "            nrots.append(i)\n",
    "        else:\n",
    "            for k in nr:\n",
    "                nrots.append(k)\n",
    "    return nrots"
   ]
  },
  {
   "cell_type": "code",
   "execution_count": 28,
   "metadata": {},
   "outputs": [
    {
     "data": {
      "text/plain": [
       "['esferico',\n",
       " 'Fruta Cítrica',\n",
       " 'vermelho',\n",
       " 'alaranjado',\n",
       " 'lisa',\n",
       " 'rugosa',\n",
       " 'Cheiro']"
      ]
     },
     "execution_count": 28,
     "metadata": {},
     "output_type": "execute_result"
    }
   ],
   "source": [
    "rotulos = 'Formato','Fruta Cítrica','Cor', 'Rugosidade', 'Cheiro'\n",
    "novosRotulos(dadosBrutos,rotulos)"
   ]
  },
  {
   "cell_type": "code",
   "execution_count": 29,
   "metadata": {},
   "outputs": [],
   "source": [
    "def oneHotEncoding(ds,rots):\n",
    "    nds =[]\n",
    "    nrots = novosRotulos(ds,rots)\n",
    "    for i in range(len(ds)):\n",
    "        l =[]\n",
    "        for j in range(len(nrots)+1):\n",
    "            l.append(0)\n",
    "        nds.append(l)\n",
    "    for i in range(len(ds)):\n",
    "        for j in range(len(ds[0])-1):\n",
    "            try:\n",
    "                col = nrots.index(rots[j])\n",
    "                #converter binarios\n",
    "                if ds[i][j].lower() ==\"nao\":\n",
    "                    novoValor = 0\n",
    "                elif ds[i][j].lower() ==\"sim\":\n",
    "                    novoValor = 1\n",
    "                else:\n",
    "                    novoValor = ds[i][j]  \n",
    "                ###\n",
    "                nds[i][col] = novoValor\n",
    "            except(ValueError):\n",
    "                col = nrots.index(ds[i][j])\n",
    "                nds[i][col]=1\n",
    "        nds[i][-1] = ds[i][-1]        \n",
    "    return nrots,nds"
   ]
  },
  {
   "cell_type": "code",
   "execution_count": 30,
   "metadata": {},
   "outputs": [
    {
     "data": {
      "text/plain": [
       "(['esferico',\n",
       "  'Fruta Cítrica',\n",
       "  'vermelho',\n",
       "  'alaranjado',\n",
       "  'lisa',\n",
       "  'rugosa',\n",
       "  'Cheiro'],\n",
       " [[1, 1, 0, 1, 0, 1, 0, 'LARANJA'],\n",
       "  [1, 0, 1, 0, 1, 0, 0, 'MACA'],\n",
       "  [1, 1, 0, 1, 0, 1, 1, 'TANGERINA']])"
      ]
     },
     "execution_count": 30,
     "metadata": {},
     "output_type": "execute_result"
    }
   ],
   "source": [
    "rotulos = 'Formato','Fruta Cítrica','Cor', 'Rugosidade', 'Cheiro'\n",
    "oneHotEncoding(dadosBrutos,rotulos)"
   ]
  },
  {
   "cell_type": "code",
   "execution_count": 31,
   "metadata": {},
   "outputs": [
    {
     "data": {
      "text/plain": [
       "[['esferico', 'sim', 'alaranjado', 'rugosa', 'nao', 'LARANJA'],\n",
       " ['esferico', 'nao', 'vermelho', 'lisa', 'nao', 'MACA'],\n",
       " ['esferico', 'sim', 'alaranjado', 'rugosa', 'sim', 'TANGERINA']]"
      ]
     },
     "execution_count": 31,
     "metadata": {},
     "output_type": "execute_result"
    }
   ],
   "source": [
    "dadosBrutos"
   ]
  },
  {
   "cell_type": "code",
   "execution_count": 32,
   "metadata": {},
   "outputs": [
    {
     "data": {
      "text/plain": [
       "[[0, 0, 1, 1, 1, 'LARANJA'],\n",
       " [0, 1, 0, 0, 1, 'MACA'],\n",
       " [0, 0, 1, 1, 0, 'TANGERINA']]"
      ]
     },
     "execution_count": 32,
     "metadata": {},
     "output_type": "execute_result"
    }
   ],
   "source": [
    "nDs # codificada numericamente (label)"
   ]
  },
  {
   "cell_type": "code",
   "execution_count": 33,
   "metadata": {},
   "outputs": [
    {
     "data": {
      "text/plain": [
       "OneHotEncoder(categorical_features=None, categories=None,\n",
       "       dtype=<class 'numpy.float64'>, handle_unknown='ignore',\n",
       "       n_values=None, sparse=True)"
      ]
     },
     "execution_count": 33,
     "metadata": {},
     "output_type": "execute_result"
    }
   ],
   "source": [
    "#usando o sklearn\n",
    "from sklearn.preprocessing import OneHotEncoder\n",
    "X = [i[:-1] for i in nDs]\n",
    "enc = OneHotEncoder(handle_unknown='ignore')\n",
    "enc.fit(X)"
   ]
  },
  {
   "cell_type": "code",
   "execution_count": 34,
   "metadata": {},
   "outputs": [
    {
     "data": {
      "text/plain": [
       "array([[1., 1., 0., 0., 1., 0., 1., 0., 1.],\n",
       "       [1., 0., 1., 1., 0., 1., 0., 0., 1.],\n",
       "       [1., 1., 0., 0., 1., 0., 1., 1., 0.]])"
      ]
     },
     "execution_count": 34,
     "metadata": {},
     "output_type": "execute_result"
    }
   ],
   "source": [
    "enc.transform(X).toarray() # nem sempre fazem do jeito que queremos"
   ]
  },
  {
   "cell_type": "code",
   "execution_count": 35,
   "metadata": {},
   "outputs": [
    {
     "data": {
      "text/plain": [
       "[['esferico', 'sim', 'alaranjado', 'rugosa', 'nao', 'LARANJA'],\n",
       " ['esferico', 'nao', 'vermelho', 'lisa', 'nao', 'MACA'],\n",
       " ['esferico', 'sim', 'alaranjado', 'rugosa', 'sim', 'TANGERINA']]"
      ]
     },
     "execution_count": 35,
     "metadata": {},
     "output_type": "execute_result"
    }
   ],
   "source": [
    "dadosBrutos"
   ]
  },
  {
   "cell_type": "code",
   "execution_count": 36,
   "metadata": {},
   "outputs": [
    {
     "data": {
      "text/plain": [
       "('Formato', 'Fruta Cítrica', 'Cor', 'Rugosidade', 'Cheiro')"
      ]
     },
     "execution_count": 36,
     "metadata": {},
     "output_type": "execute_result"
    }
   ],
   "source": [
    "rotulos"
   ]
  },
  {
   "cell_type": "code",
   "execution_count": 37,
   "metadata": {},
   "outputs": [],
   "source": [
    "#quem sabe o pandas\n",
    "import pandas as pd\n",
    "df = pd.DataFrame(data=[i[:-1] for i in dadosBrutos],columns=rotulos)"
   ]
  },
  {
   "cell_type": "code",
   "execution_count": 38,
   "metadata": {},
   "outputs": [
    {
     "data": {
      "text/html": [
       "<div>\n",
       "<style scoped>\n",
       "    .dataframe tbody tr th:only-of-type {\n",
       "        vertical-align: middle;\n",
       "    }\n",
       "\n",
       "    .dataframe tbody tr th {\n",
       "        vertical-align: top;\n",
       "    }\n",
       "\n",
       "    .dataframe thead th {\n",
       "        text-align: right;\n",
       "    }\n",
       "</style>\n",
       "<table border=\"1\" class=\"dataframe\">\n",
       "  <thead>\n",
       "    <tr style=\"text-align: right;\">\n",
       "      <th></th>\n",
       "      <th>Formato</th>\n",
       "      <th>Fruta Cítrica</th>\n",
       "      <th>Cor</th>\n",
       "      <th>Rugosidade</th>\n",
       "      <th>Cheiro</th>\n",
       "    </tr>\n",
       "  </thead>\n",
       "  <tbody>\n",
       "    <tr>\n",
       "      <th>0</th>\n",
       "      <td>esferico</td>\n",
       "      <td>sim</td>\n",
       "      <td>alaranjado</td>\n",
       "      <td>rugosa</td>\n",
       "      <td>nao</td>\n",
       "    </tr>\n",
       "    <tr>\n",
       "      <th>1</th>\n",
       "      <td>esferico</td>\n",
       "      <td>nao</td>\n",
       "      <td>vermelho</td>\n",
       "      <td>lisa</td>\n",
       "      <td>nao</td>\n",
       "    </tr>\n",
       "    <tr>\n",
       "      <th>2</th>\n",
       "      <td>esferico</td>\n",
       "      <td>sim</td>\n",
       "      <td>alaranjado</td>\n",
       "      <td>rugosa</td>\n",
       "      <td>sim</td>\n",
       "    </tr>\n",
       "  </tbody>\n",
       "</table>\n",
       "</div>"
      ],
      "text/plain": [
       "    Formato Fruta Cítrica         Cor Rugosidade Cheiro\n",
       "0  esferico           sim  alaranjado     rugosa    nao\n",
       "1  esferico           nao    vermelho       lisa    nao\n",
       "2  esferico           sim  alaranjado     rugosa    sim"
      ]
     },
     "execution_count": 38,
     "metadata": {},
     "output_type": "execute_result"
    }
   ],
   "source": [
    "df.head()"
   ]
  },
  {
   "cell_type": "code",
   "execution_count": 39,
   "metadata": {},
   "outputs": [
    {
     "data": {
      "text/html": [
       "<div>\n",
       "<style scoped>\n",
       "    .dataframe tbody tr th:only-of-type {\n",
       "        vertical-align: middle;\n",
       "    }\n",
       "\n",
       "    .dataframe tbody tr th {\n",
       "        vertical-align: top;\n",
       "    }\n",
       "\n",
       "    .dataframe thead th {\n",
       "        text-align: right;\n",
       "    }\n",
       "</style>\n",
       "<table border=\"1\" class=\"dataframe\">\n",
       "  <thead>\n",
       "    <tr style=\"text-align: right;\">\n",
       "      <th></th>\n",
       "      <th>Formato_esferico</th>\n",
       "      <th>Fruta Cítrica_nao</th>\n",
       "      <th>Fruta Cítrica_sim</th>\n",
       "      <th>Cor_alaranjado</th>\n",
       "      <th>Cor_vermelho</th>\n",
       "      <th>Rugosidade_lisa</th>\n",
       "      <th>Rugosidade_rugosa</th>\n",
       "      <th>Cheiro_nao</th>\n",
       "      <th>Cheiro_sim</th>\n",
       "    </tr>\n",
       "  </thead>\n",
       "  <tbody>\n",
       "    <tr>\n",
       "      <th>0</th>\n",
       "      <td>1</td>\n",
       "      <td>0</td>\n",
       "      <td>1</td>\n",
       "      <td>1</td>\n",
       "      <td>0</td>\n",
       "      <td>0</td>\n",
       "      <td>1</td>\n",
       "      <td>1</td>\n",
       "      <td>0</td>\n",
       "    </tr>\n",
       "    <tr>\n",
       "      <th>1</th>\n",
       "      <td>1</td>\n",
       "      <td>1</td>\n",
       "      <td>0</td>\n",
       "      <td>0</td>\n",
       "      <td>1</td>\n",
       "      <td>1</td>\n",
       "      <td>0</td>\n",
       "      <td>1</td>\n",
       "      <td>0</td>\n",
       "    </tr>\n",
       "    <tr>\n",
       "      <th>2</th>\n",
       "      <td>1</td>\n",
       "      <td>0</td>\n",
       "      <td>1</td>\n",
       "      <td>1</td>\n",
       "      <td>0</td>\n",
       "      <td>0</td>\n",
       "      <td>1</td>\n",
       "      <td>0</td>\n",
       "      <td>1</td>\n",
       "    </tr>\n",
       "  </tbody>\n",
       "</table>\n",
       "</div>"
      ],
      "text/plain": [
       "   Formato_esferico  Fruta Cítrica_nao  Fruta Cítrica_sim  Cor_alaranjado  \\\n",
       "0                 1                  0                  1               1   \n",
       "1                 1                  1                  0               0   \n",
       "2                 1                  0                  1               1   \n",
       "\n",
       "   Cor_vermelho  Rugosidade_lisa  Rugosidade_rugosa  Cheiro_nao  Cheiro_sim  \n",
       "0             0                0                  1           1           0  \n",
       "1             1                1                  0           1           0  \n",
       "2             0                0                  1           0           1  "
      ]
     },
     "execution_count": 39,
     "metadata": {},
     "output_type": "execute_result"
    }
   ],
   "source": [
    "pd.get_dummies(df)"
   ]
  },
  {
   "cell_type": "markdown",
   "metadata": {},
   "source": [
    "<h3> Qual o problema com o one hot encoder??? </h3>"
   ]
  },
  {
   "cell_type": "markdown",
   "metadata": {},
   "source": [
    "<h3> Dá pra ver que nossa solução é aparentemente melhor que as das bibliotecas </h3>"
   ]
  },
  {
   "cell_type": "markdown",
   "metadata": {},
   "source": [
    "<h3> Um pouco mais </h3>  "
   ]
  },
  {
   "cell_type": "code",
   "execution_count": 40,
   "metadata": {},
   "outputs": [],
   "source": [
    "# Um pouco mais\n",
    "matrizAleatoria = np.random.rand(3,3)"
   ]
  },
  {
   "cell_type": "code",
   "execution_count": 41,
   "metadata": {},
   "outputs": [
    {
     "data": {
      "text/plain": [
       "array([[0.63031433, 0.65970183, 0.37077206],\n",
       "       [0.2471155 , 0.99843979, 0.98946601],\n",
       "       [0.29694926, 0.5237234 , 0.70272943]])"
      ]
     },
     "execution_count": 41,
     "metadata": {},
     "output_type": "execute_result"
    }
   ],
   "source": [
    "matrizAleatoria"
   ]
  },
  {
   "cell_type": "code",
   "execution_count": 42,
   "metadata": {},
   "outputs": [],
   "source": [
    "def normaliza1(matriz,novomin,novomax):\n",
    "    t = transposta(matriz)\n",
    "    for i,l in enumerate(t):\n",
    "        mi = min(l)\n",
    "        mx = max(l)\n",
    "        for j,c in enumerate(l):\n",
    "            t[i][j] = (t[i][j] - mi) / (mx - mi) * (novomax - novomin) + novomin\n",
    "    return transposta(t)"
   ]
  },
  {
   "cell_type": "code",
   "execution_count": 43,
   "metadata": {},
   "outputs": [
    {
     "data": {
      "text/plain": [
       "[[1.0, 0.2864414021429098, 0.0],\n",
       " [0.0, 1.0, 1.0],\n",
       " [0.1300467406828484, 0.0, 0.5365453617501951]]"
      ]
     },
     "execution_count": 43,
     "metadata": {},
     "output_type": "execute_result"
    }
   ],
   "source": [
    "normaliza1(matrizAleatoria,0,1)"
   ]
  },
  {
   "cell_type": "code",
   "execution_count": 44,
   "metadata": {},
   "outputs": [],
   "source": [
    "# ou usando mais o numpy"
   ]
  },
  {
   "cell_type": "code",
   "execution_count": 45,
   "metadata": {},
   "outputs": [],
   "source": [
    "def normaliza2(matriz,novomin,novomax):\n",
    "    t = matriz.T\n",
    "    for i,l in enumerate(t):\n",
    "        mi = min(l)\n",
    "        mx = max(l)\n",
    "        for j,c in enumerate(l):\n",
    "            t[i][j] = (t[i][j] - mi) / (mx - mi) * (novomax - novomin) + novomin\n",
    "    return t.T"
   ]
  },
  {
   "cell_type": "code",
   "execution_count": 46,
   "metadata": {},
   "outputs": [
    {
     "data": {
      "text/plain": [
       "array([[1.        , 0.2864414 , 0.        ],\n",
       "       [0.        , 1.        , 1.        ],\n",
       "       [0.13004674, 0.        , 0.53654536]])"
      ]
     },
     "execution_count": 46,
     "metadata": {},
     "output_type": "execute_result"
    }
   ],
   "source": [
    "normaliza2(matrizAleatoria,0,1)"
   ]
  },
  {
   "cell_type": "code",
   "execution_count": 47,
   "metadata": {},
   "outputs": [],
   "source": [
    "# ou ainda\n",
    "def normaliza3(t,novomin,novomax):\n",
    "    mi = np.amin(t,axis=0)\n",
    "    mx = np.amax(t,axis=0)\n",
    "    for i,l in enumerate(t):\n",
    "        for j,c in enumerate(l):\n",
    "            t[i][j] = (t[i][j] - mi[j]) / (mx[j] - mi[j]) * (novomax - novomin) + novomin\n",
    "    return t"
   ]
  },
  {
   "cell_type": "code",
   "execution_count": 48,
   "metadata": {},
   "outputs": [
    {
     "data": {
      "text/plain": [
       "array([[1.        , 0.2864414 , 0.        ],\n",
       "       [0.        , 1.        , 1.        ],\n",
       "       [0.13004674, 0.        , 0.53654536]])"
      ]
     },
     "execution_count": 48,
     "metadata": {},
     "output_type": "execute_result"
    }
   ],
   "source": [
    "normaliza3(matrizAleatoria,0,1)"
   ]
  },
  {
   "cell_type": "code",
   "execution_count": 49,
   "metadata": {},
   "outputs": [
    {
     "name": "stdout",
     "output_type": "stream",
     "text": [
      "[[1.         0.2864414  0.        ]\n",
      " [0.         1.         1.        ]\n",
      " [0.13004674 0.         0.53654536]]\n"
     ]
    }
   ],
   "source": [
    "from sklearn.preprocessing import MinMaxScaler\n",
    "scaler = MinMaxScaler()\n",
    "scaler.fit(matrizAleatoria)\n",
    "MinMaxScaler(copy=True, feature_range=(0, 1))\n",
    "print(scaler.transform(matrizAleatoria))"
   ]
  },
  {
   "cell_type": "markdown",
   "metadata": {},
   "source": [
    "<h1> Enjoy </h1>"
   ]
  },
  {
   "cell_type": "code",
   "execution_count": null,
   "metadata": {
    "collapsed": true
   },
   "outputs": [],
   "source": []
  }
 ],
 "metadata": {
  "kernelspec": {
   "display_name": "Python 3",
   "language": "python",
   "name": "python3"
  },
  "language_info": {
   "codemirror_mode": {
    "name": "ipython",
    "version": 3
   },
   "file_extension": ".py",
   "mimetype": "text/x-python",
   "name": "python",
   "nbconvert_exporter": "python",
   "pygments_lexer": "ipython3",
   "version": "3.7.3"
  }
 },
 "nbformat": 4,
 "nbformat_minor": 2
}
