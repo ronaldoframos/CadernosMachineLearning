{
 "cells": [
  {
   "cell_type": "markdown",
   "metadata": {},
   "source": [
    "<h1> Cardernos de IA - Aprendizagem de Máquina </h1>\n",
    "<h2> Análise de Agrupamentos - Parte 3 - Agrupamentos por Densidade </h2>\n",
    "<h3> by Ronaldo F. Ramos </h3>\n",
    "\n",
    "Análise de agrupamentos, clustering ou simplesmente agrupamentos é uma área da aprendizagem de máquina cujo objetivo é a formação de agrupamentos de objetos similares.\n",
    "\n",
    "Podemos dividir os métodos de agrupamento em três grupos ou estratégias.\n",
    "<ol>\n",
    "  <li>Grupos Hierárquicos. Algoritmos AGNES e DIANA entre outros </li>\n",
    "  <li>Grupos Divididos por Partições. Algoritmos Kmeans </li>\n",
    "  <li>Grupos Divididos por Densidade. Algoritmo DBSCAN</li>\n",
    "</ol>\n",
    "\n",
    "\n",
    "Neste caderno vamos estudar os algoritmo DBSCAN\n"
   ]
  },
  {
   "cell_type": "markdown",
   "metadata": {},
   "source": [
    "Vamos ao trabalho.\n",
    "\n",
    "Seja o dataset sobre flores com seus respectivoa atributos abaixo.\n",
    "\n",
    "<figure>\n",
    "  <img src=\"../images/flores.png\" alt=\"Trulli\" style=\"width:100%\">\n",
    "</figure>\n",
    "\n",
    "\n",
    "<table style=\"width:100%,align:left\">\n",
    "  <tr>\n",
    "    <th>Flor</th>\n",
    "    <th>1</th>\n",
    "    <th>2</th>\n",
    "    <th>3</th>\n",
    "    <th>4</th>\n",
    "    <th>5</th>\n",
    "    <th>6</th>\n",
    "    <th>7</th>\n",
    "    <th>8</th>\n",
    "  </tr>\n",
    "  <tr>\n",
    "    <td>Begônia</td>\n",
    "    <td>0</td>\n",
    "    <td>1</td>\n",
    "    <td>1</td>\n",
    "    <td>4</td>\n",
    "    <td>3</td>\n",
    "    <td>15</td>\n",
    "    <td>25</td>\n",
    "    <td>15</td> \n",
    "  </tr>\n",
    "  <tr>\n",
    "    <td>Giesta</td>\n",
    "    <td>1</td>\n",
    "    <td>0</td>\n",
    "    <td>0</td>\n",
    "    <td>2</td>\n",
    "    <td>1</td>\n",
    "    <td>3</td>\n",
    "    <td>150</td>\n",
    "    <td>50</td> \n",
    "  </tr>\n",
    "  <tr>\n",
    "    <td>Camélia</td>\n",
    "    <td>0</td>\n",
    "    <td>1</td>\n",
    "    <td>0</td>\n",
    "    <td>3</td>\n",
    "    <td>3</td>\n",
    "    <td>1</td>\n",
    "    <td>150</td>\n",
    "    <td>50</td> \n",
    "  </tr> \n",
    "  <tr>\n",
    "    <td>Dália</td>\n",
    "    <td>0</td>\n",
    "    <td>0</td>\n",
    "    <td>1</td>\n",
    "    <td>4</td>\n",
    "    <td>2</td>\n",
    "    <td>16</td>\n",
    "    <td>125</td>\n",
    "    <td>50</td> \n",
    "  </tr>   \n",
    "  <tr>\n",
    "    <td>Miosótis</td>\n",
    "    <td>0</td>\n",
    "    <td>1</td>\n",
    "    <td>0</td>\n",
    "    <td>5</td>\n",
    "    <td>2</td>\n",
    "    <td>2</td>\n",
    "    <td>20</td>\n",
    "    <td>15</td> \n",
    "  </tr>    \n",
    "  <tr>\n",
    "    <td>Fuchsia</td>\n",
    "    <td>0</td>\n",
    "    <td>1</td>\n",
    "    <td>0</td>\n",
    "    <td>4</td>\n",
    "    <td>3</td>\n",
    "    <td>12</td>\n",
    "    <td>50</td>\n",
    "    <td>40</td> \n",
    "  </tr>  \n",
    "  <tr>\n",
    "    <td>Gerânio</td>\n",
    "    <td>0</td>\n",
    "    <td>0</td>\n",
    "    <td>0</td>\n",
    "    <td>4</td>\n",
    "    <td>3</td>\n",
    "    <td>13</td>\n",
    "    <td>40</td>\n",
    "    <td>20</td>\n",
    "   </tr>\n",
    "   <tr>\n",
    "    <td>Gladíolo</td>\n",
    "    <td>0</td>\n",
    "    <td>0</td>\n",
    "    <td>1</td>\n",
    "    <td>2</td>\n",
    "    <td>2</td>\n",
    "    <td>7</td>\n",
    "    <td>100</td>\n",
    "    <td>15</td>\n",
    "   </tr>\n",
    "   <tr>\n",
    "    <td>Queiró</td>\n",
    "    <td>1</td>\n",
    "    <td>1</td>\n",
    "    <td>0</td>\n",
    "    <td>3</td>\n",
    "    <td>1</td>\n",
    "    <td>4</td>\n",
    "    <td>25</td>\n",
    "    <td>15</td>\n",
    "   </tr>\n",
    "   <tr>\n",
    "    <td>Hortênsia</td>\n",
    "    <td>1</td>\n",
    "    <td>1</td>\n",
    "    <td>0</td>\n",
    "    <td>5</td>\n",
    "    <td>2</td>\n",
    "    <td>14</td>\n",
    "    <td>100</td>\n",
    "    <td>60</td>\n",
    "   </tr>\n",
    "   <tr>\n",
    "    <td>Iris</td>\n",
    "    <td>1</td>\n",
    "    <td>1</td>\n",
    "    <td>1</td>\n",
    "    <td>5</td>\n",
    "    <td>3</td>\n",
    "    <td>8</td>\n",
    "    <td>45</td>\n",
    "    <td>10</td>\n",
    "   </tr>\n",
    "    <tr>\n",
    "    <td>Lírio</td>\n",
    "    <td>1</td>\n",
    "    <td>1</td>\n",
    "    <td>1</td>\n",
    "    <td>1</td>\n",
    "    <td>2</td>\n",
    "    <td>9</td>\n",
    "    <td>90</td>\n",
    "    <td>25</td>\n",
    "   </tr>\n",
    "    <tr>\n",
    "    <td>Lírio do Vale</td>\n",
    "    <td>1</td>\n",
    "    <td>1</td>\n",
    "    <td>0</td>\n",
    "    <td>1</td>\n",
    "    <td>2</td>\n",
    "    <td>6</td>\n",
    "    <td>20</td>\n",
    "    <td>10</td>\n",
    "   </tr>\n",
    "    <tr>\n",
    "    <td>Peônia</td>\n",
    "    <td>1</td>\n",
    "    <td>1</td>\n",
    "    <td>1</td>\n",
    "    <td>4</td>\n",
    "    <td>2</td>\n",
    "    <td>11</td>\n",
    "    <td>80</td>\n",
    "    <td>30</td>\n",
    "   </tr>\n",
    "    <tr>\n",
    "    <td>Craveiro</td>\n",
    "    <td>1</td>\n",
    "    <td>0</td>\n",
    "    <td>0</td>\n",
    "    <td>3</td>\n",
    "    <td>2</td>\n",
    "    <td>10</td>\n",
    "    <td>40</td>\n",
    "    <td>20</td>\n",
    "   </tr>\n",
    "   <tr>\n",
    "    <td>Rosa Vermelha</td>\n",
    "    <td>1</td>\n",
    "    <td>0</td>\n",
    "    <td>0</td>\n",
    "    <td>4</td>\n",
    "    <td>2</td>\n",
    "    <td>18</td>\n",
    "    <td>200</td>\n",
    "    <td>60</td>\n",
    "   </tr>\n",
    "    <tr>\n",
    "    <td>Rosa Burnet</td>\n",
    "    <td>1</td>\n",
    "    <td>0</td>\n",
    "    <td>0</td>\n",
    "    <td>2</td>\n",
    "    <td>2</td>\n",
    "    <td>17</td>\n",
    "    <td>150</td>\n",
    "    <td>60</td>\n",
    "   </tr>\n",
    "<tr>\n",
    "    <td>Tulipa</td>\n",
    "    <td>0</td>\n",
    "    <td>0</td>\n",
    "    <td>1</td>\n",
    "    <td>2</td>\n",
    "    <td>1</td>\n",
    "    <td>5</td>\n",
    "    <td>25</td>\n",
    "    <td>10</td>\n",
    "   </tr>\n",
    "</table>\n",
    "\n",
    "Os atributos são os seguintes:\n",
    "\n",
    "<ol>\n",
    "  <li>Resistente ao inverno (1=SIM,0=NÃO) </li>\n",
    "  <li>Necessita de Sombra (Idem) </li>\n",
    "  <li>Possui tubérculos (Idem) </li>\n",
    "  <li>Cor 1 = Branco, 2 = Amarela, 3 = Rosa, 4 = Vermelha, 5 = Azul </li>\n",
    "  <li>tipo de solo 1 = Seco, 2 = Normal, 3 = Húmido </li>\n",
    "  <li>Preferencia das pessoas. Um número entre 0 e 18 </li>\n",
    "  <li>Altura em centímetros </li>\n",
    "  <li>Distância mínima a ser mantida entre duas plantas em Centímetros </li>\n",
    "</ol>\n",
    "Se você não consegue distinguir alguns tipos, fique tranquilo, só máquinas conseguem...  ;-) "
   ]
  },
  {
   "cell_type": "markdown",
   "metadata": {},
   "source": [
    "Algoritmo básico (DBSCAN)\n",
    "\n",
    "<ol type=\"1\">\n",
    "  <li>Selecionar um ponto P qualquer</li>\n",
    "  <li>Usando o ponto P selecione todos os vizinhos em uma distancia limiar (dl) em uma quantidade mínima (minPts) </li>\n",
    "  <li>Se o ponto P está no centro (possui mintPts como vizinhos) estão temos um novo cluster</li>\n",
    "  <li>Senão vá para o próximo ponto ainda não processado </li>  \n",
    "   <li>Continuar o processo até que todos os pontos tenham sido processados </li>  \n",
    "</ol>"
   ]
  },
  {
   "cell_type": "code",
   "execution_count": 73,
   "metadata": {
    "collapsed": true
   },
   "outputs": [],
   "source": [
    "import math\n",
    "import random"
   ]
  },
  {
   "cell_type": "code",
   "execution_count": 74,
   "metadata": {
    "collapsed": true
   },
   "outputs": [],
   "source": [
    "# definindo o dataset\n",
    "dataset =[[0,1,1,4,3,15,25,15,\"Begônia\"],\n",
    "[1,0,0,2,1,3,150,50,\"Giesta\"],\n",
    "[0,1,0,3,3,1,150,50,\"Camélia\"],\n",
    "[0,0,1,4,2,16,125,50,\"Dália\"],\n",
    "[0,1,0,5,2,2,20,15,\"Miosótis\"],\n",
    "[0,1,0,4,3,12,50,40,\"Fuchsia\"],\n",
    "[0,0,0,4,3,13,40,20,\"Gerânio\"],\n",
    "[0,0,1,2,2,7,100,15,\"Gladíolo\"],\n",
    "[1,1,0,3,1,4,25,15,\"Queiró\"],\n",
    "[1,1,0,5,2,14,100,60,\"Hortênsia\"],\n",
    "[1,1,1,5,3,8,45,10,\"Iris\"],\n",
    "[1,1,1,1,2,9,90,25,\"Lírio\"],\n",
    "[1,1,0,1,2,6,20,10,\"Lírio do Vale\"],\n",
    "[1,1,1,4,2,11,80,30,\"Peônia\"],\n",
    "[1,0,0,3,2,10,40,20,\"Craveiro\"],\n",
    "[1,0,0,4,2,18,200,60,\"Rosa Vermelha\"],\n",
    "[1,0,0,2,2,17,150,60,\"Rosa Burnet\"],\n",
    "[0,0,1,2,1,5,25,10,\"Tulipa\"],\n",
    "]"
   ]
  },
  {
   "cell_type": "code",
   "execution_count": 75,
   "metadata": {
    "collapsed": true
   },
   "outputs": [],
   "source": [
    "# em desenvolvimento\n",
    "# Uma etapa importante que pode ser deixada de lado(asvezes) - Normalizacao\n",
    "#\n",
    "# normalizar os campos de 6 a 8 \n",
    "#\n",
    "def normalizaDs(ds):\n",
    "    vetorMaximos = [i for i in ds[0][:-1]]\n",
    "    vetorMinimos = [i for i in ds[0][:-1]]\n",
    "    for i in ds[1:]:\n",
    "        for j,k in enumerate(i[:-1]):\n",
    "            vetorMaximos[j] = max(k,vetorMaximos[j])\n",
    "            vetorMinimos[j] = min(k,vetorMinimos[j])\n",
    "    for d in ds:\n",
    "        for i in range(1,len(d)-1):\n",
    "            d[i] = (d[i] - vetorMinimos[i])/(vetorMaximos[i] - vetorMinimos[i])\n",
    "    return ds"
   ]
  },
  {
   "cell_type": "code",
   "execution_count": 76,
   "metadata": {
    "collapsed": true
   },
   "outputs": [],
   "source": [
    "dsNormal = normalizaDs(dataset)"
   ]
  },
  {
   "cell_type": "code",
   "execution_count": 77,
   "metadata": {
    "collapsed": true
   },
   "outputs": [],
   "source": [
    "# nosso primeiro problema é selecionar uma medida de dissimilaridade\n",
    "# caso 1 - distância euclidiana\n",
    "# ATENÇÂO: LEVA EM CONTA O RÓTULO\n",
    "def euclidiana(a,b):\n",
    "    dist = 0\n",
    "    for i,j in zip(a[:-1],b[:-1]):\n",
    "        dist += (i-j)**2\n",
    "    return math.sqrt(dist)"
   ]
  },
  {
   "cell_type": "code",
   "execution_count": 78,
   "metadata": {},
   "outputs": [
    {
     "data": {
      "text/plain": [
       "2.3917614811292376"
      ]
     },
     "execution_count": 78,
     "metadata": {},
     "output_type": "execute_result"
    }
   ],
   "source": [
    "#teste\n",
    "euclidiana(dataset[0],dataset[1])"
   ]
  },
  {
   "cell_type": "code",
   "execution_count": 108,
   "metadata": {
    "collapsed": true
   },
   "outputs": [],
   "source": [
    "#funcao auxiliar\n",
    "def pertGrupo(i,grp):\n",
    "    for j in grp:\n",
    "        if i in j:\n",
    "            return True\n",
    "    return False\n"
   ]
  },
  {
   "cell_type": "code",
   "execution_count": 109,
   "metadata": {},
   "outputs": [
    {
     "data": {
      "text/plain": [
       "True"
      ]
     },
     "execution_count": 109,
     "metadata": {},
     "output_type": "execute_result"
    }
   ],
   "source": [
    "#testes\n",
    "pertGrupo(1,[[2],[2,3,4],[5,7,1]])\n"
   ]
  },
  {
   "cell_type": "code",
   "execution_count": 152,
   "metadata": {
    "collapsed": true
   },
   "outputs": [],
   "source": [
    "#dados iniciais \n",
    "#dl = 1 # distancia limiar\n",
    "dl = 1.6\n",
    "npt = 2 # número de pontos mínimos\n"
   ]
  },
  {
   "cell_type": "code",
   "execution_count": 155,
   "metadata": {
    "collapsed": true
   },
   "outputs": [],
   "source": [
    "#algoritmo DBSCAN\n",
    "def DBSCAN(dset,dl,npt):\n",
    "    grupos = [] \n",
    "    random.shuffle(dset)\n",
    "    for inicio in dset:\n",
    "        grtemp = []\n",
    "        if pertGrupo(inicio,grupos):\n",
    "            continue\n",
    "        grtemp.append(inicio)\n",
    "        ind = dset.index(inicio)\n",
    "        for i in dset[:ind]+dset[ind+1:]: \n",
    "            if not pertGrupo(i,grupos) and euclidiana(i,inicio) < dl:\n",
    "                grtemp.append(i)\n",
    "        if len(grtemp)>=npt:\n",
    "            grupos.append(grtemp)\n",
    "    return grupos"
   ]
  },
  {
   "cell_type": "code",
   "execution_count": 157,
   "metadata": {},
   "outputs": [
    {
     "name": "stdout",
     "output_type": "stream",
     "text": [
      "\n",
      "Grupo 0 \n",
      "Gladíolo  ,Tulipa  ,Lírio  ,Dália  ,Gerânio  ,Craveiro  ,Peônia  ,Begônia  ,\n",
      "Grupo 1 \n",
      "Camélia  ,Fuchsia  ,Hortênsia  ,Miosótis  ,\n",
      "Grupo 2 \n",
      "Rosa Vermelha  ,Rosa Burnet  ,Giesta  ,\n",
      "Grupo 3 \n",
      "Lírio do Vale  ,Iris  ,Queiró  ,"
     ]
    }
   ],
   "source": [
    "#rodando\n",
    "grps = DBSCAN(dsNormal[:],dl,npt)\n",
    "for i,j in enumerate(grps):\n",
    "    print(\"\\nGrupo {} \".format(i))\n",
    "    for z in j:\n",
    "        print(z[-1].strip(),\" \",end=\",\")   "
   ]
  },
  {
   "cell_type": "markdown",
   "metadata": {},
   "source": [
    "BOA SORTE NOS SEUS AGRUPAMENTOS"
   ]
  },
  {
   "cell_type": "markdown",
   "metadata": {},
   "source": [
    "DISCUSSÃO : TUDO É AGRUPAMENTO..."
   ]
  },
  {
   "cell_type": "code",
   "execution_count": null,
   "metadata": {
    "collapsed": true
   },
   "outputs": [],
   "source": []
  }
 ],
 "metadata": {
  "kernelspec": {
   "display_name": "Python 3",
   "language": "python",
   "name": "python3"
  },
  "language_info": {
   "codemirror_mode": {
    "name": "ipython",
    "version": 3
   },
   "file_extension": ".py",
   "mimetype": "text/x-python",
   "name": "python",
   "nbconvert_exporter": "python",
   "pygments_lexer": "ipython3",
   "version": "3.6.3"
  }
 },
 "nbformat": 4,
 "nbformat_minor": 2
}
