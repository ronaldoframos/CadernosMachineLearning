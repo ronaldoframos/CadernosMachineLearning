{
 "cells": [
  {
   "cell_type": "markdown",
   "metadata": {},
   "source": [
    "<H1> CURSO DE INTRODUÇÃO A MACHINE LEARNING - LDS <H2>"
   ]
  },
  {
   "cell_type": "code",
   "execution_count": 1,
   "metadata": {
    "collapsed": true
   },
   "outputs": [],
   "source": [
    "%matplotlib inline"
   ]
  },
  {
   "cell_type": "code",
   "execution_count": 2,
   "metadata": {
    "collapsed": true
   },
   "outputs": [],
   "source": [
    "#IMPORTS \n",
    "\n",
    "# Biblioteca Padrão de Matemática\n",
    "import math\n",
    "\n",
    "#matplotlib pyplot\n",
    "import matplotlib.pyplot as plt\n",
    "\n",
    "#taamnho das figuras\n",
    "plt.rcParams['figure.figsize'] = (8,4)\n",
    "\n",
    "#NumPy\n",
    "import numpy as np\n",
    "\n",
    "#scipy stats\n",
    "from scipy import stats"
   ]
  },
  {
   "cell_type": "code",
   "execution_count": 3,
   "metadata": {
    "collapsed": true
   },
   "outputs": [],
   "source": [
    "# Dataset 1 - Amostra Aleatória de Alturas de Homens Cearenses\n",
    "H = [160,170,180,190,150,145,163,172,156,181,190,170,165,168,167,166,164,166,172,173,150,152,153,164] "
   ]
  },
  {
   "cell_type": "markdown",
   "metadata": {},
   "source": [
    "<h2> Calculando as Médias </h2>"
   ]
  },
  {
   "cell_type": "code",
   "execution_count": 4,
   "metadata": {},
   "outputs": [
    {
     "data": {
      "text/plain": [
       "166.125"
      ]
     },
     "execution_count": 4,
     "metadata": {},
     "output_type": "execute_result"
    }
   ],
   "source": [
    "# calculando a media Python Puro\n",
    "sum(H)/len(H)"
   ]
  },
  {
   "cell_type": "code",
   "execution_count": 5,
   "metadata": {},
   "outputs": [
    {
     "data": {
      "text/plain": [
       "166.125"
      ]
     },
     "execution_count": 5,
     "metadata": {},
     "output_type": "execute_result"
    }
   ],
   "source": [
    "# Calculando a media usando numpy\n",
    "np.mean(H)"
   ]
  },
  {
   "cell_type": "markdown",
   "metadata": {},
   "source": [
    "<h2> Calculando as Medianas <h2>"
   ]
  },
  {
   "cell_type": "code",
   "execution_count": 6,
   "metadata": {
    "collapsed": true
   },
   "outputs": [],
   "source": [
    "#python puro\n",
    "n = len(H)\n",
    "hl = sorted(H)\n",
    "if n%2==0:\n",
    "    i=int(n/2)-1 # a lista começa na posição 0\n",
    "    mediana = (hl[i]+hl[i+1])/2\n",
    "else:\n",
    "    i=int((n+1)/2)\n",
    "    mediana = hl[i]"
   ]
  },
  {
   "cell_type": "code",
   "execution_count": 7,
   "metadata": {},
   "outputs": [
    {
     "data": {
      "text/plain": [
       "166.0"
      ]
     },
     "execution_count": 7,
     "metadata": {},
     "output_type": "execute_result"
    }
   ],
   "source": [
    "mediana"
   ]
  },
  {
   "cell_type": "code",
   "execution_count": 8,
   "metadata": {},
   "outputs": [
    {
     "data": {
      "text/plain": [
       "166.0"
      ]
     },
     "execution_count": 8,
     "metadata": {},
     "output_type": "execute_result"
    }
   ],
   "source": [
    "# mediana em numpy\n",
    "np.median(H)"
   ]
  },
  {
   "cell_type": "code",
   "execution_count": 9,
   "metadata": {
    "collapsed": true
   },
   "outputs": [],
   "source": [
    "metade1 = [ i for i in hl if i < mediana]\n",
    "metade2 = [ i for i in hl if i > mediana]"
   ]
  },
  {
   "cell_type": "code",
   "execution_count": 10,
   "metadata": {},
   "outputs": [
    {
     "data": {
      "text/plain": [
       "[145, 150, 150, 152, 153, 156, 160, 163, 164, 164, 165]"
      ]
     },
     "execution_count": 10,
     "metadata": {},
     "output_type": "execute_result"
    }
   ],
   "source": [
    "metade1"
   ]
  },
  {
   "cell_type": "code",
   "execution_count": 11,
   "metadata": {},
   "outputs": [
    {
     "data": {
      "text/plain": [
       "[167, 168, 170, 170, 172, 172, 173, 180, 181, 190, 190]"
      ]
     },
     "execution_count": 11,
     "metadata": {},
     "output_type": "execute_result"
    }
   ],
   "source": [
    "metade2"
   ]
  },
  {
   "cell_type": "markdown",
   "metadata": {},
   "source": [
    "<h2> Porque usar numpy? <h2>"
   ]
  },
  {
   "cell_type": "code",
   "execution_count": 12,
   "metadata": {
    "collapsed": true
   },
   "outputs": [],
   "source": [
    "#criando uma matriz NP\n",
    "Z = np.array([[1,2,3],\n",
    "              [4,5,6],\n",
    "              [7,8,9]])"
   ]
  },
  {
   "cell_type": "code",
   "execution_count": 13,
   "metadata": {},
   "outputs": [
    {
     "data": {
      "text/plain": [
       "(3, 3)"
      ]
     },
     "execution_count": 13,
     "metadata": {},
     "output_type": "execute_result"
    }
   ],
   "source": [
    "Z.shape"
   ]
  },
  {
   "cell_type": "code",
   "execution_count": 14,
   "metadata": {},
   "outputs": [
    {
     "data": {
      "text/plain": [
       "5.0"
      ]
     },
     "execution_count": 14,
     "metadata": {},
     "output_type": "execute_result"
    }
   ],
   "source": [
    "np.median(Z)"
   ]
  },
  {
   "cell_type": "markdown",
   "metadata": {},
   "source": [
    "<h2> Moda </h2>"
   ]
  },
  {
   "cell_type": "code",
   "execution_count": 15,
   "metadata": {},
   "outputs": [
    {
     "data": {
      "text/plain": [
       "ModeResult(mode=array([150]), count=array([2]))"
      ]
     },
     "execution_count": 15,
     "metadata": {},
     "output_type": "execute_result"
    }
   ],
   "source": [
    "stats.mode(H)"
   ]
  },
  {
   "cell_type": "markdown",
   "metadata": {},
   "source": [
    "<h2> Variância e Desvio Padrão </h2>"
   ]
  },
  {
   "cell_type": "code",
   "execution_count": 16,
   "metadata": {
    "collapsed": true
   },
   "outputs": [],
   "source": [
    "#Python Puro\n",
    "n = len(H)\n",
    "media = sum(H)/n\n",
    "soma_desvios_quad = 0\n",
    "for i in H:\n",
    "    soma_desvios_quad += (i - media)**2\n",
    "variancia = soma_desvios_quad/n\n",
    "desvioPadrao = math.sqrt(soma_desvios_quad/n)"
   ]
  },
  {
   "cell_type": "code",
   "execution_count": 17,
   "metadata": {},
   "outputs": [
    {
     "data": {
      "text/plain": [
       "133.44270833333334"
      ]
     },
     "execution_count": 17,
     "metadata": {},
     "output_type": "execute_result"
    }
   ],
   "source": [
    "variancia"
   ]
  },
  {
   "cell_type": "code",
   "execution_count": 18,
   "metadata": {},
   "outputs": [
    {
     "data": {
      "text/plain": [
       "11.551740489351955"
      ]
     },
     "execution_count": 18,
     "metadata": {},
     "output_type": "execute_result"
    }
   ],
   "source": [
    "desvioPadrao"
   ]
  },
  {
   "cell_type": "code",
   "execution_count": 19,
   "metadata": {},
   "outputs": [
    {
     "name": "stdout",
     "output_type": "stream",
     "text": [
      "11.5517404894\n"
     ]
    }
   ],
   "source": [
    "# Desvio Padrão em NUMPY\n",
    "print(np.std(H))"
   ]
  },
  {
   "cell_type": "markdown",
   "metadata": {},
   "source": [
    "<h2> Estudo de Correlação </h2>\n",
    "<h3> O índice de inflação no Brasil e o valor do Dólar sempre aumentam ou diminuem juntos? </h3>\n",
    "<h3> O que você acha ? </h3>"
   ]
  },
  {
   "cell_type": "code",
   "execution_count": 20,
   "metadata": {
    "collapsed": true
   },
   "outputs": [],
   "source": [
    "# Dataset 2\n",
    "# variaçao do dolar comercial entre maio 2018 e maio de 2019\n",
    "dolar    = [3.6753, 3.7738, 3.8745, 3.9134, 4.1879, 3.7332, 3.7924, 3.9090,3.6513,3.7379, 3.8961,3.9447, 3.9401  ] "
   ]
  },
  {
   "cell_type": "code",
   "execution_count": 21,
   "metadata": {
    "collapsed": true
   },
   "outputs": [],
   "source": [
    "# Dataset 3\n",
    "#índice de inflação brasileira entre junho de 2018 e maio de 2019\n",
    "inflacao = [1.26, 0.33, -0.09, 0.48, 0.45, -0.21, 0.15, 0.32, 0.43, 0.75, 0.57, 0.13 ]"
   ]
  },
  {
   "cell_type": "markdown",
   "metadata": {},
   "source": [
    "<h3> Aqui precisamos fazer uma TRANSFORMAÇÃO DE DADOS </h3>"
   ]
  },
  {
   "cell_type": "code",
   "execution_count": 22,
   "metadata": {
    "collapsed": true
   },
   "outputs": [],
   "source": [
    "variacaoDolar = [(dolar[i+1]-dolar[i])/dolar[i] for i in range(len(dolar)-1)]"
   ]
  },
  {
   "cell_type": "code",
   "execution_count": 23,
   "metadata": {
    "collapsed": true
   },
   "outputs": [],
   "source": [
    "#matrizes numpy\n",
    "dl = np.array(variacaoDolar)\n",
    "inf = np.array(inflacao)"
   ]
  },
  {
   "cell_type": "code",
   "execution_count": 24,
   "metadata": {
    "collapsed": true
   },
   "outputs": [],
   "source": [
    "# python puro\n",
    "def coefCorrelacao(a,b):\n",
    "    mediaA = sum(a)/len(a)\n",
    "    mediaB = sum(b)/len(b)\n",
    "    difA=0\n",
    "    difB=0\n",
    "    aux1 =0\n",
    "    aux2 =0\n",
    "    aux3 =0\n",
    "    for i,k in zip(a,b):\n",
    "        tda = i - mediaA\n",
    "        tdb = k - mediaB\n",
    "        pdab = tda * tdb\n",
    "        aux1 += pdab\n",
    "        aux2 += tda**2\n",
    "        aux3 += tdb**2\n",
    "    aux2 = math.sqrt(aux2)\n",
    "    aux3 = math.sqrt(aux3)\n",
    "    return aux1/(aux2 * aux3)"
   ]
  },
  {
   "cell_type": "code",
   "execution_count": 25,
   "metadata": {},
   "outputs": [
    {
     "data": {
      "text/plain": [
       "0.11589156216431971"
      ]
     },
     "execution_count": 25,
     "metadata": {},
     "output_type": "execute_result"
    }
   ],
   "source": [
    "coefCorrelacao(variacaoDolar,inflacao)"
   ]
  },
  {
   "cell_type": "markdown",
   "metadata": {},
   "source": [
    "<h3> Visualizações </h3><br>\n",
    "<h3> Boxplot (Diagrama de Caixa) </h3>\n",
    "(Visualização de Simetria da Distribuição e Detecção de Outliers)"
   ]
  },
  {
   "cell_type": "code",
   "execution_count": 26,
   "metadata": {},
   "outputs": [
    {
     "data": {
      "text/plain": [
       "{'boxes': [<matplotlib.lines.Line2D at 0x1a08fe2860>],\n",
       " 'caps': [<matplotlib.lines.Line2D at 0x1a10348208>,\n",
       "  <matplotlib.lines.Line2D at 0x1a10348630>],\n",
       " 'fliers': [<matplotlib.lines.Line2D at 0x1a10348eb8>],\n",
       " 'means': [],\n",
       " 'medians': [<matplotlib.lines.Line2D at 0x1a10348a58>],\n",
       " 'whiskers': [<matplotlib.lines.Line2D at 0x1a10330828>,\n",
       "  <matplotlib.lines.Line2D at 0x1a10330da0>]}"
      ]
     },
     "execution_count": 26,
     "metadata": {},
     "output_type": "execute_result"
    },
    {
     "data": {
      "image/png": "[encoded data removed]",
      "text/plain": [
       "<matplotlib.figure.Figure at 0x1a08fe2898>"
      ]
     },
     "metadata": {},
     "output_type": "display_data"
    }
   ],
   "source": [
    "# boxplot das alturas\n",
    "fig, ax = plt.subplots()\n",
    "ax.set_title('Amostra de Alturas de Homens Cearenses')\n",
    "ax.boxplot(H,vert=False)"
   ]
  },
  {
   "cell_type": "markdown",
   "metadata": {},
   "source": [
    "<h3> Observe a Presença de um outlier (Valor Discrepante) na inflação. </h3>"
   ]
  },
  {
   "cell_type": "code",
   "execution_count": 27,
   "metadata": {},
   "outputs": [
    {
     "data": {
      "text/plain": [
       "{'boxes': [<matplotlib.lines.Line2D at 0x1a103c4198>],\n",
       " 'caps': [<matplotlib.lines.Line2D at 0x1a103c4c50>,\n",
       "  <matplotlib.lines.Line2D at 0x1a103cc0f0>],\n",
       " 'fliers': [<matplotlib.lines.Line2D at 0x1a103cc9b0>],\n",
       " 'means': [],\n",
       " 'medians': [<matplotlib.lines.Line2D at 0x1a103cc550>],\n",
       " 'whiskers': [<matplotlib.lines.Line2D at 0x1a103c4320>,\n",
       "  <matplotlib.lines.Line2D at 0x1a103c47f0>]}"
      ]
     },
     "execution_count": 27,
     "metadata": {},
     "output_type": "execute_result"
    },
    {
     "data": {
      "image/png": "[encoded data removed]",
      "text/plain": [
       "<matplotlib.figure.Figure at 0x1a1036b550>"
      ]
     },
     "metadata": {},
     "output_type": "display_data"
    }
   ],
   "source": [
    "#\n",
    "fig, ax = plt.subplots()\n",
    "ax.set_title('Variação da Inflação')\n",
    "ax.boxplot(inf,vert=False)"
   ]
  },
  {
   "cell_type": "markdown",
   "metadata": {},
   "source": [
    "<h3> Histogramas </h3>"
   ]
  },
  {
   "cell_type": "code",
   "execution_count": 28,
   "metadata": {},
   "outputs": [
    {
     "data": {
      "image/png": "[encoded data removed]",
      "text/plain": [
       "<matplotlib.figure.Figure at 0x1a10398860>"
      ]
     },
     "metadata": {},
     "output_type": "display_data"
    }
   ],
   "source": [
    "# Simples\n",
    "plt.xlabel('Alturas')\n",
    "plt.ylabel('Frequências')\n",
    "plt.title('Histograma das Alturas')\n",
    "plt.hist(H,range=(140,200))\n",
    "plt.show()"
   ]
  },
  {
   "cell_type": "code",
   "execution_count": 29,
   "metadata": {},
   "outputs": [
    {
     "data": {
      "image/png": "[encoded data removed]",
      "text/plain": [
       "<matplotlib.figure.Figure at 0x1a103fc8d0>"
      ]
     },
     "metadata": {},
     "output_type": "display_data"
    }
   ],
   "source": [
    "# Simples\n",
    "plt.xlabel('Alturas')\n",
    "plt.ylabel('Frequências')\n",
    "plt.title('Histograma das Alturas')\n",
    "plt.hist(H,bins=[140,155,170,185,200],range=(140,200))\n",
    "plt.show()"
   ]
  },
  {
   "cell_type": "code",
   "execution_count": 30,
   "metadata": {},
   "outputs": [
    {
     "data": {
      "image/png": "[encoded data removed]",
      "text/plain": [
       "<matplotlib.figure.Figure at 0x1a105cd1d0>"
      ]
     },
     "metadata": {},
     "output_type": "display_data"
    }
   ],
   "source": [
    "# frequência acumulada\n",
    "plt.xlabel('Alturas')\n",
    "plt.ylabel('Frequências')\n",
    "plt.title('Histograma das Alturas')\n",
    "plt.hist(H,cumulative=True, range=(140,190),bins=[140,155,170,185,200])\n",
    "plt.show()"
   ]
  },
  {
   "cell_type": "code",
   "execution_count": 31,
   "metadata": {},
   "outputs": [
    {
     "data": {
      "text/plain": [
       "(array([ 20.83333333,  41.66666667,  29.16666667,   8.33333333]),\n",
       " array([140, 155, 170, 185, 200]),\n",
       " <a list of 4 Patch objects>)"
      ]
     },
     "execution_count": 31,
     "metadata": {},
     "output_type": "execute_result"
    },
    {
     "data": {
      "image/png": "[encoded data removed]",
      "text/plain": [
       "<matplotlib.figure.Figure at 0x1a105ffc88>"
      ]
     },
     "metadata": {},
     "output_type": "display_data"
    }
   ],
   "source": [
    "data = np.array(H)\n",
    "plt.xlabel('Alturas')\n",
    "plt.ylabel('Frequências Relativas')\n",
    "plt.title('Histograma das Alturas')\n",
    "plt.hist(data, weights=np.zeros_like(data) + 100. / data.size,bins=[140,155,170,185,200],range=(140,190))"
   ]
  },
  {
   "cell_type": "code",
   "execution_count": 53,
   "metadata": {},
   "outputs": [
    {
     "data": {
      "image/png": "[encoded data removed]",
      "text/plain": [
       "<matplotlib.figure.Figure at 0x1a10c510f0>"
      ]
     },
     "metadata": {},
     "output_type": "display_data"
    }
   ],
   "source": [
    "# normalizando a área (area total = 1)\n",
    "# caso se tratasse de uma função contínua teríamos uma função densidade de probabilidade\n",
    "\n",
    "plt.xlabel('Alturas')\n",
    "plt.title('Histograma das Alturas')\n",
    "plt.hist(H,bins=[140,155,170,185,200],range=(140,200),density=True) \n",
    "plt.show()"
   ]
  },
  {
   "cell_type": "markdown",
   "metadata": {},
   "source": [
    "<h3> Diagramas de Dispersão (Scatter Plots) </h3>"
   ]
  },
  {
   "cell_type": "code",
   "execution_count": 32,
   "metadata": {},
   "outputs": [
    {
     "data": {
      "image/png": "[encoded data removed]",
      "text/plain": [
       "<matplotlib.figure.Figure at 0x1a13a63198>"
      ]
     },
     "metadata": {},
     "output_type": "display_data"
    }
   ],
   "source": [
    "#imprimindo um gráfico de dispersão scatter plot\n",
    "plt.xlabel('Variação do Dólar')\n",
    "plt.ylabel('Indice Inflacionário')\n",
    "plt.title('Dólar x Inflação')\n",
    "plt.scatter(variacaoDolar,inflacao, alpha=1)\n",
    "plt.show()"
   ]
  },
  {
   "cell_type": "markdown",
   "metadata": {},
   "source": [
    "<h2> Aparentemente neste período a variação do dólar e o índice de inflação(IPCA/IGP) foram independentes </h2>"
   ]
  },
  {
   "cell_type": "code",
   "execution_count": null,
   "metadata": {
    "collapsed": true
   },
   "outputs": [],
   "source": []
  }
 ],
 "metadata": {
  "kernelspec": {
   "display_name": "Python 3",
   "language": "python",
   "name": "python3"
  },
  "language_info": {
   "codemirror_mode": {
    "name": "ipython",
    "version": 3
   },
   "file_extension": ".py",
   "mimetype": "text/x-python",
   "name": "python",
   "nbconvert_exporter": "python",
   "pygments_lexer": "ipython3",
   "version": "3.6.3"
  }
 },
 "nbformat": 4,
 "nbformat_minor": 2
}
