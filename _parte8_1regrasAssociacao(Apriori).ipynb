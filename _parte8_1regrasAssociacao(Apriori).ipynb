{
 "cells": [
  {
   "cell_type": "markdown",
   "metadata": {},
   "source": [
    "<h1> Cardernos de IA - Aprendizagem de Máquina </h1>\n",
    "<h2> Regras de Associação - Parte 1 </h2>\n",
    "<h3> by Ronaldo F. Ramos </h3>\n",
    "\n",
    "Neste caderno mostramos alguns conceitos associados as chamadas Regras de Associação (RA) e também como construí-las a partir de um  conjunto de dados (dataset) utilizando o algoritmo \"A Priori\". RA(s) são utilizadas em sistemas de recomendação, definição de layouts de supermercados e lojas, recomendação de serviços bancários e comerciais, identificação de perfis de usuários de cartão de crédito, etc.  Será mostrado um caso específico de aplicação do algoritmo na solução do problema da cesta do supermercado (market basket analysis) que cobre desde a descoberta dos chamados conjuntos de itens frequentes até a saída final das regras que foram \"mineradas\"."
   ]
  },
  {
   "cell_type": "markdown",
   "metadata": {},
   "source": [
    "<h3>Introdução </h3>\n",
    "Uma regra é uma entidade que relaciona dois elementos chamados de antecedente e consequente na forma de uma implicação material. Normalmente representada na  forma: \n",
    "$$ A \\rightarrow B $$ \n",
    "<br>\n",
    "Onde o termo A representa o conjunto de antecedentes e B o conjunto de consequentes da regra.\n",
    "<br>"
   ]
  },
  {
   "cell_type": "markdown",
   "metadata": {},
   "source": [
    "Em mineração de dados (data mining), as regras são classificadas em dois <b> tipos </b>:\n",
    "<ul>\n",
    "  <li>Regras de Classificação</li>\n",
    "  <li>Regras de Associação</li> \n",
    "</ul>\n",
    "    "
   ]
  },
  {
   "cell_type": "markdown",
   "metadata": {},
   "source": [
    "As <b> Regras de Classificação </b> costumam levar, em seus antecedentes, elementos relacionados aos atributos de objetos dentro de um domínio de estudos, enquanto o consequente relaciona as classes desse domínio. Tratam-se portanto de mecanismos de inferência que classificam ou categorizam um objeto a partir de seus atributos."
   ]
  },
  {
   "cell_type": "markdown",
   "metadata": {},
   "source": [
    "Pegando os exemplos do dataset das flores\\footnote{Iris dataset - Disponível na UCI. Muito usado em cursos e treinamentos na área}, poderíamos construir algumas regras tais quais as que seguem. \n",
    "<figure>\n",
    "  <img src=\"img/regrasIris.png\" alt=\"Trulli\" style=\"width:60%\">\n",
    "    <figcaption><pre> &emsp; Fonte: Barreto, Guilherme. Apostila Reconhecimento de Padrões. DETI-UFC. </pre> </figcaption>\n",
    "</figure>\n"
   ]
  },
  {
   "cell_type": "markdown",
   "metadata": {},
   "source": [
    "Estas regras possuem em seus antecedentes, também chamados de lado esquerdo da regra, as condições de testes sobre os atributos das íris. No caso em análise, os atributos a serem testados são o comprimento da sépala (SL), comprimento da pétala (PL), largura da sépala (SW) e largura da pétala (PW). Um objeto em análise (flor) que possua atributos que casem com os valores colocados nos antecedentes destas regras, poderá ser classificado em uma das seguintes categorias:<b> SETOSA, VERSICOLOR e VIRGÍNICA. \n",
    "</b><br>\n",
    "Estas regras, em conjunto, funcionam como um classificador das iris de acordo com os atributos, que no caso são as dimensões das pétalas e sépalas. Daí receberem o nome de regras de classificação (RC)."
   ]
  },
  {
   "cell_type": "markdown",
   "metadata": {},
   "source": [
    "<b> Regras de Associação </b> são mecanismos de representação do conhecimento que diferem sutilmente das chamadas regras de classificação. Elas também representam uma relação lógica entre os elementos dispostos do lado direito e do lado esquerdo da regra em uma forma semelhante a implicação material da lógica clássica, porém,  ao contrário das regras de classificação, tanto o lado esquerdo quanto o direito da regra possuem apenas atributos."
   ]
  },
  {
   "cell_type": "markdown",
   "metadata": {},
   "source": [
    "Exemplos.\n",
    "\n",
    "$$ \\textbf{SE} \\ casca = \"RUGOSA\" \\ \\textbf{E}  \\ frutaCítrica =\"SIM\"  \\ \\rightarrow  cheiroForte = \"SIM\" $$"
   ]
  },
  {
   "cell_type": "markdown",
   "metadata": {},
   "source": [
    "<table style=\"width:100%,align:left\">\n",
    "    <caption> <h3> Dataset Compras (Transacional) </h3> </caption>\n",
    "  <tr>\n",
    "    <th>Trans.</th>\n",
    "    <th>Maizena</th> \n",
    "    <th>Fralda</th>\n",
    "    <th>Sabão</th>\n",
    "    <th>Cerveja</th>\n",
    "    <th>Arroz</th>  \n",
    "    <th>Suco</th>\n",
    "  </tr>\n",
    "  <tr>\n",
    "    <td>1</td>\n",
    "    <td>S</td> \n",
    "    <td>S</td>\n",
    "    <td>N</td>\n",
    "    <td>N</td>\n",
    "    <td>N</td>\n",
    "    <td>N</td>\n",
    "  </tr>\n",
    "  <tr>\n",
    "    <td>2</td>\n",
    "    <td>N</td> \n",
    "    <td>N</td>\n",
    "    <td>S</td>\n",
    "    <td>S</td>\n",
    "    <td>N</td>\n",
    "    <td>N</td>\n",
    "  </tr>\n",
    "  <tr>\n",
    "    <td>3</td>\n",
    "    <td>N</td> \n",
    "    <td>N</td>\n",
    "    <td>S</td>\n",
    "    <td>N</td>\n",
    "    <td>S</td>\n",
    "    <td>S</td>\n",
    "  </tr>\n",
    "  <tr>\n",
    "    <td>4</td>\n",
    "    <td>S</td> \n",
    "    <td>S</td>\n",
    "    <td>S</td>\n",
    "    <td>N</td>\n",
    "    <td>N</td>\n",
    "    <td>S</td>\n",
    "  </tr>\n",
    "</table>"
   ]
  },
  {
   "cell_type": "markdown",
   "metadata": {},
   "source": [
    "### <h3> Agora, vejamos algumas <b> definições </b> </h3>\n",
    "<br>\n",
    "Dada uma Regra $ \\ \\ \\textit{ESQUERDA} \\ \\ \\rightarrow  \\ \\ \\textit{DIREITA} $ e um dataset com $ \\ \\textbf{N} $ instâncias,  seja: <br>\n",
    "\n",
    "<ul>\n",
    "  <li>$ N_{esq} $</li> O número de instâncias que casam com a parte esquerda da regra \n",
    "  <li>$ N_{dir} $</li> O número de instâncias que casam com a parte direita da regra\n",
    "  <li>$ N_{amb} $</li> O número de instâncias que casam com ambos os lados da regra \n",
    "\n",
    "</ul>"
   ]
  },
  {
   "cell_type": "markdown",
   "metadata": {},
   "source": [
    "Podemos definir os seguintes termos que serão úteis mais na frente quando tratarmos de medida de qualidade ou de interesse das regras de associação. <br>\n",
    "<h3> Confiança, Acuracidade ou Confiabilidade  </h3> <br>\n",
    "Proporção entre o número de instâncias que casam ambos os lados em relação aos que casam apenas o lado esquerdo. $ conf(A \\rightarrow B) = N_{(A \\rightarrow B)} / N_{A}$"
   ]
  },
  {
   "cell_type": "code",
   "execution_count": 1,
   "metadata": {},
   "outputs": [
    {
     "data": {
      "text/plain": [
       "0.3333333333333333"
      ]
     },
     "execution_count": 1,
     "metadata": {},
     "output_type": "execute_result"
    }
   ],
   "source": [
    "#Fazendo alguns cálculos usando o Dataset compras\n",
    "#qual a confiança para a regra (SABAO -> CERVEJA)?\n",
    "Nesq = 3 # transações 2,3 e 4\n",
    "Namb = 1 # transação 2\n",
    "#logo \n",
    "conf = Namb/Nesq\n",
    "conf"
   ]
  },
  {
   "cell_type": "markdown",
   "metadata": {},
   "source": [
    "<h3> Suporte </h3>\n",
    "Proporção entre as instâncias que casam ambos os lados com o total. $N_{amb} / N$. Tecnicamente o suporte é uma proporção entre um conjunto de regras consideradas e o total. Ex. $Sup(A)= N_A /N$ ou $ Sup(A \\rightarrow B) = N_{A \\rightarrow B}/N $"
   ]
  },
  {
   "cell_type": "code",
   "execution_count": 2,
   "metadata": {},
   "outputs": [
    {
     "data": {
      "text/plain": [
       "0.25"
      ]
     },
     "execution_count": 2,
     "metadata": {},
     "output_type": "execute_result"
    }
   ],
   "source": [
    "# Qual o suporte para a regra (SABAO -> CERVEJA)?\n",
    "# total\n",
    "N=4\n",
    "Namb = 1 # transação 2\n",
    "sup = Namb/N\n",
    "sup"
   ]
  },
  {
   "cell_type": "markdown",
   "metadata": {},
   "source": [
    "<h3> Completude </h3>\n",
    "Proporção entre as instâncias que casam ambos os lados com e as regras que casam o lado direito. $ N_{amb} / N_{dir}$ <br>\n",
    "$Completude (A \\rightarrow B) = N_{A \\rightarrow B} / N_{A} $"
   ]
  },
  {
   "cell_type": "code",
   "execution_count": 3,
   "metadata": {},
   "outputs": [
    {
     "data": {
      "text/plain": [
       "1.0"
      ]
     },
     "execution_count": 3,
     "metadata": {},
     "output_type": "execute_result"
    }
   ],
   "source": [
    "# qual a completude da regra (SABÃO -> CERVEJA)?\n",
    "Namb = 1 #transação 2\n",
    "Ndir = 1 #transação 2\n",
    "comp = Namb/Ndir\n",
    "comp"
   ]
  },
  {
   "cell_type": "markdown",
   "metadata": {},
   "source": [
    "<h3> Lift, elevação ou Aperfeiçoamento </h3> \n",
    "Mede a correlação entre ambos os lados de um conjunto de regras. <br>\n",
    "Seja a regra $ \\textbf{A} : \\textbf{(X)} \\rightarrow \\textbf{(Y)} $ \n",
    "onde $ \\textbf{(X)} $ e $ \\textbf{(Y)} $ são conjuntos de atributos. $ \\textbf{X} : (a,b,c,d...) \\ e \\ \\textbf{Y} : (x,y,z,k,w,...) $ <br>  \n",
    "$ lift((\\textbf{X}) \\rightarrow (\\textbf{Y})) =    \\displaystyle \\frac{Sup((\\textbf{X}) \\rightarrow (\\textbf{Y}))}{Sup(\\textbf{X}) * Sup(\\textbf{Y})}  $ <br>\n",
    "Obs. $Lift > 1$ implica em correlação positiva."
   ]
  },
  {
   "cell_type": "code",
   "execution_count": 4,
   "metadata": {},
   "outputs": [
    {
     "data": {
      "text/plain": [
       "1.3333333333333333"
      ]
     },
     "execution_count": 4,
     "metadata": {},
     "output_type": "execute_result"
    }
   ],
   "source": [
    "#Qual o lift de SABAO->CERVEJA ?\n",
    "lift = 1/4/(3/4*1/4)\n",
    "lift"
   ]
  },
  {
   "cell_type": "markdown",
   "metadata": {},
   "source": [
    "<h3> Algoritmo A PRIORI <h3>"
   ]
  },
  {
   "cell_type": "code",
   "execution_count": 5,
   "metadata": {},
   "outputs": [],
   "source": [
    "#Seja um conjunto de itens de supermercado(por exemplo, mas pode ser de uma livraria, etc)\n",
    "itens = [1,2,3,4,5] # poderiam ser [\"arroz\",feijão,...]"
   ]
  },
  {
   "cell_type": "code",
   "execution_count": 6,
   "metadata": {},
   "outputs": [],
   "source": [
    "#Vamos precisar da itertools\n",
    "import itertools as it"
   ]
  },
  {
   "cell_type": "code",
   "execution_count": 7,
   "metadata": {},
   "outputs": [
    {
     "name": "stdout",
     "output_type": "stream",
     "text": [
      "[(1,), (2,), (3,), (4,), (5,)]\n",
      "[(1, 2), (1, 3), (1, 4), (1, 5), (2, 3), (2, 4), (2, 5), (3, 4), (3, 5), (4, 5)]\n",
      "[(1, 2, 3), (1, 2, 4), (1, 2, 5), (1, 3, 4), (1, 3, 5), (1, 4, 5), (2, 3, 4), (2, 3, 5), (2, 4, 5), (3, 4, 5)]\n"
     ]
    }
   ],
   "source": [
    "#testando a itertools\n",
    "print(list(it.combinations(itens,1)))\n",
    "print(list(it.combinations(itens,2)))\n",
    "print(list(it.combinations(itens,3)))"
   ]
  },
  {
   "cell_type": "markdown",
   "metadata": {},
   "source": [
    "A itertools faz as combinações que precisamos."
   ]
  },
  {
   "cell_type": "code",
   "execution_count": 8,
   "metadata": {},
   "outputs": [],
   "source": [
    "#Seja um dataset\n",
    "dataset = [[1,3,4],[2,3,5],[1,2,3,5],[2,5],[1,3,5]]"
   ]
  },
  {
   "cell_type": "code",
   "execution_count": 9,
   "metadata": {},
   "outputs": [
    {
     "data": {
      "text/plain": [
       "[[1, 3, 4], [2, 3, 5], [1, 2, 3, 5], [2, 5], [1, 3, 5]]"
      ]
     },
     "execution_count": 9,
     "metadata": {},
     "output_type": "execute_result"
    }
   ],
   "source": [
    "dataset"
   ]
  },
  {
   "cell_type": "markdown",
   "metadata": {},
   "source": [
    "<table style=\"width:100%,align:left\">\n",
    "    <caption> <h3> Dataset Compras (Transacional) </h3> </caption>\n",
    "  <tr>\n",
    "    <th>TID</th>\n",
    "    <th>1</th> \n",
    "    <th>2</th>\n",
    "    <th>3</th>\n",
    "    <th>4</th>\n",
    "    <th>5</th>  \n",
    "  </tr>\n",
    "  <tr>\n",
    "    <td>1</td>\n",
    "    <td>S</td> \n",
    "    <td>N</td>\n",
    "    <td>S</td>\n",
    "    <td>S</td>\n",
    "    <td>N</td>\n",
    "  </tr>\n",
    "  <tr>\n",
    "    <td>2</td>\n",
    "    <td>N</td> \n",
    "    <td>S</td>\n",
    "    <td>S</td>\n",
    "    <td>N</td>\n",
    "    <td>S</td>\n",
    "  </tr>\n",
    "  <tr>\n",
    "    <td>3</td>\n",
    "    <td>S</td> \n",
    "    <td>S</td>\n",
    "    <td>S</td>\n",
    "    <td>N</td>\n",
    "    <td>S</td>\n",
    "  </tr>\n",
    "  <tr>\n",
    "    <td>4</td>\n",
    "    <td>N</td> \n",
    "    <td>S</td>\n",
    "    <td>N</td>\n",
    "    <td>N</td>\n",
    "    <td>S</td>\n",
    "  </tr>\n",
    "  <tr>\n",
    "    <td>5</td>\n",
    "    <td>S</td> \n",
    "    <td>N</td>\n",
    "    <td>S</td>\n",
    "    <td>N</td>\n",
    "    <td>S</td>\n",
    "  </tr>\n",
    "</table>"
   ]
  },
  {
   "cell_type": "markdown",
   "metadata": {},
   "source": [
    "Trata-se de um dataset onde cada linha é uma transação, ou seja, um conjunto específico de compras ou uma cesta."
   ]
  },
  {
   "cell_type": "code",
   "execution_count": 10,
   "metadata": {},
   "outputs": [
    {
     "data": {
      "text/plain": [
       "[1, 2, 3, 4, 5]"
      ]
     },
     "execution_count": 10,
     "metadata": {},
     "output_type": "execute_result"
    }
   ],
   "source": [
    "# vamos criar uma função para retirar os itens do proprio dataset. Desta forma evitamos inconsistências\n",
    "def capturaItens(lista):\n",
    "    itens =[]\n",
    "    for i in lista:\n",
    "        for j in i:\n",
    "            if j not in itens: itens.append(j)\n",
    "    itens.sort()\n",
    "    return itens\n",
    "\n",
    "#testando\n",
    "capturaItens(dataset)"
   ]
  },
  {
   "cell_type": "code",
   "execution_count": 11,
   "metadata": {},
   "outputs": [
    {
     "data": {
      "text/plain": [
       "[[1], [2], [3], [4], [5]]"
      ]
     },
     "execution_count": 11,
     "metadata": {},
     "output_type": "execute_result"
    }
   ],
   "source": [
    "#Vamos agora criar função para gerar nosso primeira proposição de conjuntos de itens frequentes C1\n",
    "def geraC1(dataset):\n",
    "    return [list(i) for i in it.combinations(capturaItens(dataset),1)]\n",
    "\n",
    "#testando\n",
    "geraC1(dataset)"
   ]
  },
  {
   "cell_type": "code",
   "execution_count": 12,
   "metadata": {},
   "outputs": [
    {
     "data": {
      "text/plain": [
       "[[1, 2],\n",
       " [1, 3],\n",
       " [1, 4],\n",
       " [1, 5],\n",
       " [2, 3],\n",
       " [2, 4],\n",
       " [2, 5],\n",
       " [3, 4],\n",
       " [3, 5],\n",
       " [4, 5]]"
      ]
     },
     "execution_count": 12,
     "metadata": {},
     "output_type": "execute_result"
    }
   ],
   "source": [
    "#Agora vamos definir um conjunto de itens frequentes a partir de um anterior ja criado (Passo k)\n",
    "def geraCk(Ca,k):\n",
    "    itens = []\n",
    "    for i in Ca:\n",
    "        for j in i:\n",
    "            if j not in itens: itens.append(j)\n",
    "    return [list(i) for i in it.combinations(itens,k)]\n",
    "\n",
    "#testando\n",
    "geraCk(geraC1(dataset),2)"
   ]
  },
  {
   "cell_type": "code",
   "execution_count": 13,
   "metadata": {},
   "outputs": [
    {
     "name": "stdout",
     "output_type": "stream",
     "text": [
      "True\n",
      "True\n",
      "False\n",
      "False\n",
      "True\n",
      "True\n"
     ]
    }
   ],
   "source": [
    "#Vamos criar uma função auxiliar para verificar se um conjunto é subconjunto de outro \n",
    "def isSubset(a,b):\n",
    "    res = True\n",
    "    for i in a:\n",
    "        cont = 0\n",
    "        for j in i:\n",
    "            for z in b:\n",
    "                if len(z)<len(i): continue\n",
    "                if j in z: \n",
    "                    cont+=1\n",
    "                    break\n",
    "        if cont != len(i):\n",
    "            return False\n",
    "    return True\n",
    "\n",
    "#Testando\n",
    "print(isSubset([[1],[1,3]],[[1,4,2],[3,1,4]]))\n",
    "print(isSubset([[]],[[1]]))\n",
    "print(isSubset([[1,2,3,4],[1,2,3]],[[1],[2]]))\n",
    "print(isSubset([[1,2,3,4],[1,2,3]],[[1],[2],[3],[4]]))\n",
    "print(isSubset([[1,2,3,4],[1,2,3]],[[1,2,3,4],[1]]))\n",
    "print(isSubset([[1]],[[1,3],[1,2,3],[1],[1,3,4],[3],[1,2],[1,2,3,4]]))\n"
   ]
  },
  {
   "cell_type": "markdown",
   "metadata": {},
   "source": [
    "Parece que está funcionando"
   ]
  },
  {
   "cell_type": "code",
   "execution_count": 14,
   "metadata": {},
   "outputs": [
    {
     "name": "stdout",
     "output_type": "stream",
     "text": [
      "[1, 4]\n",
      "[3]\n",
      "[1, 2, 1, 3, 2]\n"
     ]
    }
   ],
   "source": [
    "# Agora vamos definir uma função para calcular o suporte de um conjunto, regra ou elemento\n",
    "def geraSuporte(lista,dataset):\n",
    "    sup = []\n",
    "    for i in lista:\n",
    "        s = 0\n",
    "        for j in dataset:\n",
    "            if isSubset([i],[j]):\n",
    "                s+=1\n",
    "        sup.append(s)\n",
    "    return sup\n",
    "\n",
    "#testando\n",
    "print(geraSuporte([[1,2],[3]],dataset))\n",
    "print(geraSuporte([[1]],dataset))\n",
    "print(geraSuporte(dataset,dataset))"
   ]
  },
  {
   "cell_type": "code",
   "execution_count": 15,
   "metadata": {},
   "outputs": [
    {
     "data": {
      "text/plain": [
       "[[2, 3], [1, 2, 3]]"
      ]
     },
     "execution_count": 15,
     "metadata": {},
     "output_type": "execute_result"
    }
   ],
   "source": [
    "# Agora vamos criar uma função auxiliar para remver elementos com suporte abaixo do minimo\n",
    "def filtraSuporte(c,dataset,smin):\n",
    "    ls = geraSuporte(c,dataset)\n",
    "    cl = []\n",
    "    for i in range(len(c)):\n",
    "        if ls[i] >= smin:\n",
    "            cl.append(c[i])\n",
    "    return cl\n",
    "\n",
    "#testando\n",
    "filtraSuporte([[2,3],[1,2,3],[1,4,5]],dataset,1)"
   ]
  },
  {
   "cell_type": "code",
   "execution_count": 16,
   "metadata": {},
   "outputs": [
    {
     "data": {
      "text/plain": [
       "[[1, 2, 3]]"
      ]
     },
     "execution_count": 16,
     "metadata": {},
     "output_type": "execute_result"
    }
   ],
   "source": [
    "#Agora temos a função para eliminar os conjuntos cujos subconjuntos não são itens frequentes\n",
    "def filtraSubConjuntos(c,l,k):\n",
    "    cl = []\n",
    "    for ec in c:\n",
    "        ckl = geraCk([ec],k)\n",
    "        inc = True\n",
    "        for i in ckl:\n",
    "            if not isSubset([i],l):\n",
    "                inc = False\n",
    "                break\n",
    "        if inc == True and ec not in cl:cl.append(ec) \n",
    "    return cl\n",
    "#testando\n",
    "filtraSubConjuntos([[1,2,3],[1,3,4],[2,3,5]],[[1,2],[1,3],[2,3]],2)"
   ]
  },
  {
   "cell_type": "code",
   "execution_count": 17,
   "metadata": {},
   "outputs": [
    {
     "data": {
      "text/plain": [
       "[[1, 3, 5], [3, 5, 2]]"
      ]
     },
     "execution_count": 17,
     "metadata": {},
     "output_type": "execute_result"
    }
   ],
   "source": [
    "#Algoritmo A Priori propriamente dito\n",
    "def apriori(dataset,smin):\n",
    "    l = []\n",
    "    k = 2\n",
    "    c1c = geraC1(dataset)\n",
    "    c1 = filtraSuporte(c1c,dataset,smin)\n",
    "    l.append(c1)\n",
    "    while len(l[k-2])!=0:\n",
    "        ck = geraCk(l[k-2],k)\n",
    "        ckl = filtraSubConjuntos(ck,l[k-2],k-1)\n",
    "        cklb = filtraSuporte(ckl,dataset,smin)\n",
    "        k += 1\n",
    "        l.append(cklb)\n",
    "    ultimo = len(l)-1\n",
    "    while l[ultimo] == []: ultimo -= 1\n",
    "    return l[ultimo]\n",
    "\n",
    "#testando\n",
    "apriori(dataset,2)\n"
   ]
  },
  {
   "cell_type": "markdown",
   "metadata": {},
   "source": [
    "Ainda não acabou..."
   ]
  },
  {
   "cell_type": "code",
   "execution_count": 18,
   "metadata": {},
   "outputs": [
    {
     "data": {
      "text/plain": [
       "[[(1,), (3, 5)],\n",
       " [(1, 3), (5,)],\n",
       " [(1, 5), (3,)],\n",
       " [(3,), (1, 5)],\n",
       " [(3, 5), (1,)],\n",
       " [(5,), (1, 3)],\n",
       " [(3,), (5, 2)],\n",
       " [(3, 5), (2,)],\n",
       " [(3, 2), (5,)],\n",
       " [(5,), (3, 2)],\n",
       " [(5, 2), (3,)],\n",
       " [(2,), (3, 5)]]"
      ]
     },
     "execution_count": 18,
     "metadata": {},
     "output_type": "execute_result"
    }
   ],
   "source": [
    "#Agora vamos definir as regras a partir dos cifs\n",
    "def defineRegras(cif):\n",
    "    regras =[]\n",
    "    for i in cif:\n",
    "        ci = it.permutations(i,len(i))\n",
    "        for i in ci:\n",
    "            for j in range(1,len(i)):\n",
    "                r = i[:j]\n",
    "                l = i[j:]\n",
    "                regras.append([r,l])\n",
    "    dup =[]\n",
    "    for i in range(len(regras)):\n",
    "        for j in range(i,len(regras)):\n",
    "            if i == j: continue\n",
    "            if sorted(regras[i][0]) == sorted(regras[j][0]) and sorted(regras[i][1]) == sorted(regras[j][1]):\n",
    "                dup.append(j) \n",
    "    #print(\"duplicadas {} \".format(dup))\n",
    "    for i in reversed(sorted(dup)):\n",
    "        del regras[i]\n",
    "    return regras\n",
    "\n",
    "#testando\n",
    "defineRegras([[1,3,5],[3,5,2]])"
   ]
  },
  {
   "cell_type": "code",
   "execution_count": 19,
   "metadata": {},
   "outputs": [
    {
     "name": "stdout",
     "output_type": "stream",
     "text": [
      "[(1,), (3, 5)] : (0.4, 0.6666666666666666, 1.1111111111111112)\n",
      "[(1, 3), (5,)] : (0.4, 0.6666666666666666, 0.8333333333333334)\n",
      "[(1, 5), (3,)] : (0.4, 1.0, 1.2499999999999998)\n",
      "[(3,), (1, 5)] : (0.4, 0.5, 1.2499999999999998)\n",
      "[(3, 5), (1,)] : (0.4, 0.6666666666666666, 1.1111111111111112)\n",
      "[(5,), (1, 3)] : (0.4, 0.5, 0.8333333333333334)\n",
      "[(3,), (5, 2)] : (0.4, 0.5, 0.8333333333333334)\n",
      "[(3, 5), (2,)] : (0.4, 0.6666666666666666, 1.1111111111111112)\n",
      "[(3, 2), (5,)] : (0.4, 1.0, 1.2499999999999998)\n",
      "[(5,), (3, 2)] : (0.4, 0.5, 1.2499999999999998)\n",
      "[(5, 2), (3,)] : (0.4, 0.6666666666666666, 0.8333333333333334)\n",
      "[(2,), (3, 5)] : (0.4, 0.6666666666666666, 1.1111111111111112)\n"
     ]
    }
   ],
   "source": [
    "# Agora vamos calcular os suporte,confiança e lift das regras\n",
    "def calcParam(regra,dataset):\n",
    "    r = regra[1]\n",
    "    l = regra[0]\n",
    "    N = len(dataset)\n",
    "    Nesq,Ndir,Namb = geraSuporte([l,r,r+l],dataset)\n",
    "    #print(\"Calculando \",regra,Nesq,Ndir,Namb)\n",
    "    sup = Namb/N\n",
    "    conf = Namb/Nesq\n",
    "    supd = Ndir/N\n",
    "    supe = Nesq/N\n",
    "    lift = sup/(supd*supe)\n",
    "    return sup,conf,lift\n",
    "\n",
    "#testando\n",
    "for i in [[(1,), (3, 5)],[(1, 3), (5,)],[(1, 5), (3,)],[(3,), (1, 5)], \\\n",
    "                 [(3, 5), (1,)],[(5,), (1, 3)],[(3,), (5, 2)],[(3, 5), (2,)], \\\n",
    "                 [(3, 2), (5,)],[(5,), (3, 2)],[(5, 2), (3,)],[(2,), (3, 5)]]: \n",
    "    print(i,\":\",calcParam(i,dataset))"
   ]
  },
  {
   "cell_type": "code",
   "execution_count": 20,
   "metadata": {},
   "outputs": [
    {
     "data": {
      "text/plain": [
       "[[(1,), (3, 5)],\n",
       " 1.1111111111111112,\n",
       " [(1, 5), (3,)],\n",
       " 1.2499999999999998,\n",
       " [(3,), (1, 5)],\n",
       " 1.2499999999999998,\n",
       " [(3, 5), (1,)],\n",
       " 1.1111111111111112,\n",
       " [(3, 5), (2,)],\n",
       " 1.1111111111111112,\n",
       " [(3, 2), (5,)],\n",
       " 1.2499999999999998,\n",
       " [(5,), (3, 2)],\n",
       " 1.2499999999999998,\n",
       " [(2,), (3, 5)],\n",
       " 1.1111111111111112]"
      ]
     },
     "execution_count": 20,
     "metadata": {},
     "output_type": "execute_result"
    }
   ],
   "source": [
    "#Agora vamos selecionar apenas as regras que apresentarem valores minimos de confiança,suporte e lift\n",
    "def filtraRegras(regras,dataset,smin = 2/5,cmin = 0.5 ,lmin = 1):\n",
    "    #print(\"filtrando as regras \",end=\"....\")\n",
    "    res = []\n",
    "    for regra in regras:\n",
    "        #print(regra,end = \"....\")\n",
    "        s,c,l = calcParam(regra,dataset)\n",
    "        if s < smin or c < cmin or l < lmin:\n",
    "            #print(\"descartada \",s,smin,c,cmin,l,lmin)\n",
    "            continue\n",
    "        else:\n",
    "            #print(\"aceita\")\n",
    "            res.append(regra)\n",
    "            res.append(l)\n",
    "    return res\n",
    "\n",
    "#testando\n",
    "filtraRegras([[(1,), (3, 5)],[(1, 3), (5,)],[(1, 5), (3,)],[(3,), (1, 5)],[(3, 5), (1,)],[(5,), (1, 3)],\n",
    " [(3,), (5, 2)],[(3, 5), (2,)],[(3, 2), (5,)],[(5,), (3, 2)],[(5, 2), (3,)],[(2,), (3, 5)]],dataset)"
   ]
  },
  {
   "cell_type": "code",
   "execution_count": 21,
   "metadata": {},
   "outputs": [
    {
     "data": {
      "text/plain": [
       "[[(1,), (3, 5)],\n",
       " 1.1111111111111112,\n",
       " [(1, 3), (5,)],\n",
       " 0.8333333333333334,\n",
       " [(1, 5), (3,)],\n",
       " 1.2499999999999998,\n",
       " [(3, 5), (1,)],\n",
       " 1.1111111111111112,\n",
       " [(3, 5), (2,)],\n",
       " 1.1111111111111112,\n",
       " [(3, 2), (5,)],\n",
       " 1.2499999999999998,\n",
       " [(5, 2), (3,)],\n",
       " 0.8333333333333334,\n",
       " [(2,), (3, 5)],\n",
       " 1.1111111111111112]"
      ]
     },
     "execution_count": 21,
     "metadata": {},
     "output_type": "execute_result"
    }
   ],
   "source": [
    "##### tudo junto\n",
    "dataset = [[1,3,4],[2,3,5],[1,2,3,5],[2,5],[1,3,5]]\n",
    "cif = apriori(dataset,2)\n",
    "regras = defineRegras(cif)\n",
    "filtraRegras(regras,dataset,smin = 2/5,cmin = 0.6 ,lmin =0.8)"
   ]
  },
  {
   "cell_type": "markdown",
   "metadata": {},
   "source": [
    "Agora vamos testar com outros dados. Usando a API de testes do Python."
   ]
  },
  {
   "cell_type": "code",
   "execution_count": 22,
   "metadata": {},
   "outputs": [
    {
     "name": "stdout",
     "output_type": "stream",
     "text": [
      "[[0, 1], [2], [3, 2], [3], [3, 2], [4, 3, 2, 1], [2], [4, 3, 2, 1], [1], [3, 2]]\n"
     ]
    }
   ],
   "source": [
    "#dados de testen \n",
    "\n",
    "# sejam os itens de um cardapio de restaurante\n",
    "\n",
    "items= [\"salada\",\"arroz\",\"fritas\",\"file a parmegiana\",\"feijao\"]\n",
    "indices = [0,1,2,3,4]\n",
    "\n",
    "# Supondo um conjunto com 8 itens trasacionados na forma que segue: (Cada sublista é uma transação)\n",
    "transacoes = [[\"salada\",\"arroz\"],[\"fritas\"],[\"file a parmegiana\",\"fritas\"],[\"file a parmegiana\"],[\"file a parmegiana\",\"fritas\"],\\\n",
    "            [\"feijao\",\"file a parmegiana\",\"fritas\",\"arroz\"],[\"fritas\"],[\"feijao\",\"file a parmegiana\",\"fritas\",\"arroz\"], \\\n",
    "           [\"arroz\"],[\"file a parmegiana\",\"fritas\"]]\n",
    "\n",
    "#conversao numerica\n",
    "dstestes = []\n",
    "for i in transacoes:\n",
    "    tmp = []\n",
    "    for j in i:\n",
    "        tmp.append(items.index(j))\n",
    "    dstestes.append(tmp)\n",
    "print(dstestes)\n",
    "\n",
    "# o conjunto C1 sera\n",
    "c1test = [[\"salada\"], [\"arroz\"], [\"fritas\"], [\"file a parmegiana\"],[\"feijao\"]]\n",
    "\n",
    "# suporrte minimo para teste\n",
    "sminT = 4  # Valor absoluto\n",
    "\n",
    "#confianca minima\n",
    "cminT = 0.8\n",
    "\n",
    "#lift minimo\n",
    "lminT = 1\n",
    "\n",
    "# o conjunto c3 sem filtro \n",
    "c3test = [1,2,3]\n",
    "\n",
    "# resultado do apriori\n",
    "resApr = [[1,2],[1,3]]"
   ]
  },
  {
   "cell_type": "code",
   "execution_count": 23,
   "metadata": {},
   "outputs": [
    {
     "name": "stdout",
     "output_type": "stream",
     "text": [
      "Cif obtido [[2, 3]]\n",
      "***Resultado*** \n",
      "file a parmegiana-->fritas\n"
     ]
    }
   ],
   "source": [
    "cif = apriori(dstestes,sminT)\n",
    "print(\"Cif obtido\",cif)\n",
    "regras = defineRegras(cif)\n",
    "regrasFinais = filtraRegras(regras,dstestes,sminT/len(dstestes),cminT ,lminT)\n",
    "print(\"***Resultado*** \")\n",
    "# Converter para string \n",
    "for i in range(0,len(regrasFinais),2):\n",
    "    st = \"\"\n",
    "    l = regrasFinais[i][0]\n",
    "    r = regrasFinais[i][1]\n",
    "    for j in l:\n",
    "        st+=str(items[j])\n",
    "    st+= \"-->\"\n",
    "    for j in r:\n",
    "        st+=str(items[j])\n",
    "    print(st)"
   ]
  },
  {
   "cell_type": "markdown",
   "metadata": {},
   "source": [
    "<h2> Boa Sorte com o Apriori </h2> Fortaleza, Janeiro de 2018"
   ]
  },
  {
   "cell_type": "code",
   "execution_count": null,
   "metadata": {},
   "outputs": [],
   "source": []
  }
 ],
 "metadata": {
  "kernelspec": {
   "display_name": "Python 3",
   "language": "python",
   "name": "python3"
  },
  "language_info": {
   "codemirror_mode": {
    "name": "ipython",
    "version": 3
   },
   "file_extension": ".py",
   "mimetype": "text/x-python",
   "name": "python",
   "nbconvert_exporter": "python",
   "pygments_lexer": "ipython3",
   "version": "3.6.6"
  }
 },
 "nbformat": 4,
 "nbformat_minor": 2
}
