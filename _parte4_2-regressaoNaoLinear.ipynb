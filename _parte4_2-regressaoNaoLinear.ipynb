{
 "cells": [
  {
   "cell_type": "markdown",
   "metadata": {},
   "source": [
    "<h1> Vamos dar um passada pelas técnicas de regressão </h1>"
   ]
  },
  {
   "cell_type": "markdown",
   "metadata": {},
   "source": [
    "<h2> 1. Regressão Não Linear <h2>"
   ]
  },
  {
   "cell_type": "code",
   "execution_count": 2,
   "metadata": {
    "collapsed": true
   },
   "outputs": [],
   "source": [
    "%matplotlib inline"
   ]
  },
  {
   "cell_type": "code",
   "execution_count": 3,
   "metadata": {
    "collapsed": true
   },
   "outputs": [],
   "source": [
    "import matplotlib.pyplot as plt\n",
    "import numpy as np "
   ]
  },
  {
   "cell_type": "code",
   "execution_count": 4,
   "metadata": {},
   "outputs": [],
   "source": [
    "#seja o valor de X\n",
    "X = np.array([5,6,7,8,9,10,11,12,13,14,15])\n",
    "Y = np.array([8,11,10,11,13,14,20,21,30,35,47])\n"
   ]
  },
  {
   "cell_type": "code",
   "execution_count": 5,
   "metadata": {},
   "outputs": [
    {
     "name": "stdout",
     "output_type": "stream",
     "text": [
      "(5,8), (6,11), (7,10), (8,11), (9,13), (10,14), (11,20), (12,21), (13,30), (14,35), (15,47), "
     ]
    }
   ],
   "source": [
    "for i,j in zip(X,Y): print(\"({},{})\".format(i,j),end=\", \")"
   ]
  },
  {
   "cell_type": "code",
   "execution_count": 6,
   "metadata": {},
   "outputs": [
    {
     "data": {
      "image/png": "[encoded data removed]",
      "text/plain": [
       "<matplotlib.figure.Figure at 0x10c94cba8>"
      ]
     },
     "metadata": {},
     "output_type": "display_data"
    }
   ],
   "source": [
    "plt.scatter(X,Y)\n",
    "plt.show()"
   ]
  },
  {
   "cell_type": "code",
   "execution_count": 49,
   "metadata": {
    "collapsed": true
   },
   "outputs": [],
   "source": [
    "# Vamos tentar aproximá-la por uma função exponencial usando regressão \"não linear\"\n",
    "# y = b * eˆ{ax}\n",
    "# ou\n",
    "# ln y = ln b + ax\n",
    "# o x continua, mas vamos transformar o Y\n",
    "ylin = np.log(y)"
   ]
  },
  {
   "cell_type": "code",
   "execution_count": 50,
   "metadata": {},
   "outputs": [
    {
     "data": {
      "text/plain": [
       "array([ 2.13892939,  2.24936247,  2.37533382,  2.51681351,  2.67330249,\n",
       "        2.84389107,  3.02735845,  3.22229146,  3.427201  ,  3.64061976,\n",
       "        3.86117344])"
      ]
     },
     "execution_count": 50,
     "metadata": {},
     "output_type": "execute_result"
    }
   ],
   "source": [
    "ylin"
   ]
  },
  {
   "cell_type": "code",
   "execution_count": 51,
   "metadata": {
    "collapsed": true
   },
   "outputs": [],
   "source": [
    "# nossa função de regressão linear\n",
    "def regressaoLinear(x,y):\n",
    "    n = len(x)\n",
    "    if n != len(y): raise Exception(\"Impossivel. Tamanhos diferentes \")\n",
    "    mediaX,mediaY = sum(x)/n,sum(y)/n\n",
    "    somas1 = sum([i*j for i,j in zip(x,y)])\n",
    "    somas2 = sum([i**2 for i in x])\n",
    "    sxy = somas1 - n * mediaX * mediaY\n",
    "    sxx = somas2 - n * mediaX**2\n",
    "    a = sxy / sxx\n",
    "    b = mediaY - a * mediaX\n",
    "    return a,b"
   ]
  },
  {
   "cell_type": "code",
   "execution_count": 53,
   "metadata": {
    "collapsed": true
   },
   "outputs": [],
   "source": [
    "a,blin = regressaoLinear(X,ylin)"
   ]
  },
  {
   "cell_type": "code",
   "execution_count": 54,
   "metadata": {
    "collapsed": true
   },
   "outputs": [],
   "source": [
    "# lembremos que blin = ln b\n",
    "# entao \n",
    "b = np.exp(blin)"
   ]
  },
  {
   "cell_type": "code",
   "execution_count": 55,
   "metadata": {},
   "outputs": [
    {
     "data": {
      "text/plain": [
       "3.2247512742984243"
      ]
     },
     "execution_count": 55,
     "metadata": {},
     "output_type": "execute_result"
    }
   ],
   "source": [
    "b"
   ]
  },
  {
   "cell_type": "code",
   "execution_count": 56,
   "metadata": {
    "collapsed": true
   },
   "outputs": [],
   "source": [
    "# Agora vamos traçar a nossa curva\n",
    "Yhat = b * np.exp(a * X)"
   ]
  },
  {
   "cell_type": "code",
   "execution_count": 57,
   "metadata": {},
   "outputs": [
    {
     "data": {
      "image/png": "[encoded data removed]",
      "text/plain": [
       "<matplotlib.figure.Figure at 0x1140f6080>"
      ]
     },
     "metadata": {},
     "output_type": "display_data"
    }
   ],
   "source": [
    "plt.scatter(X,Y)\n",
    "plt.plot(X,Yhat)\n",
    "plt.show()"
   ]
  },
  {
   "cell_type": "markdown",
   "metadata": {},
   "source": [
    "# Resumindo:\n",
    "# Encontre uma boa função não linear\n",
    "# Linearize o modelo\n",
    "# Aplique os métodos já estudados e boa sorte\n",
    "\n",
    "\n",
    "\n"
   ]
  },
  {
   "cell_type": "markdown",
   "metadata": {},
   "source": [
    "<h1> Regressão Logística </h1>"
   ]
  },
  {
   "cell_type": "code",
   "execution_count": 7,
   "metadata": {
    "collapsed": true
   },
   "outputs": [],
   "source": [
    "# Seja o dataset kitesurf\n",
    "# temperatura,humidade,velocidade do vento, Navegar(classe= SIM(1),NAO(0))"
   ]
  },
  {
   "cell_type": "code",
   "execution_count": 8,
   "metadata": {
    "collapsed": true
   },
   "outputs": [],
   "source": [
    "dskite = np.array([[38,99,10,0],\n",
    "[37,95,80,1],\n",
    "[36,90,20,0],\n",
    "[28,90,30,0],\n",
    "[25,60,40,1],\n",
    "[25,65,60,1],\n",
    "[25,64,70,1],\n",
    "[28,89,34,0],\n",
    "[26,65,33,0],\n",
    "[28,64,32,0],\n",
    "[29,67,80,1],\n",
    "[27,93,70,1],\n",
    "[39,64,25,0],\n",
    "[32,88,63,1]])"
   ]
  },
  {
   "cell_type": "code",
   "execution_count": 11,
   "metadata": {},
   "outputs": [
    {
     "name": "stdout",
     "output_type": "stream",
     "text": [
      "38 & 99 & 10 & 0  \\\\ \\hline\n",
      "37 & 95 & 80 & 1  \\\\ \\hline\n",
      "36 & 90 & 20 & 0  \\\\ \\hline\n",
      "28 & 90 & 30 & 0  \\\\ \\hline\n",
      "25 & 60 & 40 & 1  \\\\ \\hline\n",
      "25 & 65 & 60 & 1  \\\\ \\hline\n",
      "25 & 64 & 70 & 1  \\\\ \\hline\n",
      "28 & 89 & 34 & 0  \\\\ \\hline\n",
      "26 & 65 & 33 & 0  \\\\ \\hline\n",
      "28 & 64 & 32 & 0  \\\\ \\hline\n",
      "29 & 67 & 80 & 1  \\\\ \\hline\n",
      "27 & 93 & 70 & 1  \\\\ \\hline\n",
      "39 & 64 & 25 & 0  \\\\ \\hline\n",
      "32 & 88 & 63 & 1  \\\\ \\hline\n"
     ]
    }
   ],
   "source": [
    "for i in dskite: print(i[0],\"&\",i[1],\"&\",i[2],\"&\",i[3],\" \\\\\\\\ \\hline\")"
   ]
  },
  {
   "cell_type": "code",
   "execution_count": 123,
   "metadata": {
    "collapsed": true
   },
   "outputs": [],
   "source": [
    "X = dskite[:,[0,1,2]]"
   ]
  },
  {
   "cell_type": "code",
   "execution_count": 166,
   "metadata": {
    "collapsed": true
   },
   "outputs": [],
   "source": [
    "Y = dskite[:,[-1]]"
   ]
  },
  {
   "cell_type": "code",
   "execution_count": 167,
   "metadata": {},
   "outputs": [
    {
     "data": {
      "text/plain": [
       "array([[0],\n",
       "       [1],\n",
       "       [0],\n",
       "       [0],\n",
       "       [1],\n",
       "       [1],\n",
       "       [1],\n",
       "       [0],\n",
       "       [0],\n",
       "       [0],\n",
       "       [1],\n",
       "       [1],\n",
       "       [0],\n",
       "       [1]])"
      ]
     },
     "execution_count": 167,
     "metadata": {},
     "output_type": "execute_result"
    }
   ],
   "source": [
    "Y"
   ]
  },
  {
   "cell_type": "code",
   "execution_count": 144,
   "metadata": {
    "collapsed": true
   },
   "outputs": [],
   "source": [
    "#observe que a saida é binária. \n",
    "#Vamos tentar um scatter plot no plato usando uma combinacao linear  dos valores\n",
    "# lebrete g = w0 + w1x1 + w2x2 + w3x3 .... +wnxn\n",
    "\n",
    "w = np.array([2,1,10]) # Maior peso para velocidade do vento - aleatorio\n",
    "Yhat = X.dot(w)\n"
   ]
  },
  {
   "cell_type": "code",
   "execution_count": 147,
   "metadata": {
    "collapsed": true
   },
   "outputs": [],
   "source": [
    "Yhat = 20*(Yhat - Yhat.min())/(Yhat.max() - Yhat.min()) - 10 #Normalizando (-10 a 10)"
   ]
  },
  {
   "cell_type": "code",
   "execution_count": 148,
   "metadata": {},
   "outputs": [
    {
     "data": {
      "text/plain": [
       "array([-10.        ,  10.        ,  -7.49279539,  -5.07204611,\n",
       "        -3.22766571,   2.68011527,   5.53314121,  -3.9481268 ,\n",
       "        -5.04322767,  -5.24495677,   8.73198847,   6.48414986,\n",
       "        -6.62824207,   4.61095101])"
      ]
     },
     "execution_count": 148,
     "metadata": {},
     "output_type": "execute_result"
    }
   ],
   "source": [
    "Yhat\n"
   ]
  },
  {
   "cell_type": "code",
   "execution_count": 149,
   "metadata": {},
   "outputs": [
    {
     "data": {
      "image/png": "[encoded data removed]",
      "text/plain": [
       "<matplotlib.figure.Figure at 0x11410a940>"
      ]
     },
     "metadata": {},
     "output_type": "display_data"
    }
   ],
   "source": [
    "plt.scatter(Yhat,Y)\n",
    "plt.show()"
   ]
  },
  {
   "cell_type": "code",
   "execution_count": 130,
   "metadata": {
    "collapsed": true
   },
   "outputs": [],
   "source": [
    "#\n",
    "#Seja a função logística\n",
    "#\n",
    "def logit(g):\n",
    "    return 1/(1 + np.exp(-g))\n"
   ]
  },
  {
   "cell_type": "code",
   "execution_count": 135,
   "metadata": {
    "collapsed": true
   },
   "outputs": [],
   "source": [
    "#seja \n",
    "x = np.arange(-10,10,0.01)"
   ]
  },
  {
   "cell_type": "code",
   "execution_count": 136,
   "metadata": {},
   "outputs": [
    {
     "data": {
      "text/plain": [
       "array([-10.  ,  -9.99,  -9.98, ...,   9.97,   9.98,   9.99])"
      ]
     },
     "execution_count": 136,
     "metadata": {},
     "output_type": "execute_result"
    }
   ],
   "source": [
    "x"
   ]
  },
  {
   "cell_type": "code",
   "execution_count": 152,
   "metadata": {
    "scrolled": true
   },
   "outputs": [
    {
     "data": {
      "image/png": "[encoded data removed]",
      "text/plain": [
       "<matplotlib.figure.Figure at 0x1143a76a0>"
      ]
     },
     "metadata": {},
     "output_type": "display_data"
    }
   ],
   "source": [
    "plt.plot(x,logit(x))\n",
    "plt.scatter(Yhat,Y)\n",
    "plt.show()"
   ]
  },
  {
   "cell_type": "markdown",
   "metadata": {},
   "source": [
    "<h2> Nosso Problema agora é encontrar os parametros da equação (pesos) de entrada da curva para que\n",
    "a mesma possa classificar corretamente </h2>"
   ]
  },
  {
   "cell_type": "code",
   "execution_count": 154,
   "metadata": {
    "collapsed": true
   },
   "outputs": [],
   "source": [
    "#Para isso = Gradiente Descendente ou usar o sklearn"
   ]
  },
  {
   "cell_type": "code",
   "execution_count": 158,
   "metadata": {},
   "outputs": [
    {
     "data": {
      "text/plain": [
       "array([[38, 99, 10],\n",
       "       [37, 95, 80],\n",
       "       [36, 90, 20],\n",
       "       [28, 90, 30],\n",
       "       [25, 60, 40],\n",
       "       [25, 65, 60],\n",
       "       [25, 64, 70],\n",
       "       [28, 89, 34],\n",
       "       [26, 65, 33],\n",
       "       [28, 64, 32],\n",
       "       [29, 67, 80],\n",
       "       [27, 93, 70],\n",
       "       [39, 64, 25],\n",
       "       [32, 88, 63]])"
      ]
     },
     "execution_count": 158,
     "metadata": {},
     "output_type": "execute_result"
    }
   ],
   "source": [
    "X"
   ]
  },
  {
   "cell_type": "markdown",
   "metadata": {
    "collapsed": true
   },
   "source": []
  },
  {
   "cell_type": "code",
   "execution_count": null,
   "metadata": {
    "collapsed": true
   },
   "outputs": [],
   "source": [
    "from sklearn.linear_model import LogisticRegression\n",
    "clf = LogisticRegression(random_state=0, solver='lbfgs').fit(X, Y.ravel())"
   ]
  },
  {
   "cell_type": "code",
   "execution_count": 173,
   "metadata": {},
   "outputs": [
    {
     "data": {
      "text/plain": [
       "array([0, 1, 0, 0, 1, 1, 1, 0, 0, 0, 1, 1, 0, 1])"
      ]
     },
     "execution_count": 173,
     "metadata": {},
     "output_type": "execute_result"
    }
   ],
   "source": [
    "clf.predict(X)"
   ]
  },
  {
   "cell_type": "code",
   "execution_count": 176,
   "metadata": {},
   "outputs": [
    {
     "data": {
      "text/plain": [
       "array([0, 1, 0, 0, 1, 1, 1, 0, 0, 0, 1, 1, 0, 1])"
      ]
     },
     "execution_count": 176,
     "metadata": {},
     "output_type": "execute_result"
    }
   ],
   "source": [
    "Y.ravel()"
   ]
  },
  {
   "cell_type": "code",
   "execution_count": 177,
   "metadata": {},
   "outputs": [
    {
     "data": {
      "text/plain": [
       "array([[  1.00000000e+00,   8.72260916e-13],\n",
       "       [  1.19923908e-06,   9.99998801e-01],\n",
       "       [  9.99999995e-01,   4.94208880e-09],\n",
       "       [  9.99996037e-01,   3.96271441e-06],\n",
       "       [  7.14369127e-02,   9.28563087e-01],\n",
       "       [  3.60247555e-06,   9.99996398e-01],\n",
       "       [  8.71144168e-09,   9.99999991e-01],\n",
       "       [  9.99947274e-01,   5.27255229e-05],\n",
       "       [  9.54799404e-01,   4.52005960e-02],\n",
       "       [  9.72502614e-01,   2.74973862e-02],\n",
       "       [  1.11736620e-10,   1.00000000e+00],\n",
       "       [  6.12864468e-05,   9.99938714e-01],\n",
       "       [  9.99862834e-01,   1.37166108e-04],\n",
       "       [  1.39004356e-03,   9.98609956e-01]])"
      ]
     },
     "execution_count": 177,
     "metadata": {},
     "output_type": "execute_result"
    }
   ],
   "source": [
    "clf.predict_proba(X) "
   ]
  },
  {
   "cell_type": "code",
   "execution_count": 178,
   "metadata": {},
   "outputs": [
    {
     "data": {
      "text/plain": [
       "1.0"
      ]
     },
     "execution_count": 178,
     "metadata": {},
     "output_type": "execute_result"
    }
   ],
   "source": [
    "clf.score(X, Y)"
   ]
  },
  {
   "cell_type": "markdown",
   "metadata": {},
   "source": [
    "#Regressão Logística é Classificação. = 1 Neurônio de uma rede neural."
   ]
  },
  {
   "cell_type": "code",
   "execution_count": null,
   "metadata": {
    "collapsed": true
   },
   "outputs": [],
   "source": []
  }
 ],
 "metadata": {
  "kernelspec": {
   "display_name": "Python 3",
   "language": "python",
   "name": "python3"
  },
  "language_info": {
   "codemirror_mode": {
    "name": "ipython",
    "version": 3
   },
   "file_extension": ".py",
   "mimetype": "text/x-python",
   "name": "python",
   "nbconvert_exporter": "python",
   "pygments_lexer": "ipython3",
   "version": "3.6.3"
  }
 },
 "nbformat": 4,
 "nbformat_minor": 2
}
