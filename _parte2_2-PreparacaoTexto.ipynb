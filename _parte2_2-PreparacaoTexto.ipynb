{
 "cells": [
  {
   "cell_type": "markdown",
   "metadata": {},
   "source": [
    "<H1> CURSO DE INTRODUÇÃO A MACHINE LEARNING <H2>\n",
    "<h2> Preprocessamento de Texto </h2>"
   ]
  },
  {
   "cell_type": "code",
   "execution_count": 1,
   "metadata": {},
   "outputs": [],
   "source": [
    "%matplotlib inline"
   ]
  },
  {
   "cell_type": "code",
   "execution_count": 2,
   "metadata": {},
   "outputs": [],
   "source": [
    "#IMPORTS \n",
    "\n",
    "#NumPy\n",
    "import numpy as np\n",
    "\n",
    "#matplotlib pyplot\n",
    "import matplotlib.pyplot as plt\n",
    "\n",
    "#taamnho das figuras\n",
    "plt.rcParams['figure.figsize'] = (11,5)\n"
   ]
  },
  {
   "cell_type": "markdown",
   "metadata": {},
   "source": [
    "<h2> Vamos agora processar dados não estruturados </h2>"
   ]
  },
  {
   "cell_type": "code",
   "execution_count": 3,
   "metadata": {},
   "outputs": [],
   "source": [
    "import nltk"
   ]
  },
  {
   "cell_type": "code",
   "execution_count": 4,
   "metadata": {},
   "outputs": [],
   "source": [
    "#nltk.download() uma vez só"
   ]
  },
  {
   "cell_type": "code",
   "execution_count": 5,
   "metadata": {},
   "outputs": [],
   "source": [
    "doc1 =  \"As origens do Mercosul estão ligadas às discussões para a constituição de um mercado \\\n",
    "    econômico regional para a América Latina, que remontam ao tratado que estabeleceu a Associação \\\n",
    "    Latino-Americana de Livre Comércio (ALALC) desde a década de 1960. Esse organismo foi sucedido pela \\\n",
    "    Associação Latino-Americana de Integração (ALADI) na década de 1980. À época, a Argentina e o Brasil \\\n",
    "    fizeram progressos na matéria, assinando a Declaração do Iguaçu (1985),[5] que estabelecia uma comissão \\\n",
    "    bilateral, à qual se seguiram uma série de acordos comerciais no ano seguinte.\""
   ]
  },
  {
   "cell_type": "code",
   "execution_count": 6,
   "metadata": {},
   "outputs": [],
   "source": [
    "doc2 = \"Em 6 de julho de 1990, o presidente do Brasil, Fernando Collor, e o da Argentina, Carlos Menem, \\\n",
    "    assinaram a Ata de Buenos Aires.[15] visando à total integração alfandegária entre os dois países. \\\n",
    "    Foi decidido que todas as medidas para a construção da união aduaneira deveriam ser concluídas até \\\n",
    "    31 de dezembro de 1994.[16] Para assegurar o cumprimento dos prazos, foi criado o Grupo de Trabalho \\\n",
    "    Binacional, órgão que teve como responsabilidade, definir métodos para a criação do mercado comum entre \\\n",
    "    as duas nações. Em setembro, os governos de Paraguai e Uruguai demonstraram forte interesse no processo \\\n",
    "    de integração regional, levando à plena percepção dos signatários que um tratado mais abrangente era \\\n",
    "    necessário\""
   ]
  },
  {
   "cell_type": "code",
   "execution_count": 7,
   "metadata": {},
   "outputs": [],
   "source": [
    "doc3 = 'Perguntado se o entendimento comercial entre os dois blocos comerciais apontava que o Brasil\\\n",
    "    permaneceria no Acordo de Paris durante todo o seu mandato, Bolsonaro disse que - no momento estamos no acordo -\\\n",
    "    e que o Brasil não tem como cumprir todas as metas do Acordo de Paris. Falei com Angela Merkel e a Alemanha\\\n",
    "    não vai cumprir o acordo no tocante a energias fósseis. O que cada brasileiro bota para fora de gás carbônico,\\\n",
    "    o alemão é quatro vezes mais , disse. A nossa (meta), né? A gente não tem como cumprir, nem que pegue aqui\\\n",
    "    agora 100 mil homens no campo e comece a reflorestar a partir de agora, até 2030 não vai atingir essa meta,\\\n",
    "    emendou.. '"
   ]
  },
  {
   "cell_type": "code",
   "execution_count": 8,
   "metadata": {},
   "outputs": [],
   "source": [
    "#tokenizando\n",
    "tokens1 = [t for t in doc1.split()]\n",
    "tokens2 = [t for t in doc2.split()]\n",
    "tokens3 = [t for t in doc2.split()]"
   ]
  },
  {
   "cell_type": "code",
   "execution_count": 9,
   "metadata": {},
   "outputs": [
    {
     "name": "stdout",
     "output_type": "stream",
     "text": [
      "As ,origens ,do ,Mercosul ,estão ,ligadas ,às ,discussões ,para ,a ,constituição ,de ,um ,mercado ,econômico ,regional ,para ,a ,América ,Latina, ,que ,remontam ,ao ,tratado ,que ,estabeleceu ,a ,Associação ,Latino-Americana ,de ,Livre ,Comércio ,(ALALC) ,desde ,a ,década ,de ,1960. ,Esse ,organismo ,foi ,sucedido ,pela ,Associação ,Latino-Americana ,de ,Integração ,(ALADI) ,na ,década ,de ,1980. ,À ,época, ,a ,Argentina ,e ,o ,Brasil ,fizeram ,progressos ,na ,matéria, ,assinando ,a ,Declaração ,do ,Iguaçu ,(1985),[5] ,que ,estabelecia ,uma ,comissão ,bilateral, ,à ,qual ,se ,seguiram ,uma ,série ,de ,acordos ,comerciais ,no ,ano ,seguinte. ,"
     ]
    }
   ],
   "source": [
    "for i in tokens1: print(i,end=\" ,\")"
   ]
  },
  {
   "cell_type": "code",
   "execution_count": 10,
   "metadata": {},
   "outputs": [],
   "source": [
    "freq = nltk.FreqDist(tokens1)"
   ]
  },
  {
   "cell_type": "code",
   "execution_count": 11,
   "metadata": {},
   "outputs": [
    {
     "data": {
      "text/plain": [
       "FreqDist({'a': 6, 'de': 6, 'que': 3, 'do': 2, 'para': 2, 'Associação': 2, 'Latino-Americana': 2, 'década': 2, 'na': 2, 'uma': 2, ...})"
      ]
     },
     "execution_count": 11,
     "metadata": {},
     "output_type": "execute_result"
    }
   ],
   "source": [
    "freq"
   ]
  },
  {
   "cell_type": "code",
   "execution_count": 12,
   "metadata": {},
   "outputs": [
    {
     "data": {
      "image/png": "[encoded data removed]",
      "text/plain": [
       "<Figure size 792x360 with 1 Axes>"
      ]
     },
     "metadata": {
      "needs_background": "light"
     },
     "output_type": "display_data"
    }
   ],
   "source": [
    "freq.plot(30, cumulative=False)"
   ]
  },
  {
   "cell_type": "code",
   "execution_count": 13,
   "metadata": {},
   "outputs": [],
   "source": [
    "def diversidadeLexica(text):\n",
    "    return len(set(text)) / len(text)"
   ]
  },
  {
   "cell_type": "code",
   "execution_count": 14,
   "metadata": {},
   "outputs": [
    {
     "data": {
      "text/plain": [
       "0.08404802744425385"
      ]
     },
     "execution_count": 14,
     "metadata": {},
     "output_type": "execute_result"
    }
   ],
   "source": [
    "diversidadeLexica(doc1)"
   ]
  },
  {
   "cell_type": "code",
   "execution_count": 15,
   "metadata": {},
   "outputs": [
    {
     "ename": "LookupError",
     "evalue": "\n**********************************************************************\n  Resource \u001b[93mpunkt\u001b[0m not found.\n  Please use the NLTK Downloader to obtain the resource:\n\n  \u001b[31m>>> import nltk\n  >>> nltk.download('punkt')\n  \u001b[0m\n  Attempted to load \u001b[93mtokenizers/punkt/portuguese.pickle\u001b[0m\n\n  Searched in:\n    - 'C:\\\\Users\\\\ronal/nltk_data'\n    - 'C:\\\\Users\\\\ronal\\\\Anaconda3\\\\nltk_data'\n    - 'C:\\\\Users\\\\ronal\\\\Anaconda3\\\\share\\\\nltk_data'\n    - 'C:\\\\Users\\\\ronal\\\\Anaconda3\\\\lib\\\\nltk_data'\n    - 'C:\\\\Users\\\\ronal\\\\AppData\\\\Roaming\\\\nltk_data'\n    - 'C:\\\\nltk_data'\n    - 'D:\\\\nltk_data'\n    - 'E:\\\\nltk_data'\n    - ''\n**********************************************************************\n",
     "output_type": "error",
     "traceback": [
      "\u001b[1;31m---------------------------------------------------------------------------\u001b[0m",
      "\u001b[1;31mLookupError\u001b[0m                               Traceback (most recent call last)",
      "\u001b[1;32m<ipython-input-15-8e0444d939d1>\u001b[0m in \u001b[0;36m<module>\u001b[1;34m\u001b[0m\n\u001b[0;32m      1\u001b[0m \u001b[1;31m# word tokenize\u001b[0m\u001b[1;33m\u001b[0m\u001b[1;33m\u001b[0m\u001b[1;33m\u001b[0m\u001b[0m\n\u001b[0;32m      2\u001b[0m \u001b[1;32mfrom\u001b[0m \u001b[0mnltk\u001b[0m\u001b[1;33m.\u001b[0m\u001b[0mtokenize\u001b[0m \u001b[1;32mimport\u001b[0m \u001b[0mword_tokenize\u001b[0m\u001b[1;33m\u001b[0m\u001b[1;33m\u001b[0m\u001b[0m\n\u001b[1;32m----> 3\u001b[1;33m \u001b[0mprint\u001b[0m\u001b[1;33m(\u001b[0m\u001b[0mword_tokenize\u001b[0m\u001b[1;33m(\u001b[0m\u001b[0mdoc1\u001b[0m\u001b[1;33m,\u001b[0m\u001b[1;34m\"portuguese\"\u001b[0m\u001b[1;33m)\u001b[0m\u001b[1;33m)\u001b[0m\u001b[1;33m\u001b[0m\u001b[1;33m\u001b[0m\u001b[0m\n\u001b[0m",
      "\u001b[1;32m~\\Anaconda3\\lib\\site-packages\\nltk\\tokenize\\__init__.py\u001b[0m in \u001b[0;36mword_tokenize\u001b[1;34m(text, language, preserve_line)\u001b[0m\n\u001b[0;32m    141\u001b[0m     \u001b[1;33m:\u001b[0m\u001b[0mtype\u001b[0m \u001b[0mpreserve_line\u001b[0m\u001b[1;33m:\u001b[0m \u001b[0mbool\u001b[0m\u001b[1;33m\u001b[0m\u001b[1;33m\u001b[0m\u001b[0m\n\u001b[0;32m    142\u001b[0m     \"\"\"\n\u001b[1;32m--> 143\u001b[1;33m     \u001b[0msentences\u001b[0m \u001b[1;33m=\u001b[0m \u001b[1;33m[\u001b[0m\u001b[0mtext\u001b[0m\u001b[1;33m]\u001b[0m \u001b[1;32mif\u001b[0m \u001b[0mpreserve_line\u001b[0m \u001b[1;32melse\u001b[0m \u001b[0msent_tokenize\u001b[0m\u001b[1;33m(\u001b[0m\u001b[0mtext\u001b[0m\u001b[1;33m,\u001b[0m \u001b[0mlanguage\u001b[0m\u001b[1;33m)\u001b[0m\u001b[1;33m\u001b[0m\u001b[1;33m\u001b[0m\u001b[0m\n\u001b[0m\u001b[0;32m    144\u001b[0m     return [\n\u001b[0;32m    145\u001b[0m         \u001b[0mtoken\u001b[0m \u001b[1;32mfor\u001b[0m \u001b[0msent\u001b[0m \u001b[1;32min\u001b[0m \u001b[0msentences\u001b[0m \u001b[1;32mfor\u001b[0m \u001b[0mtoken\u001b[0m \u001b[1;32min\u001b[0m \u001b[0m_treebank_word_tokenizer\u001b[0m\u001b[1;33m.\u001b[0m\u001b[0mtokenize\u001b[0m\u001b[1;33m(\u001b[0m\u001b[0msent\u001b[0m\u001b[1;33m)\u001b[0m\u001b[1;33m\u001b[0m\u001b[1;33m\u001b[0m\u001b[0m\n",
      "\u001b[1;32m~\\Anaconda3\\lib\\site-packages\\nltk\\tokenize\\__init__.py\u001b[0m in \u001b[0;36msent_tokenize\u001b[1;34m(text, language)\u001b[0m\n\u001b[0;32m    102\u001b[0m     \u001b[1;33m:\u001b[0m\u001b[0mparam\u001b[0m \u001b[0mlanguage\u001b[0m\u001b[1;33m:\u001b[0m \u001b[0mthe\u001b[0m \u001b[0mmodel\u001b[0m \u001b[0mname\u001b[0m \u001b[1;32min\u001b[0m \u001b[0mthe\u001b[0m \u001b[0mPunkt\u001b[0m \u001b[0mcorpus\u001b[0m\u001b[1;33m\u001b[0m\u001b[1;33m\u001b[0m\u001b[0m\n\u001b[0;32m    103\u001b[0m     \"\"\"\n\u001b[1;32m--> 104\u001b[1;33m     \u001b[0mtokenizer\u001b[0m \u001b[1;33m=\u001b[0m \u001b[0mload\u001b[0m\u001b[1;33m(\u001b[0m\u001b[1;34m'tokenizers/punkt/{0}.pickle'\u001b[0m\u001b[1;33m.\u001b[0m\u001b[0mformat\u001b[0m\u001b[1;33m(\u001b[0m\u001b[0mlanguage\u001b[0m\u001b[1;33m)\u001b[0m\u001b[1;33m)\u001b[0m\u001b[1;33m\u001b[0m\u001b[1;33m\u001b[0m\u001b[0m\n\u001b[0m\u001b[0;32m    105\u001b[0m     \u001b[1;32mreturn\u001b[0m \u001b[0mtokenizer\u001b[0m\u001b[1;33m.\u001b[0m\u001b[0mtokenize\u001b[0m\u001b[1;33m(\u001b[0m\u001b[0mtext\u001b[0m\u001b[1;33m)\u001b[0m\u001b[1;33m\u001b[0m\u001b[1;33m\u001b[0m\u001b[0m\n\u001b[0;32m    106\u001b[0m \u001b[1;33m\u001b[0m\u001b[0m\n",
      "\u001b[1;32m~\\Anaconda3\\lib\\site-packages\\nltk\\data.py\u001b[0m in \u001b[0;36mload\u001b[1;34m(resource_url, format, cache, verbose, logic_parser, fstruct_reader, encoding)\u001b[0m\n\u001b[0;32m    866\u001b[0m \u001b[1;33m\u001b[0m\u001b[0m\n\u001b[0;32m    867\u001b[0m     \u001b[1;31m# Load the resource.\u001b[0m\u001b[1;33m\u001b[0m\u001b[1;33m\u001b[0m\u001b[1;33m\u001b[0m\u001b[0m\n\u001b[1;32m--> 868\u001b[1;33m     \u001b[0mopened_resource\u001b[0m \u001b[1;33m=\u001b[0m \u001b[0m_open\u001b[0m\u001b[1;33m(\u001b[0m\u001b[0mresource_url\u001b[0m\u001b[1;33m)\u001b[0m\u001b[1;33m\u001b[0m\u001b[1;33m\u001b[0m\u001b[0m\n\u001b[0m\u001b[0;32m    869\u001b[0m \u001b[1;33m\u001b[0m\u001b[0m\n\u001b[0;32m    870\u001b[0m     \u001b[1;32mif\u001b[0m \u001b[0mformat\u001b[0m \u001b[1;33m==\u001b[0m \u001b[1;34m'raw'\u001b[0m\u001b[1;33m:\u001b[0m\u001b[1;33m\u001b[0m\u001b[1;33m\u001b[0m\u001b[0m\n",
      "\u001b[1;32m~\\Anaconda3\\lib\\site-packages\\nltk\\data.py\u001b[0m in \u001b[0;36m_open\u001b[1;34m(resource_url)\u001b[0m\n\u001b[0;32m    991\u001b[0m \u001b[1;33m\u001b[0m\u001b[0m\n\u001b[0;32m    992\u001b[0m     \u001b[1;32mif\u001b[0m \u001b[0mprotocol\u001b[0m \u001b[1;32mis\u001b[0m \u001b[1;32mNone\u001b[0m \u001b[1;32mor\u001b[0m \u001b[0mprotocol\u001b[0m\u001b[1;33m.\u001b[0m\u001b[0mlower\u001b[0m\u001b[1;33m(\u001b[0m\u001b[1;33m)\u001b[0m \u001b[1;33m==\u001b[0m \u001b[1;34m'nltk'\u001b[0m\u001b[1;33m:\u001b[0m\u001b[1;33m\u001b[0m\u001b[1;33m\u001b[0m\u001b[0m\n\u001b[1;32m--> 993\u001b[1;33m         \u001b[1;32mreturn\u001b[0m \u001b[0mfind\u001b[0m\u001b[1;33m(\u001b[0m\u001b[0mpath_\u001b[0m\u001b[1;33m,\u001b[0m \u001b[0mpath\u001b[0m \u001b[1;33m+\u001b[0m \u001b[1;33m[\u001b[0m\u001b[1;34m''\u001b[0m\u001b[1;33m]\u001b[0m\u001b[1;33m)\u001b[0m\u001b[1;33m.\u001b[0m\u001b[0mopen\u001b[0m\u001b[1;33m(\u001b[0m\u001b[1;33m)\u001b[0m\u001b[1;33m\u001b[0m\u001b[1;33m\u001b[0m\u001b[0m\n\u001b[0m\u001b[0;32m    994\u001b[0m     \u001b[1;32melif\u001b[0m \u001b[0mprotocol\u001b[0m\u001b[1;33m.\u001b[0m\u001b[0mlower\u001b[0m\u001b[1;33m(\u001b[0m\u001b[1;33m)\u001b[0m \u001b[1;33m==\u001b[0m \u001b[1;34m'file'\u001b[0m\u001b[1;33m:\u001b[0m\u001b[1;33m\u001b[0m\u001b[1;33m\u001b[0m\u001b[0m\n\u001b[0;32m    995\u001b[0m         \u001b[1;31m# urllib might not use mode='rb', so handle this one ourselves:\u001b[0m\u001b[1;33m\u001b[0m\u001b[1;33m\u001b[0m\u001b[1;33m\u001b[0m\u001b[0m\n",
      "\u001b[1;32m~\\Anaconda3\\lib\\site-packages\\nltk\\data.py\u001b[0m in \u001b[0;36mfind\u001b[1;34m(resource_name, paths)\u001b[0m\n\u001b[0;32m    697\u001b[0m     \u001b[0msep\u001b[0m \u001b[1;33m=\u001b[0m \u001b[1;34m'*'\u001b[0m \u001b[1;33m*\u001b[0m \u001b[1;36m70\u001b[0m\u001b[1;33m\u001b[0m\u001b[1;33m\u001b[0m\u001b[0m\n\u001b[0;32m    698\u001b[0m     \u001b[0mresource_not_found\u001b[0m \u001b[1;33m=\u001b[0m \u001b[1;34m'\\n%s\\n%s\\n%s\\n'\u001b[0m \u001b[1;33m%\u001b[0m \u001b[1;33m(\u001b[0m\u001b[0msep\u001b[0m\u001b[1;33m,\u001b[0m \u001b[0mmsg\u001b[0m\u001b[1;33m,\u001b[0m \u001b[0msep\u001b[0m\u001b[1;33m)\u001b[0m\u001b[1;33m\u001b[0m\u001b[1;33m\u001b[0m\u001b[0m\n\u001b[1;32m--> 699\u001b[1;33m     \u001b[1;32mraise\u001b[0m \u001b[0mLookupError\u001b[0m\u001b[1;33m(\u001b[0m\u001b[0mresource_not_found\u001b[0m\u001b[1;33m)\u001b[0m\u001b[1;33m\u001b[0m\u001b[1;33m\u001b[0m\u001b[0m\n\u001b[0m\u001b[0;32m    700\u001b[0m \u001b[1;33m\u001b[0m\u001b[0m\n\u001b[0;32m    701\u001b[0m \u001b[1;33m\u001b[0m\u001b[0m\n",
      "\u001b[1;31mLookupError\u001b[0m: \n**********************************************************************\n  Resource \u001b[93mpunkt\u001b[0m not found.\n  Please use the NLTK Downloader to obtain the resource:\n\n  \u001b[31m>>> import nltk\n  >>> nltk.download('punkt')\n  \u001b[0m\n  Attempted to load \u001b[93mtokenizers/punkt/portuguese.pickle\u001b[0m\n\n  Searched in:\n    - 'C:\\\\Users\\\\ronal/nltk_data'\n    - 'C:\\\\Users\\\\ronal\\\\Anaconda3\\\\nltk_data'\n    - 'C:\\\\Users\\\\ronal\\\\Anaconda3\\\\share\\\\nltk_data'\n    - 'C:\\\\Users\\\\ronal\\\\Anaconda3\\\\lib\\\\nltk_data'\n    - 'C:\\\\Users\\\\ronal\\\\AppData\\\\Roaming\\\\nltk_data'\n    - 'C:\\\\nltk_data'\n    - 'D:\\\\nltk_data'\n    - 'E:\\\\nltk_data'\n    - ''\n**********************************************************************\n"
     ]
    }
   ],
   "source": [
    "# word tokenize\n",
    "from nltk.tokenize import word_tokenize\n",
    "print(word_tokenize(doc1,\"portuguese\"))"
   ]
  },
  {
   "cell_type": "code",
   "execution_count": null,
   "metadata": {},
   "outputs": [],
   "source": [
    "from nltk.tokenize import sent_tokenize #separa os períodos\n",
    "print(sent_tokenize(doc1,\"portuguese\"))"
   ]
  },
  {
   "cell_type": "code",
   "execution_count": null,
   "metadata": {},
   "outputs": [],
   "source": [
    "#parece que o word tokenize é o mais útil\n",
    "tokens1 = word_tokenize(doc1,\"portuguese\")"
   ]
  },
  {
   "cell_type": "code",
   "execution_count": null,
   "metadata": {},
   "outputs": [],
   "source": [
    "def remover(tokens, listaRemocao):\n",
    "    for r in listaRemocao:\n",
    "        while True:\n",
    "            try:\n",
    "                p = tokens.index(r)\n",
    "                del tokens[p]\n",
    "            except(Exception):\n",
    "                break\n",
    "    return tokens"
   ]
  },
  {
   "cell_type": "code",
   "execution_count": null,
   "metadata": {},
   "outputs": [],
   "source": [
    "# função de remoção\n",
    "def remover2(tokens, listaRemocao):\n",
    "    for r in listaRemocao:\n",
    "        i=0\n",
    "        length = len(tokens)  \n",
    "        while(i<length):\n",
    "            if(tokens[i]==r):\n",
    "                tokens.remove(tokens[i])\n",
    "                length = length -1  \n",
    "                continue\n",
    "            i = i+1\n",
    "    return tokens\n",
    "    "
   ]
  },
  {
   "cell_type": "code",
   "execution_count": null,
   "metadata": {},
   "outputs": [],
   "source": [
    "# remoção de artigos e sinais ortográficos\n",
    "\n",
    "#removendo caracteres especiais \n",
    "listaRemover = \".,;!?[]{}()_\\/\\\\\\'\\`\\\"\\``\\ \"\n",
    "tokens1 = remover(tokens1,listaRemover)"
   ]
  },
  {
   "cell_type": "code",
   "execution_count": null,
   "metadata": {},
   "outputs": [],
   "source": [
    "for i in tokens1:print(i,end=\" ,\")"
   ]
  },
  {
   "cell_type": "code",
   "execution_count": null,
   "metadata": {},
   "outputs": [],
   "source": [
    "# removendo digitos\n",
    "def removeDigitos(tokens):\n",
    "    i=0\n",
    "    length = len(tokens)  \n",
    "    while(i<length):\n",
    "        if tokens[i].isdigit():\n",
    "            tokens.remove(tokens[i])\n",
    "            length = length -1  \n",
    "            continue\n",
    "        i = i+1\n",
    "    return tokens"
   ]
  },
  {
   "cell_type": "code",
   "execution_count": null,
   "metadata": {},
   "outputs": [],
   "source": [
    "tokens1 = removeDigitos(tokens1)"
   ]
  },
  {
   "cell_type": "code",
   "execution_count": null,
   "metadata": {},
   "outputs": [],
   "source": [
    "for i in tokens1:print(i,end=\" ,\")"
   ]
  },
  {
   "cell_type": "code",
   "execution_count": null,
   "metadata": {},
   "outputs": [],
   "source": [
    "# remoções manuais remanescentes - muito raro não ter que fazê-las\n",
    "manuais = ['1980.','(1985),[5]','1960.','As','a','às','à','Às','o','à','À']\n",
    "tokens1 = remover(tokens1,manuais)"
   ]
  },
  {
   "cell_type": "code",
   "execution_count": null,
   "metadata": {},
   "outputs": [],
   "source": [
    "for i in tokens1:print(i,end=\" ,\")"
   ]
  },
  {
   "cell_type": "markdown",
   "metadata": {},
   "source": [
    "<h2> STOP WORDS </h2>"
   ]
  },
  {
   "cell_type": "code",
   "execution_count": null,
   "metadata": {},
   "outputs": [],
   "source": [
    "from nltk.corpus import stopwords\n",
    " \n",
    "stopwords.words('portuguese')[:10]\n"
   ]
  },
  {
   "cell_type": "code",
   "execution_count": null,
   "metadata": {},
   "outputs": [],
   "source": [
    "#remover stop words\n",
    "stp = stopwords.words('portuguese')\n",
    "tokens1 = remover(tokens1,stp)"
   ]
  },
  {
   "cell_type": "code",
   "execution_count": null,
   "metadata": {},
   "outputs": [],
   "source": [
    "for i in tokens1:print(i,end=\" ,\")"
   ]
  },
  {
   "cell_type": "markdown",
   "metadata": {
    "collapsed": true
   },
   "source": [
    "<h1> STEMMING </h1>"
   ]
  },
  {
   "cell_type": "code",
   "execution_count": null,
   "metadata": {},
   "outputs": [],
   "source": [
    "from nltk.stem import PorterStemmer\n",
    " \n",
    "stemmer = PorterStemmer()\n",
    " \n",
    "print(stemmer.stem('working'))"
   ]
  },
  {
   "cell_type": "code",
   "execution_count": null,
   "metadata": {},
   "outputs": [],
   "source": [
    "from nltk.stem import SnowballStemmer\n",
    " \n",
    "print(SnowballStemmer.languages)\n"
   ]
  },
  {
   "cell_type": "code",
   "execution_count": null,
   "metadata": {},
   "outputs": [],
   "source": [
    "\n",
    " \n",
    "stemerBrasileiro = SnowballStemmer('portuguese')\n",
    "print(stemerBrasileiro.stem(\"apatrida\"))\n",
    "print(stemerBrasileiro.stem(\"cadeirante\"))\n",
    "print(stemerBrasileiro.stem(\"inconstitucionalissimamente\"))\n"
   ]
  },
  {
   "cell_type": "markdown",
   "metadata": {},
   "source": [
    "<h2> Projeto snowball precisa melhorar, mas pode ser usado assim mesmo </h2>"
   ]
  },
  {
   "cell_type": "code",
   "execution_count": null,
   "metadata": {},
   "outputs": [],
   "source": [
    "#vamos la\n",
    "def reducaoRadical(tokens):\n",
    "    return [stemerBrasileiro.stem(i) for i in tokens]"
   ]
  },
  {
   "cell_type": "code",
   "execution_count": null,
   "metadata": {},
   "outputs": [],
   "source": [
    "tokens1 = reducaoRadical(tokens1)"
   ]
  },
  {
   "cell_type": "code",
   "execution_count": null,
   "metadata": {},
   "outputs": [],
   "source": [
    "for i in tokens1:print(i,end=\" ,\")"
   ]
  },
  {
   "cell_type": "markdown",
   "metadata": {},
   "source": [
    "<h2> Repetindo o processo para doc2 e doc3 </h2>"
   ]
  },
  {
   "cell_type": "code",
   "execution_count": null,
   "metadata": {},
   "outputs": [],
   "source": [
    "listaRemover = \"-.,;!?[]{}()_\\/\\\\\\'\\`\\\"\\``\\ ``\"\n",
    "manuais = ['1980.','(1985),[5]','1960.','As','a','às','à','Às','o','à','À','2030','100']\n",
    "stp = stopwords.words('portuguese')\n",
    "tokens2 = reducaoRadical(\n",
    "    removeDigitos(remover(remover(remover(word_tokenize(doc2,\"portuguese\"),listaRemover),manuais),stp)))\n",
    "tokens3 = reducaoRadical(\n",
    "    removeDigitos(remover(remover(remover(word_tokenize(doc3,\"portuguese\"),listaRemover),manuais),stp)))"
   ]
  },
  {
   "cell_type": "code",
   "execution_count": null,
   "metadata": {},
   "outputs": [],
   "source": [
    "for i in tokens2:print(i, end = \" ,\")"
   ]
  },
  {
   "cell_type": "code",
   "execution_count": null,
   "metadata": {},
   "outputs": [],
   "source": [
    "for i in tokens3:print(i, end = \", \")"
   ]
  },
  {
   "cell_type": "markdown",
   "metadata": {},
   "source": [
    "<h2> Agora vamos vetorizar </h2>"
   ]
  },
  {
   "cell_type": "code",
   "execution_count": null,
   "metadata": {},
   "outputs": [],
   "source": [
    "listaTermos = list(set(tokens1+tokens2+tokens3))"
   ]
  },
  {
   "cell_type": "code",
   "execution_count": null,
   "metadata": {},
   "outputs": [],
   "source": [
    "for i in listaTermos:print(i, end = \", \")"
   ]
  },
  {
   "cell_type": "code",
   "execution_count": null,
   "metadata": {},
   "outputs": [],
   "source": [
    "f1 = nltk.FreqDist(tokens1)\n",
    "f2 = nltk.FreqDist(tokens2)\n",
    "f3 = nltk.FreqDist(tokens3)"
   ]
  },
  {
   "cell_type": "code",
   "execution_count": null,
   "metadata": {},
   "outputs": [],
   "source": [
    "f1['alad']"
   ]
  },
  {
   "cell_type": "code",
   "execution_count": null,
   "metadata": {},
   "outputs": [],
   "source": [
    "# criando um dataset de frequencias\n",
    "def criaDatasetFreq(listaTokens):\n",
    "    #frequencias\n",
    "    freqs = []\n",
    "    for i in listaTokens:\n",
    "        f = nltk.FreqDist(i)\n",
    "        freqs.append(f)\n",
    "    #termos\n",
    "    termos = []\n",
    "    for i in listaTokens: termos += i\n",
    "    termos = list(set(termos))\n",
    "    \n",
    "    #dataset\n",
    "    datasetF = []\n",
    "    \n",
    "    for i,t in enumerate(listaTokens):\n",
    "        l = []\n",
    "        for j in termos:\n",
    "            l.append(freqs[i][j])\n",
    "        datasetF.append(l)\n",
    "    return datasetF,termos"
   ]
  },
  {
   "cell_type": "code",
   "execution_count": null,
   "metadata": {},
   "outputs": [],
   "source": [
    "dsf,termos = criaDatasetFreq([tokens1,tokens2,tokens3])"
   ]
  },
  {
   "cell_type": "code",
   "execution_count": null,
   "metadata": {},
   "outputs": [],
   "source": [
    "print(\"DOC\\TERMO\",end=\" :\")\n",
    "for i in termos[:10]:print(i,end=\", \")\n",
    "print()\n",
    "for i,d in enumerate(dsf):\n",
    "    print(\"DOC {}   \".format(i),end=\" : \")\n",
    "    print(d[:10])"
   ]
  },
  {
   "cell_type": "code",
   "execution_count": null,
   "metadata": {},
   "outputs": [],
   "source": [
    "# criando um dataset binario\n",
    "# criando um dataset binario\n",
    "def criaDatasetBinario(listaTokens):\n",
    "    #frequencias\n",
    "    freqs = []\n",
    "    for i in listaTokens:\n",
    "        f = nltk.FreqDist(i)\n",
    "        freqs.append(f)\n",
    "    #termos\n",
    "    termos = []\n",
    "    for i in listaTokens: termos += i\n",
    "    termos = list(set(termos))\n",
    "    \n",
    "    #dataset\n",
    "    datasetB = []\n",
    "    \n",
    "    for i,t in enumerate(listaTokens):\n",
    "        l = []\n",
    "        for j in termos:\n",
    "            if freqs[i][j] > 0:\n",
    "                l.append(1)\n",
    "            else:\n",
    "                l.append(0)\n",
    "        datasetB.append(l)\n",
    "    return datasetB,termos"
   ]
  },
  {
   "cell_type": "code",
   "execution_count": null,
   "metadata": {},
   "outputs": [],
   "source": [
    "dsf,termos = criaDatasetBinario([tokens1,tokens2,tokens3])"
   ]
  },
  {
   "cell_type": "code",
   "execution_count": null,
   "metadata": {},
   "outputs": [],
   "source": [
    "print(\"DOC\\TERMO\",end=\" :\")\n",
    "for i in termos[:10]:print(i,end=\", \")\n",
    "print()\n",
    "for i,d in enumerate(dsf):\n",
    "    print(\"DOC {}   \".format(i),end=\" : \")\n",
    "    print(d[:10])"
   ]
  },
  {
   "cell_type": "markdown",
   "metadata": {},
   "source": [
    "<h2> Dataset com tf-idf </h2>"
   ]
  },
  {
   "cell_type": "code",
   "execution_count": null,
   "metadata": {},
   "outputs": [],
   "source": [
    "from nltk.text import TextCollection\n",
    "corpus = TextCollection([tokens1,tokens2,tokens3])"
   ]
  },
  {
   "cell_type": "code",
   "execution_count": null,
   "metadata": {},
   "outputs": [],
   "source": [
    "corpus.tf(\"comercial\",tokens3)"
   ]
  },
  {
   "cell_type": "code",
   "execution_count": null,
   "metadata": {},
   "outputs": [],
   "source": [
    "corpus.idf(\"comercial\")"
   ]
  },
  {
   "cell_type": "code",
   "execution_count": null,
   "metadata": {},
   "outputs": [],
   "source": [
    "#Vetorizando tf-idf usando o sklearn\n",
    "from sklearn.feature_extraction.text import TfidfVectorizer\n",
    "vetorizador = TfidfVectorizer()\n",
    "datasetTFIDF = vetorizador.fit_transform([str(tokens1),str(tokens2),str(tokens3)])"
   ]
  },
  {
   "cell_type": "code",
   "execution_count": null,
   "metadata": {},
   "outputs": [],
   "source": [
    "vetorizador.get_feature_names()"
   ]
  },
  {
   "cell_type": "code",
   "execution_count": null,
   "metadata": {},
   "outputs": [],
   "source": [
    "list(datasetTFIDF)"
   ]
  },
  {
   "cell_type": "code",
   "execution_count": null,
   "metadata": {},
   "outputs": [],
   "source": [
    "list(datasetTFIDF[0].todense())"
   ]
  },
  {
   "cell_type": "code",
   "execution_count": null,
   "metadata": {},
   "outputs": [],
   "source": [
    "list(datasetTFIDF[1].todense())"
   ]
  },
  {
   "cell_type": "code",
   "execution_count": null,
   "metadata": {},
   "outputs": [],
   "source": [
    "list(datasetTFIDF[2].todense())"
   ]
  },
  {
   "cell_type": "markdown",
   "metadata": {},
   "source": [
    "<h1> Próximo passo: Classificação do Texto </h1>"
   ]
  },
  {
   "cell_type": "markdown",
   "metadata": {},
   "source": [
    "<h1> Enjoy </h1>"
   ]
  },
  {
   "cell_type": "code",
   "execution_count": null,
   "metadata": {},
   "outputs": [],
   "source": []
  }
 ],
 "metadata": {
  "kernelspec": {
   "display_name": "Python 3",
   "language": "python",
   "name": "python3"
  },
  "language_info": {
   "codemirror_mode": {
    "name": "ipython",
    "version": 3
   },
   "file_extension": ".py",
   "mimetype": "text/x-python",
   "name": "python",
   "nbconvert_exporter": "python",
   "pygments_lexer": "ipython3",
   "version": "3.7.3"
  }
 },
 "nbformat": 4,
 "nbformat_minor": 2
}
