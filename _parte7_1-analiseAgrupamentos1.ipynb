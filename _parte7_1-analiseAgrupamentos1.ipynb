{
 "cells": [
  {
   "cell_type": "markdown",
   "metadata": {},
   "source": [
    "<h1> Cardernos de IA - Aprendizagem de Máquina </h1>\n",
    "<h2> Análise de Agrupamentos - Parte 1 - Agrupamentos Hierárquicos </h2>\n",
    "<h3> by Ronaldo F. Ramos </h3>\n",
    "\n",
    "Análise de agrupamentos, clustering ou simplesmente agrupamentos é uma área da aprendizagem de máquina cujo objetivo é a formação de agrupamentos de objetos similares.\n",
    "\n",
    "Podemos dividir os métodos de agrupamento em três grupos ou estratégias.\n",
    "<ol>\n",
    "  <li>Grupos Hierárquicos. Algoritmos AGNES e DIANA entre outros </li>\n",
    "  <li>Grupos Divididos por Partições. Algoritmos Kmeans </li>\n",
    "  <li>Grupos Divididos por Densidade. Algoritmo DBSCAN</li>\n",
    "</ol>\n",
    "\n",
    "\n",
    "Neste caderno vamos estudar os algoritmo AGNES e DIANA\n"
   ]
  },
  {
   "cell_type": "markdown",
   "metadata": {},
   "source": [
    "<h3> Algoritmo AGNES e DIANA <h3>"
   ]
  },
  {
   "cell_type": "markdown",
   "metadata": {},
   "source": [
    "A ideia é simples. Constrói-se um árvore especial chamada de dendograma começando pelas folhas. Cada folha é um indivíduo e vai unindo indivíduos um a um pela distância entre eles até que exista apenas um grupo (AGNES). Faz o mesmo de trás pra frente (DIANA).\n",
    "\n",
    "<figure>\n",
    "  <img src=\"../images/agnes.png\" style=\"width:100%,background:rgba(76,175,80,0.3)\">\n",
    "</figure>\n"
   ]
  },
  {
   "cell_type": "markdown",
   "metadata": {},
   "source": [
    "Vamos ao trabalho.\n",
    "\n",
    "Seja o dataset sobre flores com seus respectivoa atributos abaixo.\n",
    "\n",
    "<figure>\n",
    "  <img src=\"../images/flores.png\" alt=\"Trulli\" style=\"width:100%\">\n",
    "</figure>\n",
    "\n",
    "\n",
    "<table style=\"width:100%,align:left\">\n",
    "  <tr>\n",
    "    <th>Flor</th>\n",
    "    <th>1</th>\n",
    "    <th>2</th>\n",
    "    <th>3</th>\n",
    "    <th>4</th>\n",
    "    <th>5</th>\n",
    "    <th>6</th>\n",
    "    <th>7</th>\n",
    "    <th>8</th>\n",
    "  </tr>\n",
    "  <tr>\n",
    "    <td>Begônia</td>\n",
    "    <td>0</td>\n",
    "    <td>1</td>\n",
    "    <td>1</td>\n",
    "    <td>4</td>\n",
    "    <td>3</td>\n",
    "    <td>15</td>\n",
    "    <td>25</td>\n",
    "    <td>15</td> \n",
    "  </tr>\n",
    "  <tr>\n",
    "    <td>Giesta</td>\n",
    "    <td>1</td>\n",
    "    <td>0</td>\n",
    "    <td>0</td>\n",
    "    <td>2</td>\n",
    "    <td>1</td>\n",
    "    <td>3</td>\n",
    "    <td>150</td>\n",
    "    <td>50</td> \n",
    "  </tr>\n",
    "  <tr>\n",
    "    <td>Camélia</td>\n",
    "    <td>0</td>\n",
    "    <td>1</td>\n",
    "    <td>0</td>\n",
    "    <td>3</td>\n",
    "    <td>3</td>\n",
    "    <td>1</td>\n",
    "    <td>150</td>\n",
    "    <td>50</td> \n",
    "  </tr> \n",
    "  <tr>\n",
    "    <td>Dália</td>\n",
    "    <td>0</td>\n",
    "    <td>0</td>\n",
    "    <td>1</td>\n",
    "    <td>4</td>\n",
    "    <td>2</td>\n",
    "    <td>16</td>\n",
    "    <td>125</td>\n",
    "    <td>50</td> \n",
    "  </tr>   \n",
    "  <tr>\n",
    "    <td>Miosótis</td>\n",
    "    <td>0</td>\n",
    "    <td>1</td>\n",
    "    <td>0</td>\n",
    "    <td>5</td>\n",
    "    <td>2</td>\n",
    "    <td>2</td>\n",
    "    <td>20</td>\n",
    "    <td>15</td> \n",
    "  </tr>    \n",
    "  <tr>\n",
    "    <td>Fuchsia</td>\n",
    "    <td>0</td>\n",
    "    <td>1</td>\n",
    "    <td>0</td>\n",
    "    <td>4</td>\n",
    "    <td>3</td>\n",
    "    <td>12</td>\n",
    "    <td>50</td>\n",
    "    <td>40</td> \n",
    "  </tr>  \n",
    "  <tr>\n",
    "    <td>Gerânio</td>\n",
    "    <td>0</td>\n",
    "    <td>0</td>\n",
    "    <td>0</td>\n",
    "    <td>4</td>\n",
    "    <td>3</td>\n",
    "    <td>13</td>\n",
    "    <td>40</td>\n",
    "    <td>20</td>\n",
    "   </tr>\n",
    "   <tr>\n",
    "    <td>Gladíolo</td>\n",
    "    <td>0</td>\n",
    "    <td>0</td>\n",
    "    <td>1</td>\n",
    "    <td>2</td>\n",
    "    <td>2</td>\n",
    "    <td>7</td>\n",
    "    <td>100</td>\n",
    "    <td>15</td>\n",
    "   </tr>\n",
    "   <tr>\n",
    "    <td>Queiró</td>\n",
    "    <td>1</td>\n",
    "    <td>1</td>\n",
    "    <td>0</td>\n",
    "    <td>3</td>\n",
    "    <td>1</td>\n",
    "    <td>4</td>\n",
    "    <td>25</td>\n",
    "    <td>15</td>\n",
    "   </tr>\n",
    "   <tr>\n",
    "    <td>Hortênsia</td>\n",
    "    <td>1</td>\n",
    "    <td>1</td>\n",
    "    <td>0</td>\n",
    "    <td>5</td>\n",
    "    <td>2</td>\n",
    "    <td>14</td>\n",
    "    <td>100</td>\n",
    "    <td>60</td>\n",
    "   </tr>\n",
    "   <tr>\n",
    "    <td>Iris</td>\n",
    "    <td>1</td>\n",
    "    <td>1</td>\n",
    "    <td>1</td>\n",
    "    <td>5</td>\n",
    "    <td>3</td>\n",
    "    <td>8</td>\n",
    "    <td>45</td>\n",
    "    <td>10</td>\n",
    "   </tr>\n",
    "    <tr>\n",
    "    <td>Lírio</td>\n",
    "    <td>1</td>\n",
    "    <td>1</td>\n",
    "    <td>1</td>\n",
    "    <td>1</td>\n",
    "    <td>2</td>\n",
    "    <td>9</td>\n",
    "    <td>90</td>\n",
    "    <td>25</td>\n",
    "   </tr>\n",
    "    <tr>\n",
    "    <td>Lírio do Vale</td>\n",
    "    <td>1</td>\n",
    "    <td>1</td>\n",
    "    <td>0</td>\n",
    "    <td>1</td>\n",
    "    <td>2</td>\n",
    "    <td>6</td>\n",
    "    <td>20</td>\n",
    "    <td>10</td>\n",
    "   </tr>\n",
    "    <tr>\n",
    "    <td>Peônia</td>\n",
    "    <td>1</td>\n",
    "    <td>1</td>\n",
    "    <td>1</td>\n",
    "    <td>4</td>\n",
    "    <td>2</td>\n",
    "    <td>11</td>\n",
    "    <td>80</td>\n",
    "    <td>30</td>\n",
    "   </tr>\n",
    "    <tr>\n",
    "    <td>Craveiro</td>\n",
    "    <td>1</td>\n",
    "    <td>0</td>\n",
    "    <td>0</td>\n",
    "    <td>3</td>\n",
    "    <td>2</td>\n",
    "    <td>10</td>\n",
    "    <td>40</td>\n",
    "    <td>20</td>\n",
    "   </tr>\n",
    "   <tr>\n",
    "    <td>Rosa Vermelha</td>\n",
    "    <td>1</td>\n",
    "    <td>0</td>\n",
    "    <td>0</td>\n",
    "    <td>4</td>\n",
    "    <td>2</td>\n",
    "    <td>18</td>\n",
    "    <td>200</td>\n",
    "    <td>60</td>\n",
    "   </tr>\n",
    "    <tr>\n",
    "    <td>Rosa Burnet</td>\n",
    "    <td>1</td>\n",
    "    <td>0</td>\n",
    "    <td>0</td>\n",
    "    <td>2</td>\n",
    "    <td>2</td>\n",
    "    <td>17</td>\n",
    "    <td>150</td>\n",
    "    <td>60</td>\n",
    "   </tr>\n",
    "<tr>\n",
    "    <td>Tulipa</td>\n",
    "    <td>0</td>\n",
    "    <td>0</td>\n",
    "    <td>1</td>\n",
    "    <td>2</td>\n",
    "    <td>1</td>\n",
    "    <td>5</td>\n",
    "    <td>25</td>\n",
    "    <td>10</td>\n",
    "   </tr>\n",
    "</table>\n",
    "\n",
    "Os atributos são os seguintes:\n",
    "\n",
    "<ol>\n",
    "  <li>Resistente ao inverno (1=SIM,0=NÃO) </li>\n",
    "  <li>Necessita de Sombra (Idem) </li>\n",
    "  <li>Possui tubérculos (Idem) </li>\n",
    "  <li>Cor 1 = Branco, 2 = Amarela, 3 = Rosa, 4 = Vermelha, 5 = Azul </li>\n",
    "  <li>tipo de solo 1 = Seco, 2 = Normal, 3 = Húmido </li>\n",
    "  <li>Preferencia das pessoas. Um número entre 0 e 18 </li>\n",
    "  <li>Altura em centímetros </li>\n",
    "  <li>Distância mínima a ser mantida entre duas plantas em Centímetros </li>\n",
    "</ol>\n",
    "Se você não consegue distinguir alguns tipos, fique tranquilo, só máquinas conseguem...  ;-) "
   ]
  },
  {
   "cell_type": "code",
   "execution_count": 1,
   "metadata": {
    "collapsed": true
   },
   "outputs": [],
   "source": [
    "#vamos ao código\n",
    "import math"
   ]
  },
  {
   "cell_type": "code",
   "execution_count": 2,
   "metadata": {
    "collapsed": true
   },
   "outputs": [],
   "source": [
    "# definindo o dataset\n",
    "dataset =[[0,1,1,4,3,15,25,15,\"Begônia\"],\n",
    "[1,0,0,2,1,3,150,50,\"Giesta\"],\n",
    "[0,1,0,3,3,1,150,50,\"Camélia\"],\n",
    "[0,0,1,4,2,16,125,50,\"Dália\"],\n",
    "[0,1,0,5,2,2,20,15,\"Miosótis\"],\n",
    "[0,1,0,4,3,12,50,40,\"Fuchsia\"],\n",
    "[0,0,0,4,3,13,40,20,\"Gerânio\"],\n",
    "[0,0,1,2,2,7,100,15,\"Gladíolo\"],\n",
    "[1,1,0,3,1,4,25,15,\"Queiró\"],\n",
    "[1,1,0,5,2,14,100,60,\"Hortênsia\"],\n",
    "[1,1,1,5,3,8,45,10,\"Iris\"],\n",
    "[1,1,1,1,2,9,90,25,\"Lírio\"],\n",
    "[1,1,0,1,2,6,20,10,\"Lírio do Vale\"],\n",
    "[1,1,1,4,2,11,80,30,\"Peônia\"],\n",
    "[1,0,0,3,2,10,40,20,\"Craveiro\"],\n",
    "[1,0,0,4,2,18,200,60,\"Rosa Vermelha\"],\n",
    "[1,0,0,2,2,17,150,60,\"Rosa Burnet\"],\n",
    "[0,0,1,2,1,5,25,10,\"Tulipa\"],\n",
    "]"
   ]
  },
  {
   "cell_type": "code",
   "execution_count": 3,
   "metadata": {
    "collapsed": true
   },
   "outputs": [],
   "source": [
    "# Uma etapa importante que pode ser deixada de lado(asvezes) - Normalizacao\n",
    "#\n",
    "# normalizar os campos de 6 a 8 \n",
    "#\n",
    "def normalizaDs(ds):\n",
    "    vetorMaximos = [i for i in ds[0][:-1]]\n",
    "    vetorMinimos = [i for i in ds[0][:-1]]\n",
    "    for i in ds[1:]:\n",
    "        for j,k in enumerate(i[:-1]):\n",
    "            vetorMaximos[j] = max(k,vetorMaximos[j])\n",
    "            vetorMinimos[j] = min(k,vetorMinimos[j])\n",
    "    for d in ds:\n",
    "        for i in range(1,len(d)-1):\n",
    "            d[i] = (d[i] - vetorMinimos[i])/(vetorMaximos[i] - vetorMinimos[i])\n",
    "    return ds"
   ]
  },
  {
   "cell_type": "code",
   "execution_count": 4,
   "metadata": {},
   "outputs": [
    {
     "name": "stdout",
     "output_type": "stream",
     "text": [
      "[[0, 1.0, 1.0, 0.75, 1.0, 0.8235294117647058, 0.027777777777777776, 0.1, 'Begônia'], [1, 0.0, 0.0, 0.25, 0.0, 0.11764705882352941, 0.7222222222222222, 0.8, 'Giesta'], [0, 1.0, 0.0, 0.5, 1.0, 0.0, 0.7222222222222222, 0.8, 'Camélia'], [0, 0.0, 1.0, 0.75, 0.5, 0.8823529411764706, 0.5833333333333334, 0.8, 'Dália'], [0, 1.0, 0.0, 1.0, 0.5, 0.058823529411764705, 0.0, 0.1, 'Miosótis'], [0, 1.0, 0.0, 0.75, 1.0, 0.6470588235294118, 0.16666666666666666, 0.6, 'Fuchsia'], [0, 0.0, 0.0, 0.75, 1.0, 0.7058823529411765, 0.1111111111111111, 0.2, 'Gerânio'], [0, 0.0, 1.0, 0.25, 0.5, 0.35294117647058826, 0.4444444444444444, 0.1, 'Gladíolo'], [1, 1.0, 0.0, 0.5, 0.0, 0.17647058823529413, 0.027777777777777776, 0.1, 'Queiró'], [1, 1.0, 0.0, 1.0, 0.5, 0.7647058823529411, 0.4444444444444444, 1.0, 'Hortênsia'], [1, 1.0, 1.0, 1.0, 1.0, 0.4117647058823529, 0.1388888888888889, 0.0, 'Iris'], [1, 1.0, 1.0, 0.0, 0.5, 0.47058823529411764, 0.3888888888888889, 0.3, 'Lírio'], [1, 1.0, 0.0, 0.0, 0.5, 0.29411764705882354, 0.0, 0.0, 'Lírio do Vale'], [1, 1.0, 1.0, 0.75, 0.5, 0.5882352941176471, 0.3333333333333333, 0.4, 'Peônia'], [1, 0.0, 0.0, 0.5, 0.5, 0.5294117647058824, 0.1111111111111111, 0.2, 'Craveiro'], [1, 0.0, 0.0, 0.75, 0.5, 1.0, 1.0, 1.0, 'Rosa Vermelha'], [1, 0.0, 0.0, 0.25, 0.5, 0.9411764705882353, 0.7222222222222222, 1.0, 'Rosa Burnet'], [0, 0.0, 1.0, 0.25, 0.0, 0.23529411764705882, 0.027777777777777776, 0.0, 'Tulipa']]\n"
     ]
    }
   ],
   "source": [
    "#testando\n",
    "dsNormal = normalizaDs(dataset[:])\n",
    "print(dsNormal)"
   ]
  },
  {
   "cell_type": "code",
   "execution_count": 5,
   "metadata": {
    "collapsed": true
   },
   "outputs": [],
   "source": [
    "# nosso primeiro problema é selecionar uma medida de dissimilaridade\n",
    "# caso 1 - distância euclidiana\n",
    "# ATENÇÂO: LEVA EM CONTA O RÓTULO\n",
    "def euclidiana(a,b):\n",
    "    dist = 0\n",
    "    for i,j in zip(a[:-1],b[:-1]):\n",
    "        dist += (i-j)**2\n",
    "    return math.sqrt(dist)"
   ]
  },
  {
   "cell_type": "code",
   "execution_count": 6,
   "metadata": {},
   "outputs": [
    {
     "data": {
      "text/plain": [
       "2.3917614811292376"
      ]
     },
     "execution_count": 6,
     "metadata": {},
     "output_type": "execute_result"
    }
   ],
   "source": [
    "#teste\n",
    "euclidiana(dataset[0],dataset[1])"
   ]
  },
  {
   "cell_type": "code",
   "execution_count": 7,
   "metadata": {
    "collapsed": true
   },
   "outputs": [],
   "source": [
    "#caso 2 - distancia quarteirão (manhattan)\n",
    "def quarteirao(a,b):\n",
    "    dist = 0\n",
    "    for i,j in zip(a[:-1],b[:-1]):\n",
    "        dist += abs(i-j)\n",
    "    return dist"
   ]
  },
  {
   "cell_type": "code",
   "execution_count": 8,
   "metadata": {},
   "outputs": [
    {
     "data": {
      "text/plain": [
       "6.6003267973856214"
      ]
     },
     "execution_count": 8,
     "metadata": {},
     "output_type": "execute_result"
    }
   ],
   "source": [
    "#teste\n",
    "quarteirao(dataset[0],dataset[1])"
   ]
  },
  {
   "cell_type": "code",
   "execution_count": 9,
   "metadata": {
    "collapsed": true
   },
   "outputs": [],
   "source": [
    "# construindo uma matriz de distancias euclidianas\n",
    "def matrizEuclidiana(a):\n",
    "    distancias = []\n",
    "    for i in a:\n",
    "        d = []\n",
    "        for j in a:\n",
    "            d.append(euclidiana(i,j))\n",
    "        distancias.append(d)\n",
    "    return a,distancias"
   ]
  },
  {
   "cell_type": "code",
   "execution_count": 10,
   "metadata": {},
   "outputs": [
    {
     "name": "stdout",
     "output_type": "stream",
     "text": [
      "      Begônia:0.0 \n",
      "       Giesta:2.4 0.0 \n",
      "      Camélia:1.6 1.8 0.0 \n",
      "        Dália:1.4 1.8 1.8 0.0 \n",
      "     Miosótis:1.4 2.0 1.2 1.9 0.0 \n",
      "      Fuchsia:1.1 2.0 0.9 1.6 1.0 0.0 \n",
      "      Gerânio:1.4 1.8 1.5 1.4 1.3 1.1 0.0 \n",
      "     Gladíolo:1.4 1.7 1.7 1.0 1.7 1.7 1.3 0.0 \n",
      "       Queiró:1.9 1.4 1.7 2.1 1.2 1.6 1.8 1.9 0.0 \n",
      "    Hortênsia:1.8 1.5 1.5 1.8 1.6 1.3 1.8 2.1 1.4 0.0 \n",
      "         Iris:1.1 2.2 1.8 1.8 1.6 1.6 1.8 1.7 1.5 1.6 0.0 \n",
      "        Lírio:1.5 1.7 1.8 1.7 1.8 1.7 2.0 1.5 1.3 1.6 1.2 0.0 \n",
      "Lírio do Vale:1.8 1.6 1.7 2.2 1.4 1.5 1.7 1.8 0.7 1.6 1.5 1.1 0.0 \n",
      "       Peônia:1.2 1.7 1.7 1.5 1.6 1.5 1.8 1.6 1.3 1.2 0.7 0.8 1.4 0.0 \n",
      "     Craveiro:1.8 1.1 1.8 1.7 1.6 1.6 1.2 1.5 1.2 1.4 1.6 1.5 1.2 1.5 0.0 \n",
      "Rosa Vermelha:2.2 1.2 1.9 1.5 2.2 1.8 1.7 1.9 1.9 1.2 2.1 1.9 2.0 1.7 1.3 0.0 \n",
      "  Rosa Burnet:2.2 1.0 1.8 1.5 2.2 1.7 1.6 1.8 1.8 1.3 2.1 1.7 1.7 1.7 1.1 0.6 0.0 \n",
      "       Tulipa:1.6 1.8 2.1 1.4 1.7 1.9 1.6 0.7 1.8 2.3 1.9 1.6 1.8 1.7 1.6 2.2 2.1 0.0 \n"
     ]
    }
   ],
   "source": [
    "#testando \n",
    "a,mat = matrizEuclidiana(dataset)\n",
    "for k,i in enumerate(mat):\n",
    "    print(\"{:>13}\".format(a[k][-1]),end=\":\")\n",
    "    for j in i[:k+1]:\n",
    "        print(\"{0:.1f}\".format(j),end=\" \")\n",
    "    print()\n",
    "    "
   ]
  },
  {
   "cell_type": "code",
   "execution_count": 11,
   "metadata": {
    "collapsed": true
   },
   "outputs": [],
   "source": [
    "# construindo uma matriz de distancias quarteirao\n",
    "def matrizQuarteirao(a):\n",
    "    distancias = []\n",
    "    for i in a:\n",
    "        d = []\n",
    "        for j in a:\n",
    "            d.append(quarteirao(i,j))\n",
    "        distancias.append(d)\n",
    "    return a,distancias"
   ]
  },
  {
   "cell_type": "code",
   "execution_count": 12,
   "metadata": {},
   "outputs": [
    {
     "name": "stdout",
     "output_type": "stream",
     "text": [
      "      Begônia:0.0 \n",
      "       Giesta:2.4 0.0 \n",
      "      Camélia:1.6 1.8 0.0 \n",
      "        Dália:1.4 1.8 1.8 0.0 \n",
      "     Miosótis:1.4 2.0 1.2 1.9 0.0 \n",
      "      Fuchsia:1.1 2.0 0.9 1.6 1.0 0.0 \n",
      "      Gerânio:1.4 1.8 1.5 1.4 1.3 1.1 0.0 \n",
      "     Gladíolo:1.4 1.7 1.7 1.0 1.7 1.7 1.3 0.0 \n",
      "       Queiró:1.9 1.4 1.7 2.1 1.2 1.6 1.8 1.9 0.0 \n",
      "    Hortênsia:1.8 1.5 1.5 1.8 1.6 1.3 1.8 2.1 1.4 0.0 \n",
      "         Iris:1.1 2.2 1.8 1.8 1.6 1.6 1.8 1.7 1.5 1.6 0.0 \n",
      "        Lírio:1.5 1.7 1.8 1.7 1.8 1.7 2.0 1.5 1.3 1.6 1.2 0.0 \n",
      "Lírio do Vale:1.8 1.6 1.7 2.2 1.4 1.5 1.7 1.8 0.7 1.6 1.5 1.1 0.0 \n",
      "       Peônia:1.2 1.7 1.7 1.5 1.6 1.5 1.8 1.6 1.3 1.2 0.7 0.8 1.4 0.0 \n",
      "     Craveiro:1.8 1.1 1.8 1.7 1.6 1.6 1.2 1.5 1.2 1.4 1.6 1.5 1.2 1.5 0.0 \n",
      "Rosa Vermelha:2.2 1.2 1.9 1.5 2.2 1.8 1.7 1.9 1.9 1.2 2.1 1.9 2.0 1.7 1.3 0.0 \n",
      "  Rosa Burnet:2.2 1.0 1.8 1.5 2.2 1.7 1.6 1.8 1.8 1.3 2.1 1.7 1.7 1.7 1.1 0.6 0.0 \n",
      "       Tulipa:1.6 1.8 2.1 1.4 1.7 1.9 1.6 0.7 1.8 2.3 1.9 1.6 1.8 1.7 1.6 2.2 2.1 0.0 \n"
     ]
    }
   ],
   "source": [
    "#testando \n",
    "a,matq = matrizQuarteirao(dataset)\n",
    "for k,i in enumerate(mat):\n",
    "    print(\"{:>13}\".format(a[k][-1]),end=\":\")\n",
    "    for j in i[:k+1]:\n",
    "        print(\"{0:.1f}\".format(j),end=\" \")\n",
    "    print()"
   ]
  },
  {
   "cell_type": "markdown",
   "metadata": {},
   "source": [
    "Sendo um pouco mais inteligentes, Podemos observar que tanto a distancia euclidiana quanto quarteirão nos leva a conclusões exdrúxulas tais como Amarelo > Branco e Húmido > Seco. Pode ser que isso não afete o resultado final, mas talvez possamos fazer algo a respeito. Além disso os valoes numéricos dos atributos 6 a 8 possuem ordens de grandeza diferentes. O que fazer?"
   ]
  },
  {
   "cell_type": "code",
   "execution_count": 13,
   "metadata": {},
   "outputs": [
    {
     "data": {
      "text/plain": [
       "7.1003267973856214"
      ]
     },
     "execution_count": 13,
     "metadata": {},
     "output_type": "execute_result"
    }
   ],
   "source": [
    "#\n",
    "# criar uma distancia personalizada\n",
    "#\n",
    "def distanciaPersonalizada(a,b):\n",
    "    dist = 0\n",
    "    for i in range(0,5):\n",
    "        #compara valores categoricos\n",
    "        dist += (a[i] != b[i])\n",
    "    for i in range(5,8):\n",
    "        dist += abs(a[i]-b[i])\n",
    "    return dist\n",
    "#teste\n",
    "distanciaPersonalizada(dsNormal[0],dsNormal[1])"
   ]
  },
  {
   "cell_type": "code",
   "execution_count": 14,
   "metadata": {},
   "outputs": [
    {
     "name": "stdout",
     "output_type": "stream",
     "text": [
      "      Begônia:0.0 \n",
      "       Giesta:2.4 0.0 \n",
      "      Camélia:1.6 1.8 0.0 \n",
      "        Dália:1.4 1.8 1.8 0.0 \n",
      "     Miosótis:1.4 2.0 1.2 1.9 0.0 \n",
      "      Fuchsia:1.1 2.0 0.9 1.6 1.0 0.0 \n",
      "      Gerânio:1.4 1.8 1.5 1.4 1.3 1.1 0.0 \n",
      "     Gladíolo:1.4 1.7 1.7 1.0 1.7 1.7 1.3 0.0 \n",
      "       Queiró:1.9 1.4 1.7 2.1 1.2 1.6 1.8 1.9 0.0 \n",
      "    Hortênsia:1.8 1.5 1.5 1.8 1.6 1.3 1.8 2.1 1.4 0.0 \n",
      "         Iris:1.1 2.2 1.8 1.8 1.6 1.6 1.8 1.7 1.5 1.6 0.0 \n",
      "        Lírio:1.5 1.7 1.8 1.7 1.8 1.7 2.0 1.5 1.3 1.6 1.2 0.0 \n",
      "Lírio do Vale:1.8 1.6 1.7 2.2 1.4 1.5 1.7 1.8 0.7 1.6 1.5 1.1 0.0 \n",
      "       Peônia:1.2 1.7 1.7 1.5 1.6 1.5 1.8 1.6 1.3 1.2 0.7 0.8 1.4 0.0 \n",
      "     Craveiro:1.8 1.1 1.8 1.7 1.6 1.6 1.2 1.5 1.2 1.4 1.6 1.5 1.2 1.5 0.0 \n",
      "Rosa Vermelha:2.2 1.2 1.9 1.5 2.2 1.8 1.7 1.9 1.9 1.2 2.1 1.9 2.0 1.7 1.3 0.0 \n",
      "  Rosa Burnet:2.2 1.0 1.8 1.5 2.2 1.7 1.6 1.8 1.8 1.3 2.1 1.7 1.7 1.7 1.1 0.6 0.0 \n",
      "       Tulipa:1.6 1.8 2.1 1.4 1.7 1.9 1.6 0.7 1.8 2.3 1.9 1.6 1.8 1.7 1.6 2.2 2.1 0.0 \n"
     ]
    }
   ],
   "source": [
    "# Agora a matriz\n",
    "def matrizDs(a):\n",
    "    distancias = []\n",
    "    for i in a[1:]:\n",
    "        d = []\n",
    "        for j in a[1:]:\n",
    "            d.append(distanciaPersonalizada(i,j))\n",
    "        distancias.append(d)\n",
    "    return a,distancias\n",
    "\n",
    "#testando \n",
    "a,matds = matrizDs(dataset)\n",
    "for k,i in enumerate(mat):\n",
    "    print(\"{:>13}\".format(a[k][-1]),end=\":\")\n",
    "    for j in i[:k+1]:\n",
    "        print(\"{0:.1f}\".format(j),end=\" \")\n",
    "    print()"
   ]
  },
  {
   "cell_type": "code",
   "execution_count": 15,
   "metadata": {},
   "outputs": [
    {
     "name": "stdout",
     "output_type": "stream",
     "text": [
      "([15, 16], 0.5749962621092569)\n"
     ]
    }
   ],
   "source": [
    "# pegando o menor valor na matriz\n",
    "def minimo(matds):\n",
    "    #print(\"recebido \",len(matds),\"->\",matds)\n",
    "    if len(matds)==1:\n",
    "        return [0,0],0\n",
    "    if len(matds)==2:\n",
    "        return [0,1],matds[0][1]\n",
    "    menor = [0,1]\n",
    "    for i in range(len(matds)):\n",
    "        for j in range(len(matds)):\n",
    "            #print(\"i j\",i,j)\n",
    "            #print(\"len \",len(matds))\n",
    "            if (matds[i][j] < matds[menor[0]][menor[1]]) and i != j:\n",
    "                menor[0]=i\n",
    "                menor[1]=j\n",
    "    return menor,matds[menor[0]][menor[1]]\n",
    "print(minimo(mat))"
   ]
  },
  {
   "cell_type": "markdown",
   "metadata": {},
   "source": [
    "Aqui temos uma reflexão. Qual a melhor medida de dissimilaridade? Observe que as métricas euclidianas e quarteirão estão de acordo sobre quem é a mais próxima, mas a nosso cálculo personalizado não."
   ]
  },
  {
   "cell_type": "code",
   "execution_count": 16,
   "metadata": {},
   "outputs": [
    {
     "data": {
      "text/plain": [
       "[0.3333333333333333,\n",
       " 0.3333333333333333,\n",
       " 0.6666666666666666,\n",
       " 2.6666666666666665,\n",
       " 1.6666666666666667,\n",
       " 7.666666666666667,\n",
       " 66.66666666666667,\n",
       " 25.0]"
      ]
     },
     "execution_count": 16,
     "metadata": {},
     "output_type": "execute_result"
    }
   ],
   "source": [
    "# calcular o centroide de um grupo\n",
    "def centroide(grp):\n",
    "    novo = [0 for i in range(len(grp[0]))]\n",
    "    for g in grp:\n",
    "        for i,v in enumerate(g):\n",
    "            novo[i]+=g[i]\n",
    "    for i,v in enumerate(novo):\n",
    "        novo[i]=novo[i]/len(grp)\n",
    "    return novo\n",
    "\n",
    " #testando\n",
    "centroide([[1,0,0,2,1,3,150,50],[0,1,1,4,3,15,25,15],[0,0,1,2,1,5,25,10]])    \n",
    "        "
   ]
  },
  {
   "cell_type": "markdown",
   "metadata": {},
   "source": [
    "Agora que passamos um bom tempo estudando e preparando os dados vamos aos grupos..."
   ]
  },
  {
   "cell_type": "code",
   "execution_count": 17,
   "metadata": {},
   "outputs": [
    {
     "name": "stdout",
     "output_type": "stream",
     "text": [
      "Inicial ['Begônia', 'Giesta', 'Camélia', 'Dália', 'Miosótis', 'Fuchsia', 'Gerânio', 'Gladíolo', 'Queiró', 'Hortênsia', 'Iris', 'Lírio', 'Lírio do Vale', 'Peônia', 'Craveiro', 'Rosa Vermelha', 'Rosa Burnet', 'Tulipa']\n",
      "menor distância  [15, 16]\n",
      "\n",
      "Grupo atual 1 \n",
      "\n",
      " ['Begônia', 'Giesta', 'Camélia', 'Dália', 'Miosótis', 'Fuchsia', 'Gerânio', 'Gladíolo', 'Queiró', 'Hortênsia', 'Iris', 'Lírio', 'Lírio do Vale', 'Peônia', 'Craveiro', 'Rosa Vermelha + Rosa Burnet', 'Tulipa']\n",
      "menor distância  [7, 16]\n",
      "\n",
      "Grupo atual 2 \n",
      "\n",
      " ['Begônia', 'Giesta', 'Camélia', 'Dália', 'Miosótis', 'Fuchsia', 'Gerânio', 'Gladíolo + Tulipa', 'Queiró', 'Hortênsia', 'Iris', 'Lírio', 'Lírio do Vale', 'Peônia', 'Craveiro', 'Rosa Vermelha + Rosa Burnet']\n",
      "menor distância  [8, 12]\n",
      "\n",
      "Grupo atual 3 \n",
      "\n",
      " ['Begônia', 'Giesta', 'Camélia', 'Dália', 'Miosótis', 'Fuchsia', 'Gerânio', 'Gladíolo + Tulipa', 'Queiró + Lírio do Vale', 'Hortênsia', 'Iris', 'Lírio', 'Peônia', 'Craveiro', 'Rosa Vermelha + Rosa Burnet']\n",
      "menor distância  [10, 12]\n",
      "\n",
      "Grupo atual 4 \n",
      "\n",
      " ['Begônia', 'Giesta', 'Camélia', 'Dália', 'Miosótis', 'Fuchsia', 'Gerânio', 'Gladíolo + Tulipa', 'Queiró + Lírio do Vale', 'Hortênsia', 'Iris + Peônia', 'Lírio', 'Craveiro', 'Rosa Vermelha + Rosa Burnet']\n",
      "menor distância  [2, 5]\n",
      "\n",
      "Grupo atual 5 \n",
      "\n",
      " ['Begônia', 'Giesta', 'Camélia + Fuchsia', 'Dália', 'Miosótis', 'Gerânio', 'Gladíolo + Tulipa', 'Queiró + Lírio do Vale', 'Hortênsia', 'Iris + Peônia', 'Lírio', 'Craveiro', 'Rosa Vermelha + Rosa Burnet']\n",
      "menor distância  [9, 10]\n",
      "\n",
      "Grupo atual 6 \n",
      "\n",
      " ['Begônia', 'Giesta', 'Camélia + Fuchsia', 'Dália', 'Miosótis', 'Gerânio', 'Gladíolo + Tulipa', 'Queiró + Lírio do Vale', 'Hortênsia', 'Iris + Peônia + Lírio', 'Craveiro', 'Rosa Vermelha + Rosa Burnet']\n",
      "menor distância  [2, 4]\n",
      "\n",
      "Grupo atual 7 \n",
      "\n",
      " ['Begônia', 'Giesta', 'Camélia + Fuchsia + Miosótis', 'Dália', 'Gerânio', 'Gladíolo + Tulipa', 'Queiró + Lírio do Vale', 'Hortênsia', 'Iris + Peônia + Lírio', 'Craveiro', 'Rosa Vermelha + Rosa Burnet']\n",
      "menor distância  [1, 10]\n",
      "\n",
      "Grupo atual 8 \n",
      "\n",
      " ['Begônia', 'Giesta + Rosa Vermelha + Rosa Burnet', 'Camélia + Fuchsia + Miosótis', 'Dália', 'Gerânio', 'Gladíolo + Tulipa', 'Queiró + Lírio do Vale', 'Hortênsia', 'Iris + Peônia + Lírio', 'Craveiro']\n",
      "menor distância  [1, 9]\n",
      "\n",
      "Grupo atual 9 \n",
      "\n",
      " ['Begônia', 'Giesta + Rosa Vermelha + Rosa Burnet + Craveiro', 'Camélia + Fuchsia + Miosótis', 'Dália', 'Gerânio', 'Gladíolo + Tulipa', 'Queiró + Lírio do Vale', 'Hortênsia', 'Iris + Peônia + Lírio']\n",
      "menor distância  [3, 5]\n",
      "\n",
      "Grupo atual 10 \n",
      "\n",
      " ['Begônia', 'Giesta + Rosa Vermelha + Rosa Burnet + Craveiro', 'Camélia + Fuchsia + Miosótis', 'Dália + Gladíolo + Tulipa', 'Gerânio', 'Queiró + Lírio do Vale', 'Hortênsia', 'Iris + Peônia + Lírio']\n",
      "menor distância  [5, 7]\n",
      "\n",
      "Grupo atual 11 \n",
      "\n",
      " ['Begônia', 'Giesta + Rosa Vermelha + Rosa Burnet + Craveiro', 'Camélia + Fuchsia + Miosótis', 'Dália + Gladíolo + Tulipa', 'Gerânio', 'Queiró + Lírio do Vale + Iris + Peônia + Lírio', 'Hortênsia']\n",
      "menor distância  [2, 4]\n",
      "\n",
      "Grupo atual 12 \n",
      "\n",
      " ['Begônia', 'Giesta + Rosa Vermelha + Rosa Burnet + Craveiro', 'Camélia + Fuchsia + Miosótis + Gerânio', 'Dália + Gladíolo + Tulipa', 'Queiró + Lírio do Vale + Iris + Peônia + Lírio', 'Hortênsia']\n",
      "menor distância  [0, 2]\n",
      "\n",
      "Grupo atual 13 \n",
      "\n",
      " ['Begônia + Camélia + Fuchsia + Miosótis + Gerânio', 'Giesta + Rosa Vermelha + Rosa Burnet + Craveiro', 'Dália + Gladíolo + Tulipa', 'Queiró + Lírio do Vale + Iris + Peônia + Lírio', 'Hortênsia']\n",
      "menor distância  [0, 2]\n",
      "\n",
      "Grupo atual 14 \n",
      "\n",
      " ['Begônia + Camélia + Fuchsia + Miosótis + Gerânio + Dália + Gladíolo + Tulipa', 'Giesta + Rosa Vermelha + Rosa Burnet + Craveiro', 'Queiró + Lírio do Vale + Iris + Peônia + Lírio', 'Hortênsia']\n",
      "menor distância  [1, 2]\n",
      "\n",
      "Grupo atual 15 \n",
      "\n",
      " ['Begônia + Camélia + Fuchsia + Miosótis + Gerânio + Dália + Gladíolo + Tulipa', 'Giesta + Rosa Vermelha + Rosa Burnet + Craveiro + Queiró + Lírio do Vale + Iris + Peônia + Lírio', 'Hortênsia']\n",
      "menor distância  [1, 2]\n",
      "\n",
      "Grupo atual 16 \n",
      "\n",
      " ['Begônia + Camélia + Fuchsia + Miosótis + Gerânio + Dália + Gladíolo + Tulipa', 'Giesta + Rosa Vermelha + Rosa Burnet + Craveiro + Queiró + Lírio do Vale + Iris + Peônia + Lírio + Hortênsia']\n",
      "menor distância  [0, 1]\n",
      "\n",
      "Grupo atual 17 \n",
      "\n",
      " ['Begônia + Camélia + Fuchsia + Miosótis + Gerânio + Dália + Gladíolo + Tulipa + Giesta + Rosa Vermelha + Rosa Burnet + Craveiro + Queiró + Lírio do Vale + Iris + Peônia + Lírio + Hortênsia']\n"
     ]
    }
   ],
   "source": [
    "import itertools\n",
    "#criando os grupos iniciais\n",
    "#uma matriz para os nomes dos grupos e  outra para o centroides\n",
    "def AGNES(grupos):\n",
    "    res = []\n",
    "    total = len(grupos)\n",
    "    rGrupos = [i[-1] for i in grupos]  #rotulos\n",
    "    res.append([i for i in rGrupos])   #resultados \n",
    "    print(\"Inicial\",rGrupos)\n",
    "    while len(grupos) > 1:\n",
    "        a,me = matrizEuclidiana(grupos)\n",
    "        menor,valor = minimo(me)\n",
    "        print(\"menor distância \",menor)\n",
    "        imin=menor[0]\n",
    "        jmin=menor[1]\n",
    "        cent = centroide([grupos[imin][:-1],grupos[jmin][:-1]])\n",
    "        rotulo = grupos[imin][-1].rstrip() + \" + \" + grupos[jmin][-1].rstrip()\n",
    "        rGrupos[imin]=rotulo\n",
    "        grupos[imin] =cent+[rotulo]\n",
    "        del grupos[jmin]\n",
    "        del rGrupos[jmin]\n",
    "        print(\"\\nGrupo atual {} \\n\\n\".format(total-len(grupos)),rGrupos)\n",
    "        res.append([i for i in rGrupos])    \n",
    "    return res\n",
    "    \n",
    "#testando    \n",
    "r = AGNES(dsNormal[:])\n",
    "    "
   ]
  },
  {
   "cell_type": "markdown",
   "metadata": {},
   "source": [
    "Pelo que podemos ver os grupos formados foram:\n",
    "1. Rosa Vermelha + Rosa Burnet\n",
    "2. Gladílo + Tulipa\n",
    "3. Queiró + Lírio do Vale\n",
    "4. Íris + Peônia\n",
    "5. Camélia + Fuchsia\n",
    "6. Iris + Peônia + Lírio\n",
    "7. Camélia + Fuchsia + Miosótis\n",
    "8. Giesta + Rosa Vermelha + Rosa Burnet\n",
    "9. Giesta + Rosa Vermelha + Rosa Burnet + Craveiro\n",
    "10. Dália + Gladílo + Tulipa\n",
    "11. Queiró + Lírio do Vale + Iris + Peônia + Lírio\n",
    "12. Camélia + Fuchsia + Miosótis + Gerânio\n",
    "13. Begônia + Camélia + Fuchsia + Miosótis + Gerânio\n",
    "14. Begônia + Camélia + Fuchsia + Miosótis + Gerânio + Dália + Gladílo + Tulipa\n",
    "15. Giesta + Rosa Vermelha + Rosa Burnet + Craveiro + Queiró + Lírio do Vale + Iris + Peônia + Lírio\n",
    "16. Giesta + Rosa Vermelha + Rosa Burnet + Craveiro + Queiró + Lírio do Vale + Iris + Peônia + Lírio + Hortênsia\n",
    "17. Begônia + Camélia + Fuchsia + Miosótis + Gerânio + Dália + Gladílo + Tulipa + Giesta + Rosa Vermelha + Rosa Burnet + Craveiro + Queiró + Lírio do Vale + Iris + Peônia + Lírio + Hortênsia'"
   ]
  },
  {
   "cell_type": "markdown",
   "metadata": {},
   "source": [
    "Vamos fazer um dendograma para saber se estamos certos"
   ]
  },
  {
   "cell_type": "code",
   "execution_count": 18,
   "metadata": {
    "collapsed": true
   },
   "outputs": [],
   "source": [
    "import numpy as np\n",
    "X = np.array([i[:-1] for i in dataset])"
   ]
  },
  {
   "cell_type": "code",
   "execution_count": 19,
   "metadata": {},
   "outputs": [
    {
     "data": {
      "text/plain": [
       "array([[ 0.        ,  1.        ,  1.        ,  0.75      ,  1.        ,\n",
       "         0.82352941,  0.02777778,  0.1       ],\n",
       "       [ 1.        ,  0.        ,  0.        ,  0.25      ,  0.        ,\n",
       "         0.11764706,  0.72222222,  0.8       ],\n",
       "       [ 0.        ,  1.        ,  0.        ,  0.5       ,  1.        ,\n",
       "         0.        ,  0.72222222,  0.8       ],\n",
       "       [ 0.        ,  0.        ,  1.        ,  0.75      ,  0.5       ,\n",
       "         0.88235294,  0.58333333,  0.8       ],\n",
       "       [ 0.        ,  1.        ,  0.        ,  1.        ,  0.5       ,\n",
       "         0.05882353,  0.        ,  0.1       ],\n",
       "       [ 0.        ,  1.        ,  0.        ,  0.75      ,  1.        ,\n",
       "         0.64705882,  0.16666667,  0.6       ],\n",
       "       [ 0.        ,  0.        ,  0.        ,  0.75      ,  1.        ,\n",
       "         0.70588235,  0.11111111,  0.2       ],\n",
       "       [ 0.        ,  0.        ,  1.        ,  0.25      ,  0.5       ,\n",
       "         0.35294118,  0.44444444,  0.1       ],\n",
       "       [ 1.        ,  1.        ,  0.        ,  0.5       ,  0.        ,\n",
       "         0.17647059,  0.02777778,  0.1       ],\n",
       "       [ 1.        ,  1.        ,  0.        ,  1.        ,  0.5       ,\n",
       "         0.76470588,  0.44444444,  1.        ],\n",
       "       [ 1.        ,  1.        ,  1.        ,  1.        ,  1.        ,\n",
       "         0.41176471,  0.13888889,  0.        ],\n",
       "       [ 1.        ,  1.        ,  1.        ,  0.        ,  0.5       ,\n",
       "         0.47058824,  0.38888889,  0.3       ],\n",
       "       [ 1.        ,  1.        ,  0.        ,  0.        ,  0.5       ,\n",
       "         0.29411765,  0.        ,  0.        ],\n",
       "       [ 1.        ,  1.        ,  1.        ,  0.75      ,  0.5       ,\n",
       "         0.58823529,  0.33333333,  0.4       ],\n",
       "       [ 1.        ,  0.        ,  0.        ,  0.5       ,  0.5       ,\n",
       "         0.52941176,  0.11111111,  0.2       ],\n",
       "       [ 1.        ,  0.        ,  0.        ,  0.75      ,  0.5       ,\n",
       "         1.        ,  1.        ,  1.        ],\n",
       "       [ 1.        ,  0.        ,  0.        ,  0.25      ,  0.5       ,\n",
       "         0.94117647,  0.72222222,  1.        ],\n",
       "       [ 0.        ,  0.        ,  1.        ,  0.25      ,  0.        ,\n",
       "         0.23529412,  0.02777778,  0.        ]])"
      ]
     },
     "execution_count": 19,
     "metadata": {},
     "output_type": "execute_result"
    }
   ],
   "source": [
    "X"
   ]
  },
  {
   "cell_type": "code",
   "execution_count": 20,
   "metadata": {
    "collapsed": true
   },
   "outputs": [],
   "source": [
    "labels = [i[-1] for i in dataset]"
   ]
  },
  {
   "cell_type": "code",
   "execution_count": 21,
   "metadata": {},
   "outputs": [
    {
     "data": {
      "text/plain": [
       "['Begônia',\n",
       " 'Giesta',\n",
       " 'Camélia',\n",
       " 'Dália',\n",
       " 'Miosótis',\n",
       " 'Fuchsia',\n",
       " 'Gerânio',\n",
       " 'Gladíolo',\n",
       " 'Queiró',\n",
       " 'Hortênsia',\n",
       " 'Iris',\n",
       " 'Lírio',\n",
       " 'Lírio do Vale',\n",
       " 'Peônia',\n",
       " 'Craveiro',\n",
       " 'Rosa Vermelha',\n",
       " 'Rosa Burnet',\n",
       " 'Tulipa']"
      ]
     },
     "execution_count": 21,
     "metadata": {},
     "output_type": "execute_result"
    }
   ],
   "source": [
    "labels\n"
   ]
  },
  {
   "cell_type": "code",
   "execution_count": 22,
   "metadata": {},
   "outputs": [
    {
     "data": {
      "image/png": "[encoded data removed]",
      "text/plain": [
       "<matplotlib.figure.Figure at 0x1097f34a8>"
      ]
     },
     "metadata": {},
     "output_type": "display_data"
    }
   ],
   "source": [
    "from scipy.cluster.hierarchy import dendrogram, linkage  \n",
    "from matplotlib import pyplot as plt\n",
    "\n",
    "linked = linkage(X, 'single')\n",
    "\n",
    "plt.figure(figsize=(10, 5))  \n",
    "dendrogram(linked,  \n",
    "            orientation='top',\n",
    "            labels=labels,\n",
    "            distance_sort='ascending',\n",
    "            leaf_rotation=90,\n",
    "            show_leaf_counts=True)\n",
    "plt.show()  "
   ]
  },
  {
   "cell_type": "code",
   "execution_count": 23,
   "metadata": {},
   "outputs": [
    {
     "data": {
      "text/plain": [
       "[1, 0.0, 0.0, 0.75, 0.5, 1.0, 1.0, 1.0, 'Rosa Vermelha']"
      ]
     },
     "execution_count": 23,
     "metadata": {},
     "output_type": "execute_result"
    }
   ],
   "source": [
    "dataset[15]"
   ]
  },
  {
   "cell_type": "code",
   "execution_count": 24,
   "metadata": {},
   "outputs": [
    {
     "data": {
      "text/plain": [
       "[1,\n",
       " 0.0,\n",
       " 0.0,\n",
       " 0.25,\n",
       " 0.5,\n",
       " 0.9411764705882353,\n",
       " 0.7222222222222222,\n",
       " 1.0,\n",
       " 'Rosa Burnet']"
      ]
     },
     "execution_count": 24,
     "metadata": {},
     "output_type": "execute_result"
    }
   ],
   "source": [
    "dataset[16]"
   ]
  },
  {
   "cell_type": "code",
   "execution_count": 25,
   "metadata": {},
   "outputs": [
    {
     "data": {
      "text/plain": [
       "0.5749962621092569"
      ]
     },
     "execution_count": 25,
     "metadata": {},
     "output_type": "execute_result"
    }
   ],
   "source": [
    "euclidiana(dataset[15],dataset[16])"
   ]
  },
  {
   "cell_type": "code",
   "execution_count": 26,
   "metadata": {},
   "outputs": [
    {
     "data": {
      "text/plain": [
       "0.8366013071895425"
      ]
     },
     "execution_count": 26,
     "metadata": {},
     "output_type": "execute_result"
    }
   ],
   "source": [
    "quarteirao(dataset[15],dataset[16])"
   ]
  },
  {
   "cell_type": "code",
   "execution_count": 27,
   "metadata": {},
   "outputs": [
    {
     "name": "stdout",
     "output_type": "stream",
     "text": [
      "[0, 1.0, 0.0, 0.75, 1.0, 0.6470588235294118, 0.16666666666666666, 0.6, 'Fuchsia'] [0, 1.0, 0.0, 0.5, 1.0, 0.0, 0.7222222222222222, 0.8, 'Camélia']\n"
     ]
    }
   ],
   "source": [
    "# distancia entre fucsia e camelia\n",
    "print(dataset[5],dataset[2])"
   ]
  },
  {
   "cell_type": "code",
   "execution_count": 28,
   "metadata": {},
   "outputs": [
    {
     "data": {
      "text/plain": [
       "0.9109484598021496"
      ]
     },
     "execution_count": 28,
     "metadata": {},
     "output_type": "execute_result"
    }
   ],
   "source": [
    "euclidiana(dataset[5],dataset[2])"
   ]
  },
  {
   "cell_type": "code",
   "execution_count": 29,
   "metadata": {},
   "outputs": [
    {
     "name": "stdout",
     "output_type": "stream",
     "text": [
      "[1, 1.0, 1.0, 1.0, 1.0, 0.4117647058823529, 0.1388888888888889, 0.0, 'Iris'] [1, 1.0, 1.0, 0.75, 0.5, 0.5882352941176471, 0.3333333333333333, 0.4, 'Peônia']\n"
     ]
    }
   ],
   "source": [
    "# distancia entre iris e peonia\n",
    "print(dataset[10],dataset[13])"
   ]
  },
  {
   "cell_type": "code",
   "execution_count": 30,
   "metadata": {},
   "outputs": [
    {
     "data": {
      "text/plain": [
       "0.7358332083342117"
      ]
     },
     "execution_count": 30,
     "metadata": {},
     "output_type": "execute_result"
    }
   ],
   "source": [
    "euclidiana(dataset[10],dataset[13])"
   ]
  },
  {
   "cell_type": "code",
   "execution_count": 31,
   "metadata": {},
   "outputs": [
    {
     "data": {
      "text/plain": [
       "[1.0, 1.0, 1.0, 0.875, 0.75, 0.5, 0.2361111111111111, 0.2]"
      ]
     },
     "execution_count": 31,
     "metadata": {},
     "output_type": "execute_result"
    }
   ],
   "source": [
    "#calcular o centroide entre iris e peonia\n",
    "centroide([dataset[10][:-1],dataset[13][:-1]])"
   ]
  },
  {
   "cell_type": "code",
   "execution_count": 32,
   "metadata": {},
   "outputs": [
    {
     "data": {
      "text/plain": [
       "0.9232177973186123"
      ]
     },
     "execution_count": 32,
     "metadata": {},
     "output_type": "execute_result"
    }
   ],
   "source": [
    "#calculando a distancia do centroide para lirio\n",
    "c = centroide([dataset[10][:-1],dataset[13][:-1]])\n",
    "euclidiana(dataset[11],c)"
   ]
  },
  {
   "cell_type": "markdown",
   "metadata": {},
   "source": [
    "Esta claro que o Scipy não está usando os centróides."
   ]
  },
  {
   "cell_type": "code",
   "execution_count": 35,
   "metadata": {},
   "outputs": [
    {
     "data": {
      "text/plain": [
       "1.1857319290684791"
      ]
     },
     "execution_count": 35,
     "metadata": {},
     "output_type": "execute_result"
    }
   ],
   "source": [
    "#calculando a distancia entre lirio e iris [10] e [11]\n",
    "euclidiana(dataset[10],dataset[11])"
   ]
  },
  {
   "cell_type": "code",
   "execution_count": 36,
   "metadata": {},
   "outputs": [
    {
     "data": {
      "text/plain": [
       "0.7358332083342117"
      ]
     },
     "execution_count": 36,
     "metadata": {},
     "output_type": "execute_result"
    }
   ],
   "source": [
    "#calculando a distancia entre lirio e peonia [10] e [13]\n",
    "euclidiana(dataset[10],dataset[13])"
   ]
  },
  {
   "cell_type": "markdown",
   "metadata": {},
   "source": [
    "Eureka. O scipy está usando a distância mínima entre dois grupos."
   ]
  },
  {
   "cell_type": "code",
   "execution_count": 37,
   "metadata": {},
   "outputs": [
    {
     "data": {
      "image/png": "[encoded data removed]",
      "text/plain": [
       "<matplotlib.figure.Figure at 0x60b4be668>"
      ]
     },
     "metadata": {},
     "output_type": "display_data"
    }
   ],
   "source": [
    "linked = linkage(X, 'centroid')\n",
    "\n",
    "plt.figure(figsize=(10, 5))  \n",
    "dendrogram(linked,  \n",
    "            orientation='top',\n",
    "            labels=labels,\n",
    "            distance_sort='ascending',\n",
    "            leaf_rotation=90,\n",
    "            show_leaf_counts=True)\n",
    "plt.show()  "
   ]
  },
  {
   "cell_type": "code",
   "execution_count": 39,
   "metadata": {},
   "outputs": [
    {
     "data": {
      "image/png": "[encoded data removed]",
      "text/plain": [
       "<matplotlib.figure.Figure at 0x612af0a20>"
      ]
     },
     "metadata": {},
     "output_type": "display_data"
    }
   ],
   "source": [
    "#\n",
    "#pegando a maior distância\n",
    "#\n",
    "linked = linkage(X, 'complete')\n",
    "\n",
    "plt.figure(figsize=(10, 5))  \n",
    "dendrogram(linked,  \n",
    "            orientation='top',\n",
    "            labels=labels,\n",
    "            distance_sort='ascending',\n",
    "            leaf_rotation=90,\n",
    "            show_leaf_counts=True)\n",
    "plt.show()"
   ]
  },
  {
   "cell_type": "markdown",
   "metadata": {},
   "source": [
    "Bom, agora vamos fzer de trás pra frente."
   ]
  },
  {
   "cell_type": "code",
   "execution_count": 40,
   "metadata": {},
   "outputs": [
    {
     "name": "stdout",
     "output_type": "stream",
     "text": [
      "([0, 1], 2.3917614811292376)\n"
     ]
    }
   ],
   "source": [
    "# função auxiliar\n",
    "# pegando o maior  valor na matriz . ( Que são os dois elementos mais distantes)\n",
    "def maximo(matds):\n",
    "    if len(matds)==1:\n",
    "        return [0,0],0\n",
    "    if len(matds)==2:\n",
    "        return [0,1],matds[0][1]\n",
    "    maior = [0,1]\n",
    "    for i in range(len(matds)):\n",
    "        for j in range(len(matds)):\n",
    "            #print(\"i j\",i,j)\n",
    "            #print(\"len \",len(matds))\n",
    "            if (matds[i][j] > matds[maior[0]][maior[1]]) and i != j:\n",
    "                maior[0]=i\n",
    "                maior[1]=j\n",
    "    return maior,matds[maior[0]][maior[1]]\n",
    "print(maximo(mat))"
   ]
  },
  {
   "cell_type": "code",
   "execution_count": 41,
   "metadata": {
    "collapsed": true
   },
   "outputs": [],
   "source": [
    "def splitGrupo(grps): # esta funcao divide um grupo dado em dois\n",
    "    if len(grps) == 0:\n",
    "        return None\n",
    "    if len(grps) == 1:\n",
    "        return [grps]\n",
    "    if len(grps) == 2:\n",
    "        return [[grps[0]],[grps[1]]]\n",
    "    a,mat = matrizEuclidiana(grps)\n",
    "    elementoSeparar,v = maximo(mat)\n",
    "    pivo1=elementoSeparar[0]\n",
    "    pivo2=elementoSeparar[1]\n",
    "    ng1 = []\n",
    "    ng2 = []\n",
    "    for i in grps:\n",
    "        if euclidiana(i,grps[pivo1]) <= euclidiana(i,grps[pivo2]):\n",
    "            ng1.append(i)\n",
    "        else:\n",
    "            ng2.append(i)\n",
    "    return [ng1,ng2]"
   ]
  },
  {
   "cell_type": "code",
   "execution_count": 42,
   "metadata": {
    "collapsed": true
   },
   "outputs": [],
   "source": [
    "def testaSplitGrupo():\n",
    "    grup = dataset\n",
    "    a,b = splitGrupo(grup)\n",
    "    res = []\n",
    "    res.append([i[0] for i in a])\n",
    "    res.append([j[0] for j in b])\n",
    "    print(res)    \n",
    "      \n",
    "    grup = [['Giesta       ', 1.0, 0.0, 0.0, 0.25, 0.0, 0.11764705882352941, 0.7222222222222222, 0.8], \n",
    "            ['Hortênsia    ', 1.0, 1.0, 0.0, 1.0, 0.5, 0.7647058823529411, 0.4444444444444444, 1.0], \n",
    "            ['Rosa Vermelha', 1.0, 0.0, 0.0, 0.75, 0.5, 1.0, 1.0, 1.0], \n",
    "            ['Rosa Burnet  ', 1.0, 0.0, 0.0, 0.25, 0.5, 0.9411764705882353, 0.7222222222222222, 1.0]]     \n",
    "    a,b = splitGrupo(grup)\n",
    "    res = []\n",
    "    res.append([i[0] for i in a])\n",
    "    res.append([j[0] for j in b])\n",
    "    print(res)"
   ]
  },
  {
   "cell_type": "code",
   "execution_count": 43,
   "metadata": {},
   "outputs": [
    {
     "name": "stdout",
     "output_type": "stream",
     "text": [
      "Resultado final \n",
      "\n",
      "Begônia  ,Giesta  ,Camélia  ,Dália  ,Miosótis  ,Fuchsia  ,Gerânio  ,Gladíolo  ,Queiró  ,Hortênsia  ,Iris  ,Lírio  ,Lírio do Vale  ,Peônia  ,Craveiro  ,Rosa Vermelha  ,Rosa Burnet  ,Tulipa  ,\n",
      "Begônia  ,Camélia  ,Dália  ,Miosótis  ,Fuchsia  ,Gerânio  ,Gladíolo  ,Iris  ,Lírio  ,Peônia  ,Tulipa  ,\n",
      "Giesta  ,Queiró  ,Hortênsia  ,Lírio do Vale  ,Craveiro  ,Rosa Vermelha  ,Rosa Burnet  ,\n",
      "Camélia  ,Miosótis  ,Fuchsia  ,Gerânio  ,Iris  ,\n",
      "Begônia  ,Dália  ,Gladíolo  ,Lírio  ,Peônia  ,Tulipa  ,\n",
      "Camélia  ,Miosótis  ,Fuchsia  ,Gerânio  ,\n",
      "Iris  ,\n",
      "Camélia  ,Miosótis  ,Fuchsia  ,\n",
      "Gerânio  ,\n",
      "Camélia  ,Fuchsia  ,\n",
      "Miosótis  ,\n",
      "Camélia  ,\n",
      "Fuchsia  ,\n",
      "Begônia  ,Dália  ,Gladíolo  ,Tulipa  ,\n",
      "Lírio  ,Peônia  ,\n",
      "Begônia  ,\n",
      "Dália  ,Gladíolo  ,Tulipa  ,\n",
      "Dália  ,\n",
      "Gladíolo  ,Tulipa  ,\n",
      "Gladíolo  ,\n",
      "Tulipa  ,\n",
      "Lírio  ,\n",
      "Peônia  ,\n",
      "Queiró  ,Lírio do Vale  ,Craveiro  ,\n",
      "Giesta  ,Hortênsia  ,Rosa Vermelha  ,Rosa Burnet  ,\n",
      "Queiró  ,Lírio do Vale  ,\n",
      "Craveiro  ,\n",
      "Queiró  ,\n",
      "Lírio do Vale  ,\n",
      "Giesta  ,Rosa Vermelha  ,Rosa Burnet  ,\n",
      "Hortênsia  ,\n",
      "Giesta  ,\n",
      "Rosa Vermelha  ,Rosa Burnet  ,\n",
      "Rosa Vermelha  ,\n",
      "Rosa Burnet  ,"
     ]
    }
   ],
   "source": [
    "def DIANA(grupos,res=[]):\n",
    "    if len(grupos) < 2:\n",
    "        return res\n",
    "    if len(res) == 0:\n",
    "        res.append(grupos)\n",
    "    a,b = splitGrupo(grupos)\n",
    "    if len(a)!=0:\n",
    "        res.append(a)    \n",
    "    if len(b)!=0: \n",
    "        res.append(b)\n",
    "    DIANA(a,res)\n",
    "    DIANA(b,res)\n",
    "    return res\n",
    "\n",
    "dsNormal = normalizaDs(dataset)\n",
    "res = DIANA(dsNormal[:])  \n",
    "print(\"Resultado final \")\n",
    "\n",
    "#desagrupando\n",
    "\n",
    "for i,j in enumerate(res):\n",
    "    print(\"\")\n",
    "    for z in j:\n",
    "        print(z[-1].strip(),\" \",end=\",\")    \n"
   ]
  },
  {
   "cell_type": "markdown",
   "metadata": {},
   "source": [
    "<figure>\n",
    "  <img src=\"img/gruposFloresDiana.jpg\" alt=\"Trulli\" style=\"width:120%\">\n",
    "</figure>\n"
   ]
  },
  {
   "cell_type": "markdown",
   "metadata": {},
   "source": [
    "<h1> Boa Sorte com Agrupamentos Hierárquicos </h1>"
   ]
  },
  {
   "cell_type": "code",
   "execution_count": null,
   "metadata": {
    "collapsed": true
   },
   "outputs": [],
   "source": []
  }
 ],
 "metadata": {
  "kernelspec": {
   "display_name": "Python 3",
   "language": "python",
   "name": "python3"
  },
  "language_info": {
   "codemirror_mode": {
    "name": "ipython",
    "version": 3
   },
   "file_extension": ".py",
   "mimetype": "text/x-python",
   "name": "python",
   "nbconvert_exporter": "python",
   "pygments_lexer": "ipython3",
   "version": "3.6.3"
  }
 },
 "nbformat": 4,
 "nbformat_minor": 2
}
