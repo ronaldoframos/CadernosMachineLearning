{
 "cells": [
  {
   "cell_type": "markdown",
   "metadata": {},
   "source": [
    "<h1> Cadernos de Inteligência Artificial </h1> \n",
    "<h2> Ronaldo F. Ramos, Dr. </h2>\n",
    "ronaldo@ifce.edu.br <br> <br>\n",
    "Estes cadernos são usados como material auxiliar dos cursos de inteligência artificial <br>\n",
    "e Aprendizagem de Máquina ministrados no Instituto Federal de Ciência e Tecnologia do Ceará. <br>\n",
    "\n",
    "Trata-se de Material de Livre Acesso.  <br>\n",
    "Solicito apenas que matenha os textos e referências como estão caso deseje fazer uso pessoal sem fins lucrativos. <br>\n",
    "\n",
    "Grato. <br>\n",
    "\n",
    "Fortaleza, Janeiro de 2018 <br>"
   ]
  },
  {
   "cell_type": "markdown",
   "metadata": {},
   "source": [
    "<h1> Classificadores Elementares<h1>"
   ]
  },
  {
   "cell_type": "code",
   "execution_count": 15,
   "metadata": {
    "collapsed": true
   },
   "outputs": [],
   "source": [
    "import math \n",
    "import random\n",
    "import matplotlib.pyplot as plt"
   ]
  },
  {
   "cell_type": "code",
   "execution_count": 16,
   "metadata": {},
   "outputs": [],
   "source": [
    "tabela = [\n",
    "    [5.1,3.5,1.4,0.2,\"Iris-setosa\"],\n",
    "    [4.9,3.0,1.4,0.2,\"Iris-setosa\"],\n",
    "    [4.7,3.2,1.3,0.2,\"Iris-setosa\"],\n",
    "    [4.6,3.1,1.5,0.2,\"Iris-setosa\"],\n",
    "    [5.0,3.6,1.4,0.2,\"Iris-setosa\"],\n",
    "[5.4,3.9,1.7,0.4,\"Iris-setosa\"],\n",
    "[4.6,3.4,1.4,0.3,\"Iris-setosa\"],\n",
    "[5.0,3.4,1.5,0.2,\"Iris-setosa\"],\n",
    "[4.4,2.9,1.4,0.2,\"Iris-setosa\"],\n",
    "[4.9,3.1,1.5,0.1,\"Iris-setosa\"],\n",
    "[5.4,3.7,1.5,0.2,\"Iris-setosa\"],\n",
    "[4.8,3.4,1.6,0.2,\"Iris-setosa\"],\n",
    "[4.8,3.0,1.4,0.1,\"Iris-setosa\"],\n",
    "[4.3,3.0,1.1,0.1,\"Iris-setosa\"],\n",
    "[5.8,4.0,1.2,0.2,\"Iris-setosa\"],\n",
    "[5.7,4.4,1.5,0.4,\"Iris-setosa\"],\n",
    "[5.4,3.9,1.3,0.4,\"Iris-setosa\"],\n",
    "[5.1,3.5,1.4,0.3,\"Iris-setosa\"],\n",
    "[5.7,3.8,1.7,0.3,\"Iris-setosa\"],\n",
    "[5.1,3.8,1.5,0.3,\"Iris-setosa\"],\n",
    "[5.4,3.4,1.7,0.2,\"Iris-setosa\"],\n",
    "[5.1,3.7,1.5,0.4,\"Iris-setosa\"],\n",
    "[4.6,3.6,1.0,0.2,\"Iris-setosa\"],\n",
    "[5.1,3.3,1.7,0.5,\"Iris-setosa\"],\n",
    "[4.8,3.4,1.9,0.2,\"Iris-setosa\"],\n",
    "[5.0,3.0,1.6,0.2,\"Iris-setosa\"],\n",
    "[5.0,3.4,1.6,0.4,\"Iris-setosa\"],\n",
    "[5.2,3.5,1.5,0.2,\"Iris-setosa\"],\n",
    "[5.2,3.4,1.4,0.2,\"Iris-setosa\"],\n",
    "[4.7,3.2,1.6,0.2,\"Iris-setosa\"],\n",
    "[4.8,3.1,1.6,0.2,\"Iris-setosa\"],\n",
    "[5.4,3.4,1.5,0.4,\"Iris-setosa\"],\n",
    "[5.2,4.1,1.5,0.1,\"Iris-setosa\"],\n",
    "[5.5,4.2,1.4,0.2,\"Iris-setosa\"],\n",
    "[4.9,3.1,1.5,0.1,\"Iris-setosa\"],\n",
    "[5.0,3.2,1.2,0.2,\"Iris-setosa\"],\n",
    "[5.5,3.5,1.3,0.2,\"Iris-setosa\"],\n",
    "[4.9,3.1,1.5,0.1,\"Iris-setosa\"],\n",
    "[4.4,3.0,1.3,0.2,\"Iris-setosa\"],\n",
    "[5.1,3.4,1.5,0.2,\"Iris-setosa\"],\n",
    "[5.0,3.5,1.3,0.3,\"Iris-setosa\"],\n",
    "[4.5,2.3,1.3,0.3,\"Iris-setosa\"],\n",
    "[4.4,3.2,1.3,0.2,\"Iris-setosa\"],\n",
    "[5.0,3.5,1.6,0.6,\"Iris-setosa\"],\n",
    "[5.1,3.8,1.9,0.4,\"Iris-setosa\"],\n",
    "[4.8,3.0,1.4,0.3,\"Iris-setosa\"],\n",
    "[5.1,3.8,1.6,0.2,\"Iris-setosa\"],\n",
    "[4.6,3.2,1.4,0.2,\"Iris-setosa\"],\n",
    "[5.3,3.7,1.5,0.2,\"Iris-setosa\"],\n",
    "[5.0,3.3,1.4,0.2,\"Iris-setosa\"],\n",
    "[7.0,3.2,4.7,1.4,\"Iris-versicolor\"],\n",
    "[6.4,3.2,4.5,1.5,\"Iris-versicolor\"],\n",
    "[6.9,3.1,4.9,1.5,\"Iris-versicolor\"],\n",
    "[5.5,2.3,4.0,1.3,\"Iris-versicolor\"],\n",
    "[6.5,2.8,4.6,1.5,\"Iris-versicolor\"],\n",
    "[5.7,2.8,4.5,1.3,\"Iris-versicolor\"],\n",
    "[6.3,3.3,4.7,1.6,\"Iris-versicolor\"],\n",
    "[4.9,2.4,3.3,1.0,\"Iris-versicolor\"],\n",
    "[6.6,2.9,4.6,1.3,\"Iris-versicolor\"],\n",
    "[5.2,2.7,3.9,1.4,\"Iris-versicolor\"],\n",
    "[5.0,2.0,3.5,1.0,\"Iris-versicolor\"],\n",
    "[5.9,3.0,4.2,1.5,\"Iris-versicolor\"],\n",
    "[6.0,2.2,4.0,1.0,\"Iris-versicolor\"],\n",
    "[6.1,2.9,4.7,1.4,\"Iris-versicolor\"],\n",
    "[5.6,2.9,3.6,1.3,\"Iris-versicolor\"],\n",
    "[6.7,3.1,4.4,1.4,\"Iris-versicolor\"],\n",
    "[5.6,3.0,4.5,1.5,\"Iris-versicolor\"],\n",
    "[5.8,2.7,4.1,1.0,\"Iris-versicolor\"],\n",
    "[6.2,2.2,4.5,1.5,\"Iris-versicolor\"],\n",
    "[5.6,2.5,3.9,1.1,\"Iris-versicolor\"],\n",
    "[5.9,3.2,4.8,1.8,\"Iris-versicolor\"],\n",
    "[6.1,2.8,4.0,1.3,\"Iris-versicolor\"],\n",
    "[6.3,2.5,4.9,1.5,\"Iris-versicolor\"],\n",
    "[6.1,2.8,4.7,1.2,\"Iris-versicolor\"],\n",
    "[6.4,2.9,4.3,1.3,\"Iris-versicolor\"],\n",
    "[6.6,3.0,4.4,1.4,\"Iris-versicolor\"],\n",
    "[6.8,2.8,4.8,1.4,\"Iris-versicolor\"],\n",
    "[6.7,3.0,5.0,1.7,\"Iris-versicolor\"],\n",
    "[6.0,2.9,4.5,1.5,\"Iris-versicolor\"],\n",
    "[5.7,2.6,3.5,1.0,\"Iris-versicolor\"],\n",
    "[5.5,2.4,3.8,1.1,\"Iris-versicolor\"],\n",
    "[5.5,2.4,3.7,1.0,\"Iris-versicolor\"],\n",
    "[5.8,2.7,3.9,1.2,\"Iris-versicolor\"],\n",
    "[6.0,2.7,5.1,1.6,\"Iris-versicolor\"],\n",
    "[5.4,3.0,4.5,1.5,\"Iris-versicolor\"],\n",
    "[6.0,3.4,4.5,1.6,\"Iris-versicolor\"],\n",
    "[6.7,3.1,4.7,1.5,\"Iris-versicolor\"],\n",
    "[6.3,2.3,4.4,1.3,\"Iris-versicolor\"],\n",
    "[5.6,3.0,4.1,1.3,\"Iris-versicolor\"],\n",
    "[5.5,2.5,4.0,1.3,\"Iris-versicolor\"],\n",
    "[5.5,2.6,4.4,1.2,\"Iris-versicolor\"],\n",
    "[6.1,3.0,4.6,1.4,\"Iris-versicolor\"],\n",
    "[5.8,2.6,4.0,1.2,\"Iris-versicolor\"],\n",
    "[5.0,2.3,3.3,1.0,\"Iris-versicolor\"],\n",
    "[5.6,2.7,4.2,1.3,\"Iris-versicolor\"],\n",
    "[5.7,3.0,4.2,1.2,\"Iris-versicolor\"],\n",
    "[5.7,2.9,4.2,1.3,\"Iris-versicolor\"],\n",
    "[6.2,2.9,4.3,1.3,\"Iris-versicolor\"],\n",
    "[5.1,2.5,3.0,1.1,\"Iris-versicolor\"],\n",
    "[5.7,2.8,4.1,1.3,\"Iris-versicolor\"],\n",
    "[6.3,3.3,6.0,2.5,\"Iris-virginica\"],\n",
    "[5.8,2.7,5.1,1.9,\"Iris-virginica\"],\n",
    "[7.1,3.0,5.9,2.1,\"Iris-virginica\"],\n",
    "[6.3,2.9,5.6,1.8,\"Iris-virginica\"],\n",
    "[6.5,3.0,5.8,2.2,\"Iris-virginica\"],\n",
    "[7.6,3.0,6.6,2.1,\"Iris-virginica\"],\n",
    "[4.9,2.5,4.5,1.7,\"Iris-virginica\"],\n",
    "[7.3,2.9,6.3,1.8,\"Iris-virginica\"],\n",
    "[6.7,2.5,5.8,1.8,\"Iris-virginica\"],\n",
    "[7.2,3.6,6.1,2.5,\"Iris-virginica\"],\n",
    "[6.5,3.2,5.1,2.0,\"Iris-virginica\"],\n",
    "[6.4,2.7,5.3,1.9,\"Iris-virginica\"],\n",
    "[6.8,3.0,5.5,2.1,\"Iris-virginica\"],\n",
    "[5.7,2.5,5.0,2.0,\"Iris-virginica\"],\n",
    "[5.8,2.8,5.1,2.4,\"Iris-virginica\"],\n",
    "[6.4,3.2,5.3,2.3,\"Iris-virginica\"],\n",
    "[6.5,3.0,5.5,1.8,\"Iris-virginica\"],\n",
    "[7.7,3.8,6.7,2.2,\"Iris-virginica\"],\n",
    "[7.7,2.6,6.9,2.3,\"Iris-virginica\"],\n",
    "[6.0,2.2,5.0,1.5,\"Iris-virginica\"],\n",
    "[6.9,3.2,5.7,2.3,\"Iris-virginica\"],\n",
    "[5.6,2.8,4.9,2.0,\"Iris-virginica\"],\n",
    "[7.7,2.8,6.7,2.0,\"Iris-virginica\"],\n",
    "[6.3,2.7,4.9,1.8,\"Iris-virginica\"],\n",
    "[6.7,3.3,5.7,2.1,\"Iris-virginica\"],\n",
    "[7.2,3.2,6.0,1.8,\"Iris-virginica\"],\n",
    "[6.2,2.8,4.8,1.8,\"Iris-virginica\"],\n",
    "[6.1,3.0,4.9,1.8,\"Iris-virginica\"],\n",
    "[6.4,2.8,5.6,2.1,\"Iris-virginica\"],\n",
    "[7.2,3.0,5.8,1.6,\"Iris-virginica\"],\n",
    "[7.4,2.8,6.1,1.9,\"Iris-virginica\"],\n",
    "[7.9,3.8,6.4,2.0,\"Iris-virginica\"],\n",
    "[6.4,2.8,5.6,2.2,\"Iris-virginica\"],\n",
    "[6.3,2.8,5.1,1.5,\"Iris-virginica\"],\n",
    "[6.1,2.6,5.6,1.4,\"Iris-virginica\"],\n",
    "[7.7,3.0,6.1,2.3,\"Iris-virginica\"],\n",
    "[6.3,3.4,5.6,2.4,\"Iris-virginica\"],\n",
    "[6.4,3.1,5.5,1.8,\"Iris-virginica\"],\n",
    "[6.0,3.0,4.8,1.8,\"Iris-virginica\"],\n",
    "[6.9,3.1,5.4,2.1,\"Iris-virginica\"],\n",
    "[6.7,3.1,5.6,2.4,\"Iris-virginica\"],\n",
    "[6.9,3.1,5.1,2.3,\"Iris-virginica\"],\n",
    "[5.8,2.7,5.1,1.9,\"Iris-virginica\"],\n",
    "[6.8,3.2,5.9,2.3,\"Iris-virginica\"],\n",
    "[6.7,3.3,5.7,2.5,\"Iris-virginica\"],\n",
    "[6.7,3.0,5.2,2.3,\"Iris-virginica\"],\n",
    "[6.3,2.5,5.0,1.9,\"Iris-virginica\"],\n",
    "[6.5,3.0,5.2,2.0,\"Iris-virginica\"],\n",
    "[6.2,3.4,5.4,2.3,\"Iris-virginica\"],\n",
    "[5.9,3.0,5.1,1.8,\"Iris-virginica\"]]"
   ]
  },
  {
   "cell_type": "code",
   "execution_count": 17,
   "metadata": {
    "collapsed": true
   },
   "outputs": [],
   "source": [
    "def distanciaEuclidiana(a,b):    \n",
    "    d = 0\n",
    "    for i,j in zip(a,b):\n",
    "        d+= (i-j)**2\n",
    "    return  math.sqrt(d)"
   ]
  },
  {
   "cell_type": "code",
   "execution_count": 18,
   "metadata": {
    "collapsed": true
   },
   "outputs": [],
   "source": [
    "def vizinhos(vetor,tabela):\n",
    "    vizs = []\n",
    "    for i in tabela:\n",
    "        vizs.append(distanciaEuclidiana(vetor,i[:-1]))\n",
    "    return vizs"
   ]
  },
  {
   "cell_type": "code",
   "execution_count": 19,
   "metadata": {
    "collapsed": true
   },
   "outputs": [],
   "source": [
    "def maioria(dic):\n",
    "    return max(dic.items(), key = lambda x: x[1])\n",
    "    "
   ]
  },
  {
   "cell_type": "code",
   "execution_count": 20,
   "metadata": {},
   "outputs": [
    {
     "data": {
      "text/plain": [
       "('e', 10)"
      ]
     },
     "execution_count": 20,
     "metadata": {},
     "output_type": "execute_result"
    }
   ],
   "source": [
    "maioria({\"a\":2,\"e\":10,\"b\":4,\"c\":5})"
   ]
  },
  {
   "cell_type": "code",
   "execution_count": 21,
   "metadata": {
    "collapsed": true
   },
   "outputs": [],
   "source": [
    "def nn(vetor,tabela):\n",
    "    distancias = vizinhos(vetor,tabela)\n",
    "    posicao = distancias.index(min(distancias))\n",
    "    return tabela[posicao][-1]"
   ]
  },
  {
   "cell_type": "code",
   "execution_count": 22,
   "metadata": {},
   "outputs": [
    {
     "name": "stdout",
     "output_type": "stream",
     "text": [
      "Testando uma setosa =>  Iris-setosa\n",
      "Testando uma virginica =>  Iris-virginica\n",
      "Testando uma versicolor =>  Iris-versicolor\n"
     ]
    }
   ],
   "source": [
    "vetor1 = [4.3,3.0,1.1,0.1]        # setosa \n",
    "vetor2 = [6.7,3.0,5.2,2.3]        # virginica\n",
    "vetor3 = [5.7,2.6,3.5,1.0]        # versicolor\n",
    "print(\"Testando uma setosa => \",nn(vetor1,tabela))\n",
    "print(\"Testando uma virginica => \",nn(vetor2,tabela))\n",
    "print(\"Testando uma versicolor => \",nn(vetor3,tabela))"
   ]
  },
  {
   "cell_type": "code",
   "execution_count": 23,
   "metadata": {
    "collapsed": true
   },
   "outputs": [],
   "source": [
    "def knn(k,vetor,tabela):\n",
    "    tab2 = sorted(tabela,key = lambda tup: distanciaEuclidiana(tup[:-1],vetor))\n",
    "    classes = dict()\n",
    "    for j in range(k):\n",
    "        if tab2[j][-1] in classes.keys():\n",
    "            classes[tab2[j][-1]]+=1\n",
    "        else:\n",
    "            classes[tab2[j][-1]] = 1\n",
    "    return maioria(classes)"
   ]
  },
  {
   "cell_type": "code",
   "execution_count": 24,
   "metadata": {},
   "outputs": [
    {
     "name": "stdout",
     "output_type": "stream",
     "text": [
      "Testando uma setosa =>  ('Iris-setosa', 5)\n",
      "Testando uma virginica =>  ('Iris-virginica', 5)\n",
      "Testando uma versicolor =>  ('Iris-versicolor', 5)\n"
     ]
    }
   ],
   "source": [
    "print(\"Testando uma setosa => \",knn(5,vetor1,tabela))\n",
    "print(\"Testando uma virginica => \",knn(5,vetor2,tabela))\n",
    "print(\"Testando uma versicolor => \",knn(5,vetor3,tabela))"
   ]
  },
  {
   "cell_type": "code",
   "execution_count": 25,
   "metadata": {
    "collapsed": true
   },
   "outputs": [],
   "source": [
    "#\n",
    "# calculo de centroides generico\n",
    "#\n",
    "def calculaCentroides(tabela):\n",
    "    classes = set([i[-1] for i in tabela])\n",
    "    centroides =[]\n",
    "    for i in classes:\n",
    "        ct = [0 for j in tabela[0]]\n",
    "        n = 0\n",
    "        for k in tabela:\n",
    "            if k[-1] == i:\n",
    "                n+=1\n",
    "                for w in range(len(k)-1):\n",
    "                    ct[w]+=k[w]\n",
    "        for z,j in enumerate(ct[:-1]):\n",
    "            ct[z]  = j/n\n",
    "        ct[-1]=i\n",
    "        centroides.append(ct)    \n",
    "    return centroides"
   ]
  },
  {
   "cell_type": "code",
   "execution_count": 26,
   "metadata": {},
   "outputs": [
    {
     "name": "stdout",
     "output_type": "stream",
     "text": [
      "Testando uma setosa =>  Iris-setosa\n",
      "Testando uma virginica =>  Iris-virginica\n",
      "Testando uma versicolor =>  Iris-versicolor\n"
     ]
    }
   ],
   "source": [
    "centroides = calculaCentroides(tabela)\n",
    "print(\"Testando uma setosa => \",nn(vetor1,centroides))\n",
    "print(\"Testando uma virginica => \",nn(vetor2,centroides))\n",
    "print(\"Testando uma versicolor => \",nn(vetor3,centroides))\n"
   ]
  },
  {
   "cell_type": "code",
   "execution_count": 27,
   "metadata": {},
   "outputs": [
    {
     "name": "stdout",
     "output_type": "stream",
     "text": [
      "[6.587999999999998, 2.9739999999999998, 5.552, 2.026, 'Iris-virginica']\n",
      "[5.005999999999999, 3.4180000000000006, 1.464, 0.2439999999999999, 'Iris-setosa']\n",
      "[5.936, 2.7700000000000005, 4.26, 1.3259999999999998, 'Iris-versicolor']\n"
     ]
    }
   ],
   "source": [
    "for i in calculaCentroides(tabela):print(i)"
   ]
  },
  {
   "cell_type": "code",
   "execution_count": 28,
   "metadata": {
    "collapsed": true
   },
   "outputs": [],
   "source": [
    "def extrato(percentual,tabela):\n",
    "    tamanho = int(percentual * len(tabela))\n",
    "    teste = [ random.choice(tabela) for i in range(tamanho)]\n",
    "    treinamento = [ i for i in tabela if i not in teste]\n",
    "    return treinamento,teste"
   ]
  },
  {
   "cell_type": "code",
   "execution_count": 29,
   "metadata": {
    "collapsed": true
   },
   "outputs": [],
   "source": [
    "# fazendo um hold out\n",
    "def comparaAcertos(fatorPercentualTeste,tabela):\n",
    "    treinamento,teste = extrato(fatorPercentualTeste,tabela)\n",
    "    acertonn = 0\n",
    "    acertoknn = 0\n",
    "    acertodmc = 0\n",
    "    centroides = calculaCentroides(treinamento)\n",
    "    for i in teste:\n",
    "        vetor = i[:-1]\n",
    "        classe = i[-1]\n",
    "        if nn(vetor,treinamento) == classe:\n",
    "            acertonn+=1\n",
    "        if knn(5,vetor,tabela)[0] == classe:\n",
    "            acertoknn+=1\n",
    "        if nn(vetor,centroides) == classe:\n",
    "            acertodmc+=1\n",
    "    return acertonn,acertoknn,acertodmc"
   ]
  },
  {
   "cell_type": "code",
   "execution_count": 30,
   "metadata": {},
   "outputs": [
    {
     "name": "stdout",
     "output_type": "stream",
     "text": [
      "(43, 43, 40)\n",
      "(45, 45, 43)\n",
      "(45, 45, 42)\n",
      "(42, 44, 38)\n",
      "(44, 44, 39)\n",
      "(45, 45, 42)\n",
      "(45, 45, 43)\n",
      "(42, 43, 41)\n",
      "(45, 45, 41)\n",
      "(41, 42, 41)\n"
     ]
    }
   ],
   "source": [
    "for i in range(10): print(comparaAcertos(0.3,tabela))"
   ]
  },
  {
   "cell_type": "code",
   "execution_count": 31,
   "metadata": {},
   "outputs": [
    {
     "name": "stdout",
     "output_type": "stream",
     "text": [
      "Matriz de Confusão\n",
      "{'Iris-virginica', 'Iris-setosa', 'Iris-versicolor'}\n",
      "[15, 0, 1]\n",
      "[0, 11, 0]\n",
      "[1, 0, 17]\n"
     ]
    }
   ],
   "source": [
    "#imprimir a matriz de confusao, depois calcular tpr e fpr e fazer a curva ROC\n",
    "# explorando o nn\n",
    "treinamento,teste = extrato(0.3,tabela)\n",
    "predicoes = []\n",
    "classes = set()\n",
    "for i in tabela:\n",
    "    classes.add(i[-1])\n",
    "mc = [[0 for i in classes] for j in classes]    \n",
    "for i in teste:\n",
    "    real = list(classes).index(i[-1])\n",
    "    predito = list(classes).index(nn(i[:-1],treinamento))\n",
    "    mc[real][predito] += 1\n",
    "print(\"Matriz de Confusão\") \n",
    "print(classes)\n",
    "for i in mc:\n",
    "    print(i)"
   ]
  },
  {
   "cell_type": "code",
   "execution_count": 18,
   "metadata": {},
   "outputs": [
    {
     "name": "stdout",
     "output_type": "stream",
     "text": [
      "Taxa de Verdadeiros Positivos  1.0\n",
      "Taxa de Falsos Positivos  0.0\n",
      "Taxa de Verdadeiros Negativos  1.0\n",
      "Taxa de Falsos Negativos  0.0\n"
     ]
    }
   ],
   "source": [
    "classeaAlvo = 'Iris-virginica'\n",
    "treinamento,teste = extrato(0.3,tabela)\n",
    "verdadeirosPositivos = 0\n",
    "verdadeirosNegativos = 0\n",
    "falsosPositivos = 0\n",
    "falsosNegativos = 0 \n",
    "for i in teste:\n",
    "    real = i[-1]\n",
    "    predito = nn(i[:-1],treinamento)\n",
    "    if real == classeaAlvo:\n",
    "        if predito == classeaAlvo:\n",
    "            verdadeirosPositivos +=1\n",
    "        else:\n",
    "            falsosNegativos += 1\n",
    "    else:\n",
    "        if predito == classeaAlvo:\n",
    "            falsosPositivos += 1\n",
    "        else:\n",
    "            verdadeirosNegativos += 1\n",
    "print(\"Taxa de Verdadeiros Positivos \",\n",
    "      verdadeirosPositivos/(verdadeirosPositivos + falsosNegativos))\n",
    "print(\"Taxa de Falsos Positivos \",\n",
    "      falsosPositivos/(falsosPositivos + verdadeirosNegativos))\n",
    "print(\"Taxa de Verdadeiros Negativos \",\n",
    "      verdadeirosNegativos/(verdadeirosNegativos + falsosPositivos))\n",
    "print(\"Taxa de Falsos Negativos \",\n",
    "      falsosNegativos/(falsosNegativos + verdadeirosPositivos))"
   ]
  },
  {
   "cell_type": "code",
   "execution_count": 19,
   "metadata": {
    "collapsed": true
   },
   "outputs": [],
   "source": [
    "# ver http://www.cs.toronto.edu/~fritz/absps/nca.pdf\n",
    "# transforma distância em probabilidades\n",
    "def nnProba(vetor,tabela):\n",
    "    distancias = vizinhos(vetor,tabela)\n",
    "    probs = []\n",
    "    den = 0\n",
    "    for i,d in enumerate(distancias):\n",
    "        den += math.exp(-d)\n",
    "    for i,d in enumerate(distancias):\n",
    "        proba = math.exp(-d)/den\n",
    "        probs.append(proba)\n",
    "    return probs\n"
   ]
  },
  {
   "cell_type": "code",
   "execution_count": 20,
   "metadata": {
    "collapsed": true
   },
   "outputs": [],
   "source": [
    "def nnProbaClasses(vetor,tabela): # usando softmax\n",
    "    classes = set()\n",
    "    probs = nnProba(vetor,tabela)\n",
    "    for i in tabela: classes.add(i[-1])\n",
    "    ppclasse = [0 for i in classes]\n",
    "    for v,p in zip(tabela,probs):\n",
    "        ind = list(classes).index(v[-1])\n",
    "        ppclasse[ind]+=p\n",
    "    return(classes,ppclasse)               "
   ]
  },
  {
   "cell_type": "code",
   "execution_count": 21,
   "metadata": {},
   "outputs": [
    {
     "data": {
      "text/plain": [
       "({'Iris-setosa', 'Iris-versicolor', 'Iris-virginica'},\n",
       " [0.6760938378545565, 0.17084891616255743, 0.1530572459828861])"
      ]
     },
     "execution_count": 21,
     "metadata": {},
     "output_type": "execute_result"
    }
   ],
   "source": [
    "# probs por classe\n",
    "nnProbaClasses(vetor3,tabela)"
   ]
  },
  {
   "cell_type": "code",
   "execution_count": 22,
   "metadata": {
    "collapsed": true
   },
   "outputs": [],
   "source": [
    "# voltando ao caso das virginicas\n",
    "def evolucaoFprTpr(tabela,percentualTeste = 0.5, classeaAlvo = 'Iris-virginica'):\n",
    "    treinamento,teste = extrato(percentualTeste,tabela) \n",
    "    tprs = [] \n",
    "    fprs = []\n",
    "    for threshold in range(100): # usar valor de corte limiar = threshold\n",
    "        verdadeirosPositivos = 0\n",
    "        verdadeirosNegativos = 0\n",
    "        falsosPositivos = 0\n",
    "        falsosNegativos = 0\n",
    "        for i in teste:\n",
    "            real = i[-1]\n",
    "            predito = nnProbaClasses(i[:-1],treinamento)\n",
    "            ind = list(predito[0]).index(classeaAlvo)\n",
    "            probalvo = predito[1][ind]\n",
    "            if real == classeaAlvo:\n",
    "                if probalvo >= threshold/10.0:\n",
    "                    verdadeirosPositivos +=1\n",
    "                else:\n",
    "                    falsosNegativos += 1\n",
    "            else:\n",
    "                if probalvo >= threshold/10.0:\n",
    "                    falsosPositivos += 1\n",
    "                else:\n",
    "                    verdadeirosNegativos += 1\n",
    "        tpr = verdadeirosPositivos/(verdadeirosPositivos + falsosNegativos)\n",
    "        fpr = falsosPositivos/(falsosPositivos + verdadeirosNegativos)\n",
    "        tprs.append(tpr)\n",
    "        fprs.append(fpr)\n",
    "    return tprs,fprs\n"
   ]
  },
  {
   "cell_type": "code",
   "execution_count": 23,
   "metadata": {},
   "outputs": [
    {
     "data": {
      "image/png": "[encoded data removed]",
      "text/plain": [
       "<matplotlib.figure.Figure at 0x10dd1a438>"
      ]
     },
     "metadata": {},
     "output_type": "display_data"
    }
   ],
   "source": [
    "#vamos plotar\n",
    "\n",
    "t,f = evolucaoFprTpr(tabela,0.3)\n",
    "plt.plot(f,t)\n",
    "plt.plot([0, 1], [0, 1],lw=2, linestyle='--')\n",
    "plt.show()"
   ]
  },
  {
   "cell_type": "code",
   "execution_count": 24,
   "metadata": {},
   "outputs": [
    {
     "data": {
      "image/png": "[encoded data removed]",
      "text/plain": [
       "<matplotlib.figure.Figure at 0x10eaddc50>"
      ]
     },
     "metadata": {},
     "output_type": "display_data"
    }
   ],
   "source": [
    "t,f = evolucaoFprTpr(tabela,0.3,'Iris-setosa')\n",
    "plt.plot(f,t)\n",
    "plt.plot([0, 1], [0, 1],lw=2, linestyle='--')\n",
    "plt.show()"
   ]
  },
  {
   "cell_type": "code",
   "execution_count": 25,
   "metadata": {},
   "outputs": [
    {
     "data": {
      "image/png": "[encoded data removed]",
      "text/plain": [
       "<matplotlib.figure.Figure at 0x10ea59358>"
      ]
     },
     "metadata": {},
     "output_type": "display_data"
    }
   ],
   "source": [
    "t,f = evolucaoFprTpr(tabela,0.3,'Iris-versicolor')\n",
    "plt.plot(f,t)\n",
    "plt.plot([0, 1], [0, 1],lw =2, linestyle='--')\n",
    "plt.show()"
   ]
  },
  {
   "cell_type": "code",
   "execution_count": 26,
   "metadata": {},
   "outputs": [
    {
     "data": {
      "image/png": "[encoded data removed]",
      "text/plain": [
       "<matplotlib.figure.Figure at 0x115ea9c88>"
      ]
     },
     "metadata": {},
     "output_type": "display_data"
    }
   ],
   "source": [
    "# sera que esta certo???\n",
    "from sklearn import datasets\n",
    "from sklearn.neighbors import KNeighborsClassifier\n",
    "from sklearn.metrics import roc_curve, auc\n",
    "from sklearn.model_selection import train_test_split\n",
    "from sklearn.preprocessing import label_binarize\n",
    "\n",
    "iris = datasets.load_iris()\n",
    "X = iris.data\n",
    "y = iris.target\n",
    "\n",
    "y = label_binarize(y, classes=[0, 1, 2])\n",
    "n_classes = y.shape[1]\n",
    "\n",
    "X_train, X_test, y_train, y_test = train_test_split(X, y, test_size=.3,random_state=0)\n",
    "\n",
    "nn = KNeighborsClassifier(n_neighbors=1)\n",
    "\n",
    "nn.fit(X_train,y_train)\n",
    "\n",
    "y_score = nn.predict(X_test)\n",
    "\n",
    "fpr = dict()\n",
    "tpr = dict()\n",
    "\n",
    "#curva roc por classe\n",
    "for i in range(n_classes):\n",
    "    fpr[i], tpr[i], _ = roc_curve(y_test[:, i], y_score[:, i])\n",
    "\n",
    "## plotar 1 - virginica\n",
    "plt.plot(fpr[2], tpr[2])\n",
    "plt.plot([0, 1], [0, 1],lw=2, linestyle='--')\n",
    "plt.show()\n"
   ]
  },
  {
   "cell_type": "code",
   "execution_count": 27,
   "metadata": {},
   "outputs": [
    {
     "data": {
      "image/png": "[encoded data removed]",
      "text/plain": [
       "<matplotlib.figure.Figure at 0x10ea38668>"
      ]
     },
     "metadata": {},
     "output_type": "display_data"
    }
   ],
   "source": [
    "## plotar 2 - setosa\n",
    "plt.plot(fpr[0], tpr[0])\n",
    "plt.plot([0, 1], [0, 1],lw=2, linestyle='--')\n",
    "plt.show()\n",
    "\n"
   ]
  },
  {
   "cell_type": "code",
   "execution_count": 28,
   "metadata": {},
   "outputs": [
    {
     "data": {
      "image/png": "[encoded data removed]",
      "text/plain": [
       "<matplotlib.figure.Figure at 0x1a17ece400>"
      ]
     },
     "metadata": {},
     "output_type": "display_data"
    }
   ],
   "source": [
    "## plotar 3 - versicolor\n",
    "plt.plot(fpr[1], tpr[1])\n",
    "plt.plot([0, 1], [0, 1], lw=2,linestyle='--')\n",
    "plt.show()\n",
    "\n"
   ]
  },
  {
   "cell_type": "code",
   "execution_count": 102,
   "metadata": {
    "collapsed": true
   },
   "outputs": [],
   "source": [
    "#vamos fazer um histograma\n",
    "def histogramas(tabela,percentualTeste, classeAlvo):\n",
    "    treinamento,teste = extrato(percentualTeste,tabela) \n",
    "    positivosProbs = []\n",
    "    negativosProbs = []\n",
    "    for i in teste:\n",
    "        predito = nnProbaClasses(i[:-1],treinamento)\n",
    "        ind = list(predito[0]).index(classeAlvo)\n",
    "        if i[-1]==classeAlvo: \n",
    "            positivosProbs.append(predito[1][ind])\n",
    "        else:\n",
    "            negativosProbs.append(predito[1][ind])\n",
    "    return positivosProbs,negativosProbs"
   ]
  },
  {
   "cell_type": "code",
   "execution_count": 109,
   "metadata": {},
   "outputs": [
    {
     "data": {
      "image/png": "[encoded data removed]",
      "text/plain": [
       "<matplotlib.figure.Figure at 0x1a1839a6a0>"
      ]
     },
     "metadata": {},
     "output_type": "display_data"
    }
   ],
   "source": [
    "p,n = histogramas(tabela,0.5,'Iris-virginica')\n",
    "plt.hist(p,histtype=\"step\",label='Iris-Virgínica')\n",
    "plt.hist(n,histtype=\"step\",label=\"Outras\")\n",
    "plt.plot([0.5,0.5],[0,30],linestyle='--')\n",
    "plt.legend(loc=\"upper right\")\n",
    "plt.show()"
   ]
  },
  {
   "cell_type": "code",
   "execution_count": 104,
   "metadata": {},
   "outputs": [
    {
     "data": {
      "image/png": "[encoded data removed]",
      "text/plain": [
       "<matplotlib.figure.Figure at 0x1a182bdfd0>"
      ]
     },
     "metadata": {},
     "output_type": "display_data"
    }
   ],
   "source": [
    "p,n = histogramas(tabela,0.5,'Iris-setosa')\n",
    "plt.hist(p,histtype=\"step\",label='Iris-setosa')\n",
    "plt.hist(n,histtype=\"step\",label='Outras')\n",
    "plt.plot([0.5,0.5],[0,30],linestyle='--')\n",
    "plt.legend(loc=\"upper right\")\n",
    "plt.show()"
   ]
  },
  {
   "cell_type": "code",
   "execution_count": 111,
   "metadata": {},
   "outputs": [
    {
     "data": {
      "image/png": "[encoded data removed]",
      "text/plain": [
       "<matplotlib.figure.Figure at 0x1a1859e978>"
      ]
     },
     "metadata": {},
     "output_type": "display_data"
    }
   ],
   "source": [
    "p,n = histogramas(tabela,0.5,'Iris-versicolor' )\n",
    "plt.hist(p,histtype=\"step\",label='Iris-versicolor')\n",
    "plt.hist(n,histtype=\"step\",label='Outras')\n",
    "plt.plot([0.5,0.5],[0,30],linestyle='--')\n",
    "plt.legend(loc=\"upper right\")\n",
    "plt.show()"
   ]
  },
  {
   "cell_type": "markdown",
   "metadata": {},
   "source": [
    "<h1> Enjoy!!!</h1>"
   ]
  },
  {
   "cell_type": "code",
   "execution_count": null,
   "metadata": {
    "collapsed": true
   },
   "outputs": [],
   "source": []
  }
 ],
 "metadata": {
  "kernelspec": {
   "display_name": "Python 3",
   "language": "python",
   "name": "python3"
  },
  "language_info": {
   "codemirror_mode": {
    "name": "ipython",
    "version": 3
   },
   "file_extension": ".py",
   "mimetype": "text/x-python",
   "name": "python",
   "nbconvert_exporter": "python",
   "pygments_lexer": "ipython3",
   "version": "3.6.3"
  }
 },
 "nbformat": 4,
 "nbformat_minor": 2
}
