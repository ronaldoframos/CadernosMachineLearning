{
 "cells": [
  {
   "cell_type": "markdown",
   "metadata": {},
   "source": [
    "<h1> Cardernos de IA - Aprendizagem de Máquina </h1>\n",
    "<h2> Regras de Associação - Parte 2</h2>\n",
    "<h3> by Ronaldo F. Ramos </h3>\n",
    "\n",
    "Neste caderno damos continuidade ao estudo de regras de associação. Vimos anteriormente o algoritmo Apriori.\n",
    "Este algoritmo pode ser muito custoso computacionalmente em função da geração sucessiva de muitos conjuntos candidatos. \n",
    "Resolve-se isso usando o algoritmo que segue."
   ]
  },
  {
   "cell_type": "markdown",
   "metadata": {},
   "source": [
    "<h2> Desta vez vamos estudar o algorito FP-GROWTH </h2>"
   ]
  },
  {
   "cell_type": "code",
   "execution_count": 1,
   "metadata": {
    "collapsed": true
   },
   "outputs": [],
   "source": [
    "#dataset a ser utilizado (simples pra facilitar)\n",
    "dataset = [[1,3],[1,2,3],[1],[1,3,4],[3],[1,2],[1,2,3,4]]"
   ]
  },
  {
   "cell_type": "markdown",
   "metadata": {},
   "source": [
    "<table style=\"width:100%,align:left\">\n",
    "    <caption> <h3> Dataset Compras (Transacional) </h3> </caption>\n",
    "  <tr>\n",
    "    <th>Trans.</th>\n",
    "    <th>1</th> \n",
    "    <th>2</th>\n",
    "    <th>3</th>\n",
    "    <th>4</th>\n",
    "    <th>5</th>  \n",
    "    <th>6</th>\n",
    "    <th>7</th>   \n",
    "  </tr>\n",
    "  <tr>\n",
    "    <td>1</td>\n",
    "    <td>S</td> \n",
    "    <td>N</td>\n",
    "    <td>S</td>\n",
    "    <td>N</td>\n",
    "    <td>N</td>\n",
    "    <td>N</td>\n",
    "    <td>N</td> \n",
    "  </tr>\n",
    "  <tr>\n",
    "    <td>2</td>\n",
    "    <td>S</td> \n",
    "    <td>S</td>\n",
    "    <td>S</td>\n",
    "    <td>N</td>\n",
    "    <td>N</td>\n",
    "    <td>N</td>\n",
    "    <td>N</td>\n",
    "  </tr>\n",
    "  <tr>\n",
    "    <td>3</td>\n",
    "    <td>S</td> \n",
    "    <td>N</td>\n",
    "    <td>N</td>\n",
    "    <td>N</td>\n",
    "    <td>N</td>\n",
    "    <td>N</td>\n",
    "    <td>N</td>\n",
    "  </tr>\n",
    "  <tr>\n",
    "    <td>4</td>\n",
    "    <td>S</td> \n",
    "    <td>N</td>\n",
    "    <td>S</td>\n",
    "    <td>S</td>\n",
    "    <td>N</td>\n",
    "    <td>N</td>\n",
    "    <td>N</td>\n",
    "  </tr>\n",
    "  <tr>\n",
    "    <td>5</td>\n",
    "    <td>N</td> \n",
    "    <td>N</td>\n",
    "    <td>S</td>\n",
    "    <td>N</td>\n",
    "    <td>N</td>\n",
    "    <td>N</td>\n",
    "    <td>N</td>\n",
    "  </tr>\n",
    "  <tr>\n",
    "    <td>6</td>\n",
    "    <td>S</td> \n",
    "    <td>S</td>\n",
    "    <td>N</td>\n",
    "    <td>N</td>\n",
    "    <td>N</td>\n",
    "    <td>N</td>\n",
    "    <td>N</td>\n",
    "  </tr>\n",
    "  <tr>\n",
    "    <td>7</td>\n",
    "    <td>S</td> \n",
    "    <td>S</td>\n",
    "    <td>S</td>\n",
    "    <td>S</td>\n",
    "    <td>N</td>\n",
    "    <td>N</td>\n",
    "    <td>N</td>\n",
    "  </tr> \n",
    "</table>"
   ]
  },
  {
   "cell_type": "code",
   "execution_count": 2,
   "metadata": {
    "collapsed": true
   },
   "outputs": [],
   "source": [
    "#dados de entrada\n",
    "TID = dataset # conjunto de transações\n",
    "fmin = 3 # frequencia mínima admissível\n",
    "\n",
    "#saída\n",
    "#L : lista de itens frequentes\n"
   ]
  },
  {
   "cell_type": "code",
   "execution_count": 3,
   "metadata": {},
   "outputs": [
    {
     "data": {
      "text/plain": [
       "[1, 2, 3, 4]"
      ]
     },
     "execution_count": 3,
     "metadata": {},
     "output_type": "execute_result"
    }
   ],
   "source": [
    "#\n",
    "# Aproveitando código do anterior \n",
    "#vamos criar uma função para retirar os itens do proprio dataset. Desta forma evitamos inconsistências\n",
    "#\n",
    "def capturaItens(lista):\n",
    "    itens =[]\n",
    "    for i in lista:\n",
    "        for j in i:\n",
    "            if j not in itens: itens.append(j)\n",
    "    itens.sort()\n",
    "    return itens\n",
    "\n",
    "#testando\n",
    "capturaItens(dataset)"
   ]
  },
  {
   "cell_type": "code",
   "execution_count": 4,
   "metadata": {},
   "outputs": [
    {
     "name": "stdout",
     "output_type": "stream",
     "text": [
      "True\n",
      "True\n",
      "False\n",
      "False\n",
      "True\n",
      "True\n"
     ]
    }
   ],
   "source": [
    "#Vamos criar uma função auxiliar para verificar se um conjunto é subconjunto de outro \n",
    "def isSubset(a,b):\n",
    "    res = True\n",
    "    for i in a:\n",
    "        cont = 0\n",
    "        for j in i:\n",
    "            for z in b:\n",
    "                if len(z)<len(i): continue\n",
    "                if j in z: \n",
    "                    cont+=1\n",
    "                    break\n",
    "        if cont != len(i):\n",
    "            return False\n",
    "    return True\n",
    "\n",
    "#Testando\n",
    "print(isSubset([[1],[1,3]],[[1,4,2],[3,1,4]]))\n",
    "print(isSubset([[]],[[1]]))\n",
    "print(isSubset([[1,2,3,4],[1,2,3]],[[1],[2]]))\n",
    "print(isSubset([[1,2,3,4],[1,2,3]],[[1],[2],[3],[4]]))\n",
    "print(isSubset([[1,2,3,4],[1,2,3]],[[1,2,3,4],[1]]))\n",
    "print(isSubset([[1]],[[1,3],[1,2,3],[1],[1,3,4],[3],[1,2],[1,2,3,4]]))\n"
   ]
  },
  {
   "cell_type": "code",
   "execution_count": 5,
   "metadata": {
    "collapsed": true
   },
   "outputs": [],
   "source": [
    "#passo 1. criar o 1-itemset (C1) e calcular a frequencia\n",
    "def geraFrequencias(TID):\n",
    "    c1 = [[i] for i in capturaItens(TID)]\n",
    "    freqs = []\n",
    "    for i in c1:\n",
    "        n=0\n",
    "        for j in TID:\n",
    "            if isSubset([i],[j]): n+=1\n",
    "        freqs.append(n)\n",
    "    return c1,freqs\n",
    "c1,freqs = geraFrequencias(TID)"
   ]
  },
  {
   "cell_type": "code",
   "execution_count": 6,
   "metadata": {
    "collapsed": true
   },
   "outputs": [],
   "source": [
    "#passo 2 selecionar os itens cuja frequencia é maior que a mínima\n",
    "def filtraSequencias(c1,freqs):\n",
    "    for i in range(len(freqs)):\n",
    "        if freqs[i] < fmin:\n",
    "            del c1[i]\n",
    "            del freqs[i]\n",
    "    return c1,freqs\n",
    "c1,freqs = filtraSequencias(c1,freqs)"
   ]
  },
  {
   "cell_type": "code",
   "execution_count": 7,
   "metadata": {},
   "outputs": [
    {
     "name": "stdout",
     "output_type": "stream",
     "text": [
      "[[1], [3], [2]] [6, 5, 3]\n"
     ]
    }
   ],
   "source": [
    "#passo tres: ordenar C1 em ordem inversa\n",
    "def ordena(lista,freqs):\n",
    "    if len(lista) != len(freqs): return \"ERRO\"\n",
    "    maior = 0\n",
    "    for i in range(len(lista)):\n",
    "        maior = i\n",
    "        for j in range(i+1,len(lista)):\n",
    "            if freqs[j]>freqs[maior]:\n",
    "                maior = j\n",
    "        freqs[i],freqs[maior]=freqs[maior],freqs[i]\n",
    "        lista[i],lista[maior]=lista[maior],lista[i]    \n",
    "    return lista,freqs\n",
    "\n",
    "lista,freqs = ordena(c1,freqs)\n",
    "print(lista,freqs)"
   ]
  },
  {
   "cell_type": "code",
   "execution_count": 8,
   "metadata": {},
   "outputs": [
    {
     "name": "stdout",
     "output_type": "stream",
     "text": [
      "[[1, 3], [1, 2, 3], [1], [1, 3, 4], [3], [1, 2], [1, 2, 3, 4]]\n",
      "[[1, 3], [1, 3, 2], [1], [1, 3], [3], [1, 2], [1, 3, 2]]\n"
     ]
    }
   ],
   "source": [
    "#tambem precisamos ordenar as transações pelos itens já eliminando os menos frequentes\n",
    "def ordenaTransacoes(tid,c):\n",
    "    tidn = []\n",
    "    for t in tid:\n",
    "        nl=[]\n",
    "        for i in c:\n",
    "            if i[0] in t:\n",
    "                nl.append(i[0])\n",
    "        tidn.append(nl)\n",
    "    return tidn\n",
    "print(TID)\n",
    "nTID = ordenaTransacoes(TID,c1)\n",
    "print(nTID)"
   ]
  },
  {
   "cell_type": "code",
   "execution_count": 9,
   "metadata": {
    "collapsed": true
   },
   "outputs": [],
   "source": [
    "#passo quatro: criar uma estrutura hierarquica (Arvore)\n",
    "class Noh:\n",
    "    def __init__(self,rot=\"\",pai=None,freq=1):\n",
    "        self.rotulo = rot\n",
    "        self.filhos = []\n",
    "        self.frequencia = freq\n",
    "        self.pai = pai\n",
    "        \n",
    "    def insereFilho(self,rot):\n",
    "        for i in self.filhos:\n",
    "            if rot == i.rotulo:\n",
    "                i.frequencia+=1\n",
    "                return i\n",
    "        novoNoh = Noh(rot,self)\n",
    "        self.filhos.append(novoNoh)\n",
    "        return novoNoh\n",
    "        \n",
    "            \n",
    "    def __str__(self):\n",
    "        st = \"\"\n",
    "        for i in self.filhos:\n",
    "            st+=str(i.rotulo)+\":\"+str(i.frequencia)+\",\"\n",
    "        return \"{}:{}->{}\".format(self.rotulo,self.frequencia,st)\n",
    "    def imprimeArvore(self,spc=\"\"):\n",
    "        print(spc,self)\n",
    "        spc+=\"\\t\"\n",
    "        for i in self.filhos:\n",
    "            if isinstance(i,Noh): i.imprimeArvore(spc)"
   ]
  },
  {
   "cell_type": "code",
   "execution_count": 10,
   "metadata": {},
   "outputs": [
    {
     "name": "stdout",
     "output_type": "stream",
     "text": [
      " A:1->B:2,C:1,\n",
      "\t B:2->\n",
      "\t C:1->\n",
      " A:1->B:2,C:1,\n",
      "\t B:2->D:1,E:1,\n",
      "\t\t D:1->\n",
      "\t\t E:1->\n",
      "\t C:1->F:1,G:1,\n",
      "\t\t F:1->\n",
      "\t\t G:1->\n"
     ]
    }
   ],
   "source": [
    "#\n",
    "#testando a estrutura\n",
    "#\n",
    "raiz = Noh(\"A\")\n",
    "raiz.insereFilho(\"B\")\n",
    "raiz.insereFilho(\"C\")\n",
    "raiz.insereFilho(\"B\")\n",
    "raiz.imprimeArvore()\n",
    "raiz.filhos[0].insereFilho(\"D\")\n",
    "raiz.filhos[0].insereFilho(\"E\")\n",
    "raiz.filhos[1].insereFilho(\"F\")\n",
    "raiz.filhos[1].insereFilho(\"G\")\n",
    "\n",
    "raiz.imprimeArvore()"
   ]
  },
  {
   "cell_type": "markdown",
   "metadata": {},
   "source": [
    "Aparentemente tudo normal ..."
   ]
  },
  {
   "cell_type": "code",
   "execution_count": 11,
   "metadata": {},
   "outputs": [
    {
     "name": "stdout",
     "output_type": "stream",
     "text": [
      " {}:0->1:6,3:1,\n",
      "\t 1:6->3:4,2:1,\n",
      "\t\t 3:4->2:2,\n",
      "\t\t\t 2:2->\n",
      "\t\t 2:1->\n",
      "\t 3:1->\n"
     ]
    }
   ],
   "source": [
    "#passo 5 : inserir elementos na árvore\n",
    "def fpTree(nTID):\n",
    "    raiz = Noh(\"{}\",None,0)\n",
    "    for t in nTID[:]:\n",
    "        atual = raiz\n",
    "        for i in t:\n",
    "            atual = atual.insereFilho(i)\n",
    "    return raiz\n",
    "fpTree(nTID).imprimeArvore()        "
   ]
  },
  {
   "cell_type": "markdown",
   "metadata": {},
   "source": [
    "Nossa arvore FP está pronta. Agora temos que fazer uma busca em profundidade para encontrarmos os CIFs"
   ]
  },
  {
   "cell_type": "markdown",
   "metadata": {},
   "source": [
    "<figure>\n",
    "  <img src=\"img/fptree.png\" alt=\"Trulli\" style=\"width:50%\">\n",
    "</figure>"
   ]
  },
  {
   "cell_type": "code",
   "execution_count": 12,
   "metadata": {
    "collapsed": true
   },
   "outputs": [],
   "source": [
    "#\n",
    "# o segredo é fazer uma busca exaustiva para cada item\n",
    "#\n",
    "def calculaCifs(c1,raiz):\n",
    "    cifs = []\n",
    "    for it in reversed(c1):\n",
    "        lista = []\n",
    "        lista.append(raiz)\n",
    "        while len(lista)>0:\n",
    "            atual = lista.pop(0)\n",
    "            if it[0] == atual.rotulo:\n",
    "                cif = []\n",
    "                at = atual\n",
    "                while at!=None:\n",
    "                    cif.append(at)\n",
    "                    at = at.pai\n",
    "                cifs.append(cif)\n",
    "            if len(atual.filhos)>0:\n",
    "                for i in atual.filhos:\n",
    "                    lista.append(i)\n",
    "    return cifs"
   ]
  },
  {
   "cell_type": "code",
   "execution_count": 13,
   "metadata": {},
   "outputs": [
    {
     "name": "stdout",
     "output_type": "stream",
     "text": [
      "|2 :( 1 )  1 :( 6 )  {} :( 0 )  |\n",
      "|2 :( 2 )  3 :( 4 )  1 :( 6 )  {} :( 0 )  |\n",
      "|3 :( 1 )  {} :( 0 )  |\n",
      "|3 :( 4 )  1 :( 6 )  {} :( 0 )  |\n",
      "|1 :( 6 )  {} :( 0 )  |\n"
     ]
    }
   ],
   "source": [
    "#testando\n",
    "def imprimeCifs(cifs):\n",
    "    for cif in cifs:\n",
    "        print(\"|\",end=\"\")\n",
    "        for i in cif:\n",
    "            print(i.rotulo,\":(\",i.frequencia,\")\",end=\"  \")\n",
    "        print(\"|\")\n",
    "\n",
    "imprimeCifs(calculaCifs(c1,fpTree(nTID)))\n",
    "    "
   ]
  },
  {
   "cell_type": "code",
   "execution_count": 14,
   "metadata": {},
   "outputs": [
    {
     "name": "stdout",
     "output_type": "stream",
     "text": [
      "|2 :( 1 )  1 :( 6 )  {} :( 0 )  |\n",
      "|2 :( 2 )  3 :( 4 )  1 :( 6 )  {} :( 0 )  |\n",
      "|3 :( 4 )  1 :( 6 )  {} :( 0 )  |\n"
     ]
    }
   ],
   "source": [
    "#eliminando os unitarios\n",
    "def eliminaUnitarios(cifs):\n",
    "    deletar = []\n",
    "    for cif in cifs:\n",
    "        if len(cif)<3:\n",
    "            deletar.append(cif)\n",
    "    for i in deletar:\n",
    "        del cifs[cifs.index(i)]\n",
    "    return cifs\n",
    "\n",
    "#testando\n",
    "conjuntosF = eliminaUnitarios(calculaCifs(c1,fpTree(nTID)))       \n",
    "\n",
    "#imprimir\n",
    "imprimeCifs(conjuntosF)    "
   ]
  },
  {
   "cell_type": "code",
   "execution_count": 15,
   "metadata": {},
   "outputs": [
    {
     "name": "stdout",
     "output_type": "stream",
     "text": [
      "2 1 [1, '{}']\n",
      "2 2 [3, 1, '{}']\n",
      "3 4 [1, '{}']\n"
     ]
    }
   ],
   "source": [
    "#propagando as frequencias\n",
    "def propagaFrequencias(cofs):\n",
    "    f = [k[0].frequencia for k in cofs]\n",
    "    r = [k[0].rotulo for k in cofs]\n",
    "    conjs =[]\n",
    "    for i in range(len(cofs)):\n",
    "        cj = []\n",
    "        for j in range(1,len(cofs[i])):\n",
    "            cj.append(cofs[i][j].rotulo)\n",
    "        conjs.append(cj)\n",
    "    return r,f,conjs\n",
    "\n",
    "#testando\n",
    "r,f,conjs = propagaFrequencias(conjuntosF)\n",
    "for i in range(len(r)):\n",
    "    print(r[i],f[i],conjs[i])    \n"
   ]
  },
  {
   "cell_type": "markdown",
   "metadata": {},
   "source": [
    "Funciona..."
   ]
  },
  {
   "cell_type": "code",
   "execution_count": 16,
   "metadata": {},
   "outputs": [
    {
     "data": {
      "text/plain": [
       "([3, 1, '{}'], [2, 3, 3])"
      ]
     },
     "execution_count": 16,
     "metadata": {},
     "output_type": "execute_result"
    }
   ],
   "source": [
    "# mais uma função auxiliar - fundir dois ramos duplicados\n",
    "def fundir(ca,fa,cb,fb):\n",
    "    i=len(ca)-1\n",
    "    j=len(cb)-1\n",
    "    z = max(i,j)\n",
    "    f = [0 for i in range(z+1)]\n",
    "    c = [None for i in range(z+1)]\n",
    "    while i>=0 or j>=0:\n",
    "        if ca[i] == cb[j]:\n",
    "            c[max(i,j)] = ca[i]\n",
    "            f[max(i,j)] = fa+fb\n",
    "            i-=1\n",
    "            j-=1\n",
    "            continue\n",
    "        if j >= 0:\n",
    "            c[j] = cb[j]\n",
    "            f[j] = fb\n",
    "            j-=1\n",
    "            continue\n",
    "        if i >= 0:\n",
    "            c[i] = ca[i]\n",
    "            f[i] = fa\n",
    "            i-=1\n",
    "            continue\n",
    "    return c,f\n",
    "\n",
    "#testando        \n",
    "fundir([1, '{}'],1,[3, 1, '{}'],2)"
   ]
  },
  {
   "cell_type": "markdown",
   "metadata": {},
   "source": [
    "ok..."
   ]
  },
  {
   "cell_type": "code",
   "execution_count": 17,
   "metadata": {
    "collapsed": true
   },
   "outputs": [],
   "source": [
    "#Agora vamos unificar\n",
    "def unificar(r,f,conjs):\n",
    "    i = 0\n",
    "    L = [] # saida final do algoritmo\n",
    "    FF = [] # frequencias\n",
    "    lim = len(r)\n",
    "    while i<lim:\n",
    "        fq = f[i]\n",
    "        ri = r[i]\n",
    "        cj = conjs[i]\n",
    "        j = i+1\n",
    "        while j<lim:\n",
    "            if r[j] == r[i]:\n",
    "                cj,fq = fundir(cj,fq,conjs[j],f[j])\n",
    "                del conjs[j]\n",
    "                del r[j]\n",
    "                del f[j]\n",
    "                lim-=1\n",
    "            j+=1\n",
    "        if isinstance(fq,int):fq = [fq,fq]\n",
    "        L.append(cj)\n",
    "        FF.append(fq)\n",
    "        i+=1\n",
    "    return r,L,FF\n",
    "\n",
    "    "
   ]
  },
  {
   "cell_type": "code",
   "execution_count": 18,
   "metadata": {},
   "outputs": [
    {
     "name": "stdout",
     "output_type": "stream",
     "text": [
      "Resultado Final  [[2, 1], [3, 1]]\n"
     ]
    }
   ],
   "source": [
    "# ultimo detalhe : compor o conjunto final\n",
    "def calculaL(r,l,ff,suporteMinimo=3):\n",
    "    for i in range(len(l)):\n",
    "        jmax = len(l[i])\n",
    "        j=0\n",
    "        while j<jmax:\n",
    "            if ff[i][j] < suporteMinimo:\n",
    "                del l[i][j]\n",
    "                del ff[i][j]\n",
    "                jmax-=1\n",
    "            j+=1\n",
    "    LL=[]\n",
    "    for i,j in zip(r,l):\n",
    "        lt=[i]\n",
    "        for z in j:\n",
    "            if z != \"{}\":\n",
    "                lt.append(z)\n",
    "        LL.append(lt)\n",
    "    return LL\n",
    "\n",
    "#execução final\n",
    "\n",
    "a,b,c = unificar(r,f,conjs) \n",
    "\n",
    "print(\"Resultado Final \",calculaL(a,b,c))            \n"
   ]
  },
  {
   "cell_type": "markdown",
   "metadata": {},
   "source": [
    "É isso ai. Agora podemos levantar as regras usando o mesmo método usado no apriori."
   ]
  },
  {
   "cell_type": "markdown",
   "metadata": {},
   "source": [
    "<h3> Boa Sorte com o FP-Growth </h3>"
   ]
  },
  {
   "cell_type": "code",
   "execution_count": null,
   "metadata": {
    "collapsed": true
   },
   "outputs": [],
   "source": []
  }
 ],
 "metadata": {
  "kernelspec": {
   "display_name": "Python 3",
   "language": "python",
   "name": "python3"
  },
  "language_info": {
   "codemirror_mode": {
    "name": "ipython",
    "version": 3
   },
   "file_extension": ".py",
   "mimetype": "text/x-python",
   "name": "python",
   "nbconvert_exporter": "python",
   "pygments_lexer": "ipython3",
   "version": "3.6.3"
  }
 },
 "nbformat": 4,
 "nbformat_minor": 2
}
