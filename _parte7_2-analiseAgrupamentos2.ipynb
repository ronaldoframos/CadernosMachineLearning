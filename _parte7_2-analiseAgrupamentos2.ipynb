{
 "cells": [
  {
   "cell_type": "markdown",
   "metadata": {},
   "source": [
    "<h1> Cardernos de IA - Aprendizagem de Máquina </h1>\n",
    "<h2> Análise de Agrupamentos - Parte 2 - Agrupamentos por Partições </h2>\n",
    "<h3> by Ronaldo F. Ramos </h3>\n",
    "\n",
    "Análise de agrupamentos, clustering ou simplesmente agrupamentos é uma área da aprendizagem de máquina cujo objetivo é a formação de agrupamentos de objetos similares.\n",
    "\n",
    "Podemos dividir os métodos de agrupamento em três grupos ou estratégias.\n",
    "<ol>\n",
    "  <li>Grupos Hierárquicos. Algoritmos AGNES e DIANA entre outros </li>\n",
    "  <li>Grupos Divididos por Partições. Algoritmos Kmeans </li>\n",
    "  <li>Grupos Divididos por Densidade. Algoritmo DBSCAN</li>\n",
    "</ol>\n",
    "\n",
    "\n",
    "Neste caderno vamos estudar os algoritmo K-Médias ou Kmeans\n"
   ]
  },
  {
   "cell_type": "markdown",
   "metadata": {},
   "source": [
    "Vamos ao trabalho.\n",
    "\n",
    "Seja o dataset sobre flores com seus respectivoa atributos abaixo.\n",
    "\n",
    "<figure>\n",
    "  <img src=\"../images/flores.png\" alt=\"Trulli\" style=\"width:100%\">\n",
    "</figure>\n",
    "\n",
    "\n",
    "<table style=\"width:100%,align:left\">\n",
    "  <tr>\n",
    "    <th>Flor</th>\n",
    "    <th>1</th>\n",
    "    <th>2</th>\n",
    "    <th>3</th>\n",
    "    <th>4</th>\n",
    "    <th>5</th>\n",
    "    <th>6</th>\n",
    "    <th>7</th>\n",
    "    <th>8</th>\n",
    "  </tr>\n",
    "  <tr>\n",
    "    <td>Begônia</td>\n",
    "    <td>0</td>\n",
    "    <td>1</td>\n",
    "    <td>1</td>\n",
    "    <td>4</td>\n",
    "    <td>3</td>\n",
    "    <td>15</td>\n",
    "    <td>25</td>\n",
    "    <td>15</td> \n",
    "  </tr>\n",
    "  <tr>\n",
    "    <td>Giesta</td>\n",
    "    <td>1</td>\n",
    "    <td>0</td>\n",
    "    <td>0</td>\n",
    "    <td>2</td>\n",
    "    <td>1</td>\n",
    "    <td>3</td>\n",
    "    <td>150</td>\n",
    "    <td>50</td> \n",
    "  </tr>\n",
    "  <tr>\n",
    "    <td>Camélia</td>\n",
    "    <td>0</td>\n",
    "    <td>1</td>\n",
    "    <td>0</td>\n",
    "    <td>3</td>\n",
    "    <td>3</td>\n",
    "    <td>1</td>\n",
    "    <td>150</td>\n",
    "    <td>50</td> \n",
    "  </tr> \n",
    "  <tr>\n",
    "    <td>Dália</td>\n",
    "    <td>0</td>\n",
    "    <td>0</td>\n",
    "    <td>1</td>\n",
    "    <td>4</td>\n",
    "    <td>2</td>\n",
    "    <td>16</td>\n",
    "    <td>125</td>\n",
    "    <td>50</td> \n",
    "  </tr>   \n",
    "  <tr>\n",
    "    <td>Miosótis</td>\n",
    "    <td>0</td>\n",
    "    <td>1</td>\n",
    "    <td>0</td>\n",
    "    <td>5</td>\n",
    "    <td>2</td>\n",
    "    <td>2</td>\n",
    "    <td>20</td>\n",
    "    <td>15</td> \n",
    "  </tr>    \n",
    "  <tr>\n",
    "    <td>Fuchsia</td>\n",
    "    <td>0</td>\n",
    "    <td>1</td>\n",
    "    <td>0</td>\n",
    "    <td>4</td>\n",
    "    <td>3</td>\n",
    "    <td>12</td>\n",
    "    <td>50</td>\n",
    "    <td>40</td> \n",
    "  </tr>  \n",
    "  <tr>\n",
    "    <td>Gerânio</td>\n",
    "    <td>0</td>\n",
    "    <td>0</td>\n",
    "    <td>0</td>\n",
    "    <td>4</td>\n",
    "    <td>3</td>\n",
    "    <td>13</td>\n",
    "    <td>40</td>\n",
    "    <td>20</td>\n",
    "   </tr>\n",
    "   <tr>\n",
    "    <td>Gladíolo</td>\n",
    "    <td>0</td>\n",
    "    <td>0</td>\n",
    "    <td>1</td>\n",
    "    <td>2</td>\n",
    "    <td>2</td>\n",
    "    <td>7</td>\n",
    "    <td>100</td>\n",
    "    <td>15</td>\n",
    "   </tr>\n",
    "   <tr>\n",
    "    <td>Queiró</td>\n",
    "    <td>1</td>\n",
    "    <td>1</td>\n",
    "    <td>0</td>\n",
    "    <td>3</td>\n",
    "    <td>1</td>\n",
    "    <td>4</td>\n",
    "    <td>25</td>\n",
    "    <td>15</td>\n",
    "   </tr>\n",
    "   <tr>\n",
    "    <td>Hortênsia</td>\n",
    "    <td>1</td>\n",
    "    <td>1</td>\n",
    "    <td>0</td>\n",
    "    <td>5</td>\n",
    "    <td>2</td>\n",
    "    <td>14</td>\n",
    "    <td>100</td>\n",
    "    <td>60</td>\n",
    "   </tr>\n",
    "   <tr>\n",
    "    <td>Iris</td>\n",
    "    <td>1</td>\n",
    "    <td>1</td>\n",
    "    <td>1</td>\n",
    "    <td>5</td>\n",
    "    <td>3</td>\n",
    "    <td>8</td>\n",
    "    <td>45</td>\n",
    "    <td>10</td>\n",
    "   </tr>\n",
    "    <tr>\n",
    "    <td>Lírio</td>\n",
    "    <td>1</td>\n",
    "    <td>1</td>\n",
    "    <td>1</td>\n",
    "    <td>1</td>\n",
    "    <td>2</td>\n",
    "    <td>9</td>\n",
    "    <td>90</td>\n",
    "    <td>25</td>\n",
    "   </tr>\n",
    "    <tr>\n",
    "    <td>Lírio do Vale</td>\n",
    "    <td>1</td>\n",
    "    <td>1</td>\n",
    "    <td>0</td>\n",
    "    <td>1</td>\n",
    "    <td>2</td>\n",
    "    <td>6</td>\n",
    "    <td>20</td>\n",
    "    <td>10</td>\n",
    "   </tr>\n",
    "    <tr>\n",
    "    <td>Peônia</td>\n",
    "    <td>1</td>\n",
    "    <td>1</td>\n",
    "    <td>1</td>\n",
    "    <td>4</td>\n",
    "    <td>2</td>\n",
    "    <td>11</td>\n",
    "    <td>80</td>\n",
    "    <td>30</td>\n",
    "   </tr>\n",
    "    <tr>\n",
    "    <td>Craveiro</td>\n",
    "    <td>1</td>\n",
    "    <td>0</td>\n",
    "    <td>0</td>\n",
    "    <td>3</td>\n",
    "    <td>2</td>\n",
    "    <td>10</td>\n",
    "    <td>40</td>\n",
    "    <td>20</td>\n",
    "   </tr>\n",
    "   <tr>\n",
    "    <td>Rosa Vermelha</td>\n",
    "    <td>1</td>\n",
    "    <td>0</td>\n",
    "    <td>0</td>\n",
    "    <td>4</td>\n",
    "    <td>2</td>\n",
    "    <td>18</td>\n",
    "    <td>200</td>\n",
    "    <td>60</td>\n",
    "   </tr>\n",
    "    <tr>\n",
    "    <td>Rosa Burnet</td>\n",
    "    <td>1</td>\n",
    "    <td>0</td>\n",
    "    <td>0</td>\n",
    "    <td>2</td>\n",
    "    <td>2</td>\n",
    "    <td>17</td>\n",
    "    <td>150</td>\n",
    "    <td>60</td>\n",
    "   </tr>\n",
    "<tr>\n",
    "    <td>Tulipa</td>\n",
    "    <td>0</td>\n",
    "    <td>0</td>\n",
    "    <td>1</td>\n",
    "    <td>2</td>\n",
    "    <td>1</td>\n",
    "    <td>5</td>\n",
    "    <td>25</td>\n",
    "    <td>10</td>\n",
    "   </tr>\n",
    "</table>\n",
    "\n",
    "Os atributos são os seguintes:\n",
    "\n",
    "<ol>\n",
    "  <li>Resistente ao inverno (1=SIM,0=NÃO) </li>\n",
    "  <li>Necessita de Sombra (Idem) </li>\n",
    "  <li>Possui tubérculos (Idem) </li>\n",
    "  <li>Cor 1 = Branco, 2 = Amarela, 3 = Rosa, 4 = Vermelha, 5 = Azul </li>\n",
    "  <li>tipo de solo 1 = Seco, 2 = Normal, 3 = Húmido </li>\n",
    "  <li>Preferencia das pessoas. Um número entre 0 e 18 </li>\n",
    "  <li>Altura em centímetros </li>\n",
    "  <li>Distância mínima a ser mantida entre duas plantas em Centímetros </li>\n",
    "</ol>\n",
    "Se você não consegue distinguir alguns tipos, fique tranquilo, só máquinas conseguem...  ;-) "
   ]
  },
  {
   "cell_type": "code",
   "execution_count": 1,
   "metadata": {
    "collapsed": true
   },
   "outputs": [],
   "source": [
    "import math"
   ]
  },
  {
   "cell_type": "code",
   "execution_count": 2,
   "metadata": {
    "collapsed": true
   },
   "outputs": [],
   "source": [
    "# definindo o dataset\n",
    "dataset =[[0,1,1,4,3,15,25,15,\"Begônia\"],\n",
    "[1,0,0,2,1,3,150,50,\"Giesta\"],\n",
    "[0,1,0,3,3,1,150,50,\"Camélia\"],\n",
    "[0,0,1,4,2,16,125,50,\"Dália\"],\n",
    "[0,1,0,5,2,2,20,15,\"Miosótis\"],\n",
    "[0,1,0,4,3,12,50,40,\"Fuchsia\"],\n",
    "[0,0,0,4,3,13,40,20,\"Gerânio\"],\n",
    "[0,0,1,2,2,7,100,15,\"Gladíolo\"],\n",
    "[1,1,0,3,1,4,25,15,\"Queiró\"],\n",
    "[1,1,0,5,2,14,100,60,\"Hortênsia\"],\n",
    "[1,1,1,5,3,8,45,10,\"Iris\"],\n",
    "[1,1,1,1,2,9,90,25,\"Lírio\"],\n",
    "[1,1,0,1,2,6,20,10,\"Lírio do Vale\"],\n",
    "[1,1,1,4,2,11,80,30,\"Peônia\"],\n",
    "[1,0,0,3,2,10,40,20,\"Craveiro\"],\n",
    "[1,0,0,4,2,18,200,60,\"Rosa Vermelha\"],\n",
    "[1,0,0,2,2,17,150,60,\"Rosa Burnet\"],\n",
    "[0,0,1,2,1,5,25,10,\"Tulipa\"],\n",
    "]"
   ]
  },
  {
   "cell_type": "code",
   "execution_count": 3,
   "metadata": {
    "collapsed": true
   },
   "outputs": [],
   "source": [
    "#Vamos precisar normalizar nosso dataset\n",
    "# Uma etapa importante que pode ser deixada de lado(asvezes) - Normalizacao\n",
    "#\n",
    "# normalizar os campos de 6 a 8 \n",
    "#\n",
    "def normalizaDs(ds):\n",
    "    vetorMaximos = [i for i in ds[0]]\n",
    "    vetorMinimos = [i for i in ds[0]]\n",
    "    for i in ds:\n",
    "        for j,k in enumerate(i[:-1]):\n",
    "            vetorMaximos[j] = max(k,vetorMaximos[j])\n",
    "            vetorMinimos[j] = min(k,vetorMinimos[j])\n",
    "    for d in ds:\n",
    "        for i in range(1,len(d)-1):\n",
    "            d[i] = (d[i] - vetorMinimos[i])/(vetorMaximos[i] - vetorMinimos[i])\n",
    "    return ds"
   ]
  },
  {
   "cell_type": "code",
   "execution_count": 4,
   "metadata": {},
   "outputs": [
    {
     "name": "stdout",
     "output_type": "stream",
     "text": [
      "[[0, 1.0, 1.0, 0.75, 1.0, 0.8235294117647058, 0.027777777777777776, 0.1, 'Begônia'], [1, 0.0, 0.0, 0.25, 0.0, 0.11764705882352941, 0.7222222222222222, 0.8, 'Giesta'], [0, 1.0, 0.0, 0.5, 1.0, 0.0, 0.7222222222222222, 0.8, 'Camélia'], [0, 0.0, 1.0, 0.75, 0.5, 0.8823529411764706, 0.5833333333333334, 0.8, 'Dália'], [0, 1.0, 0.0, 1.0, 0.5, 0.058823529411764705, 0.0, 0.1, 'Miosótis'], [0, 1.0, 0.0, 0.75, 1.0, 0.6470588235294118, 0.16666666666666666, 0.6, 'Fuchsia'], [0, 0.0, 0.0, 0.75, 1.0, 0.7058823529411765, 0.1111111111111111, 0.2, 'Gerânio'], [0, 0.0, 1.0, 0.25, 0.5, 0.35294117647058826, 0.4444444444444444, 0.1, 'Gladíolo'], [1, 1.0, 0.0, 0.5, 0.0, 0.17647058823529413, 0.027777777777777776, 0.1, 'Queiró'], [1, 1.0, 0.0, 1.0, 0.5, 0.7647058823529411, 0.4444444444444444, 1.0, 'Hortênsia'], [1, 1.0, 1.0, 1.0, 1.0, 0.4117647058823529, 0.1388888888888889, 0.0, 'Iris'], [1, 1.0, 1.0, 0.0, 0.5, 0.47058823529411764, 0.3888888888888889, 0.3, 'Lírio'], [1, 1.0, 0.0, 0.0, 0.5, 0.29411764705882354, 0.0, 0.0, 'Lírio do Vale'], [1, 1.0, 1.0, 0.75, 0.5, 0.5882352941176471, 0.3333333333333333, 0.4, 'Peônia'], [1, 0.0, 0.0, 0.5, 0.5, 0.5294117647058824, 0.1111111111111111, 0.2, 'Craveiro'], [1, 0.0, 0.0, 0.75, 0.5, 1.0, 1.0, 1.0, 'Rosa Vermelha'], [1, 0.0, 0.0, 0.25, 0.5, 0.9411764705882353, 0.7222222222222222, 1.0, 'Rosa Burnet'], [0, 0.0, 1.0, 0.25, 0.0, 0.23529411764705882, 0.027777777777777776, 0.0, 'Tulipa']]\n"
     ]
    }
   ],
   "source": [
    "#testando\n",
    "print(normalizaDs(dataset))"
   ]
  },
  {
   "cell_type": "code",
   "execution_count": 5,
   "metadata": {
    "collapsed": true
   },
   "outputs": [],
   "source": [
    "#vamos precisar da distância euclidiana\n",
    "# nosso primeiro problema é selecionar uma medida de dissimilaridade\n",
    "# caso 1 - distância euclidiana\n",
    "# ATENÇÂO: LEVA EM CONTA O RÓTULO\n",
    "def euclidiana(a,b):\n",
    "    dist = 0\n",
    "    for i,j in zip(a[:-1],b[:-1]):\n",
    "        dist += (i-j)**2\n",
    "    return math.sqrt(dist)"
   ]
  },
  {
   "cell_type": "code",
   "execution_count": 6,
   "metadata": {},
   "outputs": [
    {
     "data": {
      "text/plain": [
       "2.3917614811292376"
      ]
     },
     "execution_count": 6,
     "metadata": {},
     "output_type": "execute_result"
    }
   ],
   "source": [
    "#teste\n",
    "euclidiana(dataset[0],dataset[1])"
   ]
  },
  {
   "cell_type": "code",
   "execution_count": 7,
   "metadata": {
    "collapsed": true
   },
   "outputs": [],
   "source": [
    "#vamos precisar de uma função para calcular os centroides de um subconjunto do dataset\n",
    "#sem o rotulo\n",
    "def calculaCentroides(lista):\n",
    "    if len(lista)<1:\n",
    "        exit(0)\n",
    "    soma = list(lista[0])\n",
    "    for li in lista:\n",
    "        for c in range(len(soma)):\n",
    "            soma[c]+=li[c]\n",
    "    return [float(s)/len(lista) for s in soma]"
   ]
  },
  {
   "cell_type": "code",
   "execution_count": 8,
   "metadata": {},
   "outputs": [
    {
     "data": {
      "text/plain": [
       "[0.5555555555555556,\n",
       " 0.6111111111111112,\n",
       " 0.4444444444444444,\n",
       " 0.5972222222222222,\n",
       " 0.6111111111111112,\n",
       " 0.545751633986928,\n",
       " 0.33333333333333326,\n",
       " 0.4222222222222223]"
      ]
     },
     "execution_count": 8,
     "metadata": {},
     "output_type": "execute_result"
    }
   ],
   "source": [
    "#testando\n",
    "subset = [i[:-1] for i in normalizaDs(dataset)]\n",
    "calculaCentroides(subset)"
   ]
  },
  {
   "cell_type": "code",
   "execution_count": 9,
   "metadata": {
    "collapsed": true
   },
   "outputs": [],
   "source": [
    "#vamos precisar de uma função auxiliar para particionamento do grupo\n",
    "#Dada uma lista de centroides formadores de grupos devemos separar \n",
    "#os elementos em grupos de acordo com a proximidade de cada centroide\n",
    "def selecionaGrupos(dados,listaCentroides):\n",
    "    numGrupos = len(listaCentroides)\n",
    "    resultado = []\n",
    "    for d in dados:\n",
    "        menor = euclidiana(d,listaCentroides[0])\n",
    "        grupo = 0\n",
    "        for i in range(numGrupos):\n",
    "            novaDist = euclidiana(d[:-1],listaCentroides[i])\n",
    "            if novaDist <= menor:\n",
    "                menor = novaDist\n",
    "                grupo = i\n",
    "        resultado.append(grupo)\n",
    "    return resultado\n"
   ]
  },
  {
   "cell_type": "code",
   "execution_count": 10,
   "metadata": {},
   "outputs": [
    {
     "name": "stdout",
     "output_type": "stream",
     "text": [
      "Centroides:  [1, 0.0, 0.0, 0.5, 0.5, 0.5294117647058824, 0.1111111111111111, 0.2, 'Craveiro'] [1, 1.0, 1.0, 0.75, 0.5, 0.5882352941176471, 0.3333333333333333, 0.4, 'Peônia'] [1, 0.0, 0.0, 0.25, 0.5, 0.9411764705882353, 0.7222222222222222, 1.0, 'Rosa Burnet']\n",
      "Grupos\n",
      "Begônia 1\n",
      "Giesta 0\n",
      "Camélia 1\n",
      "Dália 1\n",
      "Miosótis 1\n",
      "Fuchsia 1\n",
      "Gerânio 0\n",
      "Gladíolo 0\n",
      "Queiró 0\n",
      "Hortênsia 1\n",
      "Iris 1\n",
      "Lírio 1\n",
      "Lírio do Vale 0\n",
      "Peônia 1\n",
      "Craveiro 0\n",
      "Rosa Vermelha 2\n",
      "Rosa Burnet 2\n",
      "Tulipa 0\n"
     ]
    }
   ],
   "source": [
    "#testando\n",
    "#imaginemos 3 centroides retirados aleatoriamento do dataset\n",
    "import random\n",
    "c1 = random.choice(dataset)\n",
    "c2 = random.choice(dataset)\n",
    "c3 = random.choice(dataset)\n",
    "print(\"Centroides: \",c1,c2,c3)\n",
    "#agora vamos separar por grupos\n",
    "print(\"Grupos\")\n",
    "for i,j in zip(dataset,selecionaGrupos(dataset[:],[c1,c2,c3])):\n",
    "    print(i[-1],j)"
   ]
  },
  {
   "cell_type": "code",
   "execution_count": 11,
   "metadata": {
    "collapsed": true
   },
   "outputs": [],
   "source": [
    "# vamos criar uma funçõo auxiliar para nos dar estatísticas dos grupos\n",
    "def estatisticas(lista):\n",
    "    listaGrupos = set(lista)\n",
    "    totaisPorGrupo = []\n",
    "    for i in listaGrupos:\n",
    "        totaisPorGrupo.append(lista.count(i))\n",
    "    print(\"Número de Grupos \",len(listaGrupos))\n",
    "    print(\"Totais por grupo \",totaisPorGrupo)"
   ]
  },
  {
   "cell_type": "code",
   "execution_count": 12,
   "metadata": {
    "collapsed": true
   },
   "outputs": [],
   "source": [
    "#agora vamos ao algoritmo\n",
    "def kmedias(dados, nGrupos, maxit = 30):\n",
    "    '''   Esta função executa o algoritmo kmeans '''\n",
    "    '''   Seleciona o grupo inicial '''\n",
    "    listaCentroides = []\n",
    "    for i in range(nGrupos):\n",
    "        novoc = random.choice(dados)\n",
    "        #vamos evitar duplicacoes\n",
    "        if novoc not in listaCentroides:\n",
    "            listaCentroides.append(novoc)\n",
    "        else:\n",
    "            i-=1\n",
    "    listaCentroides = [ j[:-1] for j in listaCentroides]\n",
    "    iter = 1\n",
    "    res = selecionaGrupos(dados,listaCentroides)\n",
    "    estatisticas(res)\n",
    "    while True: \n",
    "        listaCentroides =[]\n",
    "        for i in set(res):\n",
    "            vetor = []\n",
    "            for z in range(len(res)):\n",
    "                if res[z] == i:\n",
    "                    vetor.append(dados[z][:-1])\n",
    "            listaCentroides.append(calculaCentroides(vetor))\n",
    "        # RE-Agrupando \n",
    "        res2 = selecionaGrupos(dados,listaCentroides)\n",
    "        estatisticas(res2)\n",
    "        iter+=1\n",
    "        if res == res2:\n",
    "            break\n",
    "        else:\n",
    "            res = res2\n",
    "        if iter > maxit: break\n",
    "    \n",
    "    for i in set(res2):\n",
    "        print(\"\\nElementos do Grupo final \",i)\n",
    "        for j in range(len(res2)):\n",
    "            if res[j] == i:\n",
    "                print(dados[j][-1], end=\",\")"
   ]
  },
  {
   "cell_type": "code",
   "execution_count": 13,
   "metadata": {},
   "outputs": [
    {
     "name": "stdout",
     "output_type": "stream",
     "text": [
      "Número de Grupos  3\n",
      "Totais por grupo  [6, 5, 7]\n",
      "Número de Grupos  3\n",
      "Totais por grupo  [5, 7, 6]\n",
      "Número de Grupos  3\n",
      "Totais por grupo  [5, 7, 6]\n",
      "\n",
      "Elementos do Grupo final  0\n",
      "Begônia,Camélia,Miosótis,Fuchsia,Iris,\n",
      "Elementos do Grupo final  1\n",
      "Dália,Gladíolo,Queiró,Lírio,Lírio do Vale,Peônia,Tulipa,\n",
      "Elementos do Grupo final  2\n",
      "Giesta,Gerânio,Hortênsia,Craveiro,Rosa Vermelha,Rosa Burnet,"
     ]
    }
   ],
   "source": [
    "\n",
    "k = 3\n",
    "kmedias(dataset[:],k)"
   ]
  },
  {
   "cell_type": "code",
   "execution_count": 14,
   "metadata": {},
   "outputs": [
    {
     "name": "stdout",
     "output_type": "stream",
     "text": [
      "\n",
      "Grupo  0\n",
      "Gladíolo,Queiró,Iris,Lírio,Lírio do Vale,Peônia,Craveiro,Tulipa,\n",
      "Grupo  1\n",
      "Begônia,Camélia,Miosótis,Fuchsia,Gerânio,\n",
      "Grupo  2\n",
      "Giesta,Dália,Hortênsia,Rosa Vermelha,Rosa Burnet,"
     ]
    }
   ],
   "source": [
    "from pylab import plot,show\n",
    "from numpy import array\n",
    "from scipy.cluster.vq import kmeans2,vq\n",
    "\n",
    "# preparacao dos dados\n",
    "data = array([i[:-1] for i in dataset[:]])\n",
    "\n",
    "centroides,rotulos = kmeans2(data,3)\n",
    "#print(centroides)\n",
    "\n",
    "for i in range(3):\n",
    "    print(\"\\nGrupo \",i)\n",
    "    for j,z in enumerate(dataset):\n",
    "        if rotulos[j]==i:\n",
    "                print(z[-1],end=\",\")\n",
    "        "
   ]
  },
  {
   "cell_type": "code",
   "execution_count": 102,
   "metadata": {},
   "outputs": [
    {
     "data": {
      "image/png": "[encoded data removed]",
      "text/plain": [
       "<matplotlib.figure.Figure at 0x22b3a40a6d8>"
      ]
     },
     "metadata": {
      "needs_background": "light"
     },
     "output_type": "display_data"
    }
   ],
   "source": [
    "idx,_ = vq(data,centroides)\n",
    "\n",
    "plot(data[idx==0,6],data[idx==0,7],'ob',\n",
    "     data[idx==1,6],data[idx==1,7],'or',\n",
    "     data[idx==2,6],data[idx==2,7],'og') \n",
    "plot(centroids[:,6],centroids[:,7],'sm',markersize=10)\n",
    "show()"
   ]
  },
  {
   "cell_type": "code",
   "execution_count": 166,
   "metadata": {},
   "outputs": [
    {
     "name": "stdout",
     "output_type": "stream",
     "text": [
      "\n",
      "Grupo  0\n",
      "Begônia,Camélia,Dália,Miosótis,Fuchsia,Gerânio,Gladíolo,Tulipa,\n",
      "Grupo  1\n",
      "Queiró,Iris,Lírio,Lírio do Vale,Peônia,\n",
      "Grupo  2\n",
      "Giesta,Hortênsia,Craveiro,Rosa Vermelha,Rosa Burnet,"
     ]
    }
   ],
   "source": [
    "# usando o sklearn\n",
    "k = 3\n",
    "from sklearn.cluster import KMeans\n",
    "X = data\n",
    "km = KMeans(n_clusters=k, random_state=0,max_iter = 1000).fit(X)\n",
    "for i in range(k):\n",
    "    print(\"\\nGrupo \",i)\n",
    "    for j,z in enumerate(dataset):\n",
    "        if km.labels_[j]==i:\n",
    "                print(z[-1],end=\",\")\n",
    "\n"
   ]
  },
  {
   "cell_type": "code",
   "execution_count": 232,
   "metadata": {},
   "outputs": [
    {
     "name": "stdout",
     "output_type": "stream",
     "text": [
      "1 22.7870758694\n",
      "2 17.4657904839\n",
      "3 14.177432066\n",
      "4 10.3325272278\n",
      "5 8.65211340012\n",
      "6 7.19820171551\n",
      "7 6.347333878\n",
      "8 4.99661709528\n",
      "9 4.30488129566\n",
      "10 4.17080170376\n",
      "11 2.87680267205\n",
      "12 2.33458805018\n",
      "13 1.95099114301\n",
      "14 1.40794373959\n",
      "15 0.803949869708\n",
      "16 0.486032188475\n"
     ]
    },
    {
     "data": {
      "image/png": "[encoded data removed]",
      "text/plain": [
       "<matplotlib.figure.Figure at 0x22b3c888eb8>"
      ]
     },
     "metadata": {
      "needs_background": "light"
     },
     "output_type": "display_data"
    }
   ],
   "source": [
    "#Estudando a convergencia\n",
    "from matplotlib import pyplot as plt\n",
    "variancia = []\n",
    "maxc = 17 # numero maximo de clusters\n",
    "for i in range(1, maxc):\n",
    "    kmeans = KMeans(n_clusters = i, init = 'random',n_init=10) # num variacoes dos centroides iniciais n_init\n",
    "    kmeans.fit(X)\n",
    "    print(i,kmeans.inertia_)\n",
    "    variancia.append(kmeans.inertia_)  \n",
    "plt.plot(range(1, maxc), variancia)\n",
    "plt.xlabel('Numero de Clusters')\n",
    "plt.ylabel('Variancia') #variancia intra clustes (soma dos quadrados dos desvios)\n",
    "plt.show()\n"
   ]
  },
  {
   "cell_type": "markdown",
   "metadata": {},
   "source": [
    "<h1> As flores são tão diferentes .....   ;-)"
   ]
  },
  {
   "cell_type": "code",
   "execution_count": 198,
   "metadata": {
    "collapsed": true
   },
   "outputs": [],
   "source": [
    "#something wrong in the Denmark kingdom"
   ]
  },
  {
   "cell_type": "code",
   "execution_count": 221,
   "metadata": {},
   "outputs": [
    {
     "data": {
      "text/plain": [
       "816.0"
      ]
     },
     "execution_count": 221,
     "metadata": {},
     "output_type": "execute_result"
    }
   ],
   "source": [
    "#combinacoes de entrada.\n",
    "18*17*16/6"
   ]
  },
  {
   "cell_type": "code",
   "execution_count": 225,
   "metadata": {},
   "outputs": [
    {
     "name": "stdout",
     "output_type": "stream",
     "text": [
      "[(0, 1, 2), (0, 1, 3), (0, 1, 4), (0, 1, 5), (0, 1, 6), (0, 1, 7), (0, 1, 8), (0, 1, 9), (0, 1, 10), (0, 1, 11), (0, 1, 12), (0, 1, 13), (0, 1, 14), (0, 1, 15), (0, 1, 16), (0, 1, 17), (0, 2, 3), (0, 2, 4), (0, 2, 5), (0, 2, 6), (0, 2, 7), (0, 2, 8), (0, 2, 9), (0, 2, 10), (0, 2, 11), (0, 2, 12), (0, 2, 13), (0, 2, 14), (0, 2, 15), (0, 2, 16), (0, 2, 17), (0, 3, 4), (0, 3, 5), (0, 3, 6), (0, 3, 7), (0, 3, 8), (0, 3, 9), (0, 3, 10), (0, 3, 11), (0, 3, 12), (0, 3, 13), (0, 3, 14), (0, 3, 15), (0, 3, 16), (0, 3, 17), (0, 4, 5), (0, 4, 6), (0, 4, 7), (0, 4, 8), (0, 4, 9), (0, 4, 10), (0, 4, 11), (0, 4, 12), (0, 4, 13), (0, 4, 14), (0, 4, 15), (0, 4, 16), (0, 4, 17), (0, 5, 6), (0, 5, 7), (0, 5, 8), (0, 5, 9), (0, 5, 10), (0, 5, 11), (0, 5, 12), (0, 5, 13), (0, 5, 14), (0, 5, 15), (0, 5, 16), (0, 5, 17), (0, 6, 7), (0, 6, 8), (0, 6, 9), (0, 6, 10), (0, 6, 11), (0, 6, 12), (0, 6, 13), (0, 6, 14), (0, 6, 15), (0, 6, 16), (0, 6, 17), (0, 7, 8), (0, 7, 9), (0, 7, 10), (0, 7, 11), (0, 7, 12), (0, 7, 13), (0, 7, 14), (0, 7, 15), (0, 7, 16), (0, 7, 17), (0, 8, 9), (0, 8, 10), (0, 8, 11), (0, 8, 12), (0, 8, 13), (0, 8, 14), (0, 8, 15), (0, 8, 16), (0, 8, 17), (0, 9, 10), (0, 9, 11), (0, 9, 12), (0, 9, 13), (0, 9, 14), (0, 9, 15), (0, 9, 16), (0, 9, 17), (0, 10, 11), (0, 10, 12), (0, 10, 13), (0, 10, 14), (0, 10, 15), (0, 10, 16), (0, 10, 17), (0, 11, 12), (0, 11, 13), (0, 11, 14), (0, 11, 15), (0, 11, 16), (0, 11, 17), (0, 12, 13), (0, 12, 14), (0, 12, 15), (0, 12, 16), (0, 12, 17), (0, 13, 14), (0, 13, 15), (0, 13, 16), (0, 13, 17), (0, 14, 15), (0, 14, 16), (0, 14, 17), (0, 15, 16), (0, 15, 17), (0, 16, 17), (1, 2, 3), (1, 2, 4), (1, 2, 5), (1, 2, 6), (1, 2, 7), (1, 2, 8), (1, 2, 9), (1, 2, 10), (1, 2, 11), (1, 2, 12), (1, 2, 13), (1, 2, 14), (1, 2, 15), (1, 2, 16), (1, 2, 17), (1, 3, 4), (1, 3, 5), (1, 3, 6), (1, 3, 7), (1, 3, 8), (1, 3, 9), (1, 3, 10), (1, 3, 11), (1, 3, 12), (1, 3, 13), (1, 3, 14), (1, 3, 15), (1, 3, 16), (1, 3, 17), (1, 4, 5), (1, 4, 6), (1, 4, 7), (1, 4, 8), (1, 4, 9), (1, 4, 10), (1, 4, 11), (1, 4, 12), (1, 4, 13), (1, 4, 14), (1, 4, 15), (1, 4, 16), (1, 4, 17), (1, 5, 6), (1, 5, 7), (1, 5, 8), (1, 5, 9), (1, 5, 10), (1, 5, 11), (1, 5, 12), (1, 5, 13), (1, 5, 14), (1, 5, 15), (1, 5, 16), (1, 5, 17), (1, 6, 7), (1, 6, 8), (1, 6, 9), (1, 6, 10), (1, 6, 11), (1, 6, 12), (1, 6, 13), (1, 6, 14), (1, 6, 15), (1, 6, 16), (1, 6, 17), (1, 7, 8), (1, 7, 9), (1, 7, 10), (1, 7, 11), (1, 7, 12), (1, 7, 13), (1, 7, 14), (1, 7, 15), (1, 7, 16), (1, 7, 17), (1, 8, 9), (1, 8, 10), (1, 8, 11), (1, 8, 12), (1, 8, 13), (1, 8, 14), (1, 8, 15), (1, 8, 16), (1, 8, 17), (1, 9, 10), (1, 9, 11), (1, 9, 12), (1, 9, 13), (1, 9, 14), (1, 9, 15), (1, 9, 16), (1, 9, 17), (1, 10, 11), (1, 10, 12), (1, 10, 13), (1, 10, 14), (1, 10, 15), (1, 10, 16), (1, 10, 17), (1, 11, 12), (1, 11, 13), (1, 11, 14), (1, 11, 15), (1, 11, 16), (1, 11, 17), (1, 12, 13), (1, 12, 14), (1, 12, 15), (1, 12, 16), (1, 12, 17), (1, 13, 14), (1, 13, 15), (1, 13, 16), (1, 13, 17), (1, 14, 15), (1, 14, 16), (1, 14, 17), (1, 15, 16), (1, 15, 17), (1, 16, 17), (2, 3, 4), (2, 3, 5), (2, 3, 6), (2, 3, 7), (2, 3, 8), (2, 3, 9), (2, 3, 10), (2, 3, 11), (2, 3, 12), (2, 3, 13), (2, 3, 14), (2, 3, 15), (2, 3, 16), (2, 3, 17), (2, 4, 5), (2, 4, 6), (2, 4, 7), (2, 4, 8), (2, 4, 9), (2, 4, 10), (2, 4, 11), (2, 4, 12), (2, 4, 13), (2, 4, 14), (2, 4, 15), (2, 4, 16), (2, 4, 17), (2, 5, 6), (2, 5, 7), (2, 5, 8), (2, 5, 9), (2, 5, 10), (2, 5, 11), (2, 5, 12), (2, 5, 13), (2, 5, 14), (2, 5, 15), (2, 5, 16), (2, 5, 17), (2, 6, 7), (2, 6, 8), (2, 6, 9), (2, 6, 10), (2, 6, 11), (2, 6, 12), (2, 6, 13), (2, 6, 14), (2, 6, 15), (2, 6, 16), (2, 6, 17), (2, 7, 8), (2, 7, 9), (2, 7, 10), (2, 7, 11), (2, 7, 12), (2, 7, 13), (2, 7, 14), (2, 7, 15), (2, 7, 16), (2, 7, 17), (2, 8, 9), (2, 8, 10), (2, 8, 11), (2, 8, 12), (2, 8, 13), (2, 8, 14), (2, 8, 15), (2, 8, 16), (2, 8, 17), (2, 9, 10), (2, 9, 11), (2, 9, 12), (2, 9, 13), (2, 9, 14), (2, 9, 15), (2, 9, 16), (2, 9, 17), (2, 10, 11), (2, 10, 12), (2, 10, 13), (2, 10, 14), (2, 10, 15), (2, 10, 16), (2, 10, 17), (2, 11, 12), (2, 11, 13), (2, 11, 14), (2, 11, 15), (2, 11, 16), (2, 11, 17), (2, 12, 13), (2, 12, 14), (2, 12, 15), (2, 12, 16), (2, 12, 17), (2, 13, 14), (2, 13, 15), (2, 13, 16), (2, 13, 17), (2, 14, 15), (2, 14, 16), (2, 14, 17), (2, 15, 16), (2, 15, 17), (2, 16, 17), (3, 4, 5), (3, 4, 6), (3, 4, 7), (3, 4, 8), (3, 4, 9), (3, 4, 10), (3, 4, 11), (3, 4, 12), (3, 4, 13), (3, 4, 14), (3, 4, 15), (3, 4, 16), (3, 4, 17), (3, 5, 6), (3, 5, 7), (3, 5, 8), (3, 5, 9), (3, 5, 10), (3, 5, 11), (3, 5, 12), (3, 5, 13), (3, 5, 14), (3, 5, 15), (3, 5, 16), (3, 5, 17), (3, 6, 7), (3, 6, 8), (3, 6, 9), (3, 6, 10), (3, 6, 11), (3, 6, 12), (3, 6, 13), (3, 6, 14), (3, 6, 15), (3, 6, 16), (3, 6, 17), (3, 7, 8), (3, 7, 9), (3, 7, 10), (3, 7, 11), (3, 7, 12), (3, 7, 13), (3, 7, 14), (3, 7, 15), (3, 7, 16), (3, 7, 17), (3, 8, 9), (3, 8, 10), (3, 8, 11), (3, 8, 12), (3, 8, 13), (3, 8, 14), (3, 8, 15), (3, 8, 16), (3, 8, 17), (3, 9, 10), (3, 9, 11), (3, 9, 12), (3, 9, 13), (3, 9, 14), (3, 9, 15), (3, 9, 16), (3, 9, 17), (3, 10, 11), (3, 10, 12), (3, 10, 13), (3, 10, 14), (3, 10, 15), (3, 10, 16), (3, 10, 17), (3, 11, 12), (3, 11, 13), (3, 11, 14), (3, 11, 15), (3, 11, 16), (3, 11, 17), (3, 12, 13), (3, 12, 14), (3, 12, 15), (3, 12, 16), (3, 12, 17), (3, 13, 14), (3, 13, 15), (3, 13, 16), (3, 13, 17), (3, 14, 15), (3, 14, 16), (3, 14, 17), (3, 15, 16), (3, 15, 17), (3, 16, 17), (4, 5, 6), (4, 5, 7), (4, 5, 8), (4, 5, 9), (4, 5, 10), (4, 5, 11), (4, 5, 12), (4, 5, 13), (4, 5, 14), (4, 5, 15), (4, 5, 16), (4, 5, 17), (4, 6, 7), (4, 6, 8), (4, 6, 9), (4, 6, 10), (4, 6, 11), (4, 6, 12), (4, 6, 13), (4, 6, 14), (4, 6, 15), (4, 6, 16), (4, 6, 17), (4, 7, 8), (4, 7, 9), (4, 7, 10), (4, 7, 11), (4, 7, 12), (4, 7, 13), (4, 7, 14), (4, 7, 15), (4, 7, 16), (4, 7, 17), (4, 8, 9), (4, 8, 10), (4, 8, 11), (4, 8, 12), (4, 8, 13), (4, 8, 14), (4, 8, 15), (4, 8, 16), (4, 8, 17), (4, 9, 10), (4, 9, 11), (4, 9, 12), (4, 9, 13), (4, 9, 14), (4, 9, 15), (4, 9, 16), (4, 9, 17), (4, 10, 11), (4, 10, 12), (4, 10, 13), (4, 10, 14), (4, 10, 15), (4, 10, 16), (4, 10, 17), (4, 11, 12), (4, 11, 13), (4, 11, 14), (4, 11, 15), (4, 11, 16), (4, 11, 17), (4, 12, 13), (4, 12, 14), (4, 12, 15), (4, 12, 16), (4, 12, 17), (4, 13, 14), (4, 13, 15), (4, 13, 16), (4, 13, 17), (4, 14, 15), (4, 14, 16), (4, 14, 17), (4, 15, 16), (4, 15, 17), (4, 16, 17), (5, 6, 7), (5, 6, 8), (5, 6, 9), (5, 6, 10), (5, 6, 11), (5, 6, 12), (5, 6, 13), (5, 6, 14), (5, 6, 15), (5, 6, 16), (5, 6, 17), (5, 7, 8), (5, 7, 9), (5, 7, 10), (5, 7, 11), (5, 7, 12), (5, 7, 13), (5, 7, 14), (5, 7, 15), (5, 7, 16), (5, 7, 17), (5, 8, 9), (5, 8, 10), (5, 8, 11), (5, 8, 12), (5, 8, 13), (5, 8, 14), (5, 8, 15), (5, 8, 16), (5, 8, 17), (5, 9, 10), (5, 9, 11), (5, 9, 12), (5, 9, 13), (5, 9, 14), (5, 9, 15), (5, 9, 16), (5, 9, 17), (5, 10, 11), (5, 10, 12), (5, 10, 13), (5, 10, 14), (5, 10, 15), (5, 10, 16), (5, 10, 17), (5, 11, 12), (5, 11, 13), (5, 11, 14), (5, 11, 15), (5, 11, 16), (5, 11, 17), (5, 12, 13), (5, 12, 14), (5, 12, 15), (5, 12, 16), (5, 12, 17), (5, 13, 14), (5, 13, 15), (5, 13, 16), (5, 13, 17), (5, 14, 15), (5, 14, 16), (5, 14, 17), (5, 15, 16), (5, 15, 17), (5, 16, 17), (6, 7, 8), (6, 7, 9), (6, 7, 10), (6, 7, 11), (6, 7, 12), (6, 7, 13), (6, 7, 14), (6, 7, 15), (6, 7, 16), (6, 7, 17), (6, 8, 9), (6, 8, 10), (6, 8, 11), (6, 8, 12), (6, 8, 13), (6, 8, 14), (6, 8, 15), (6, 8, 16), (6, 8, 17), (6, 9, 10), (6, 9, 11), (6, 9, 12), (6, 9, 13), (6, 9, 14), (6, 9, 15), (6, 9, 16), (6, 9, 17), (6, 10, 11), (6, 10, 12), (6, 10, 13), (6, 10, 14), (6, 10, 15), (6, 10, 16), (6, 10, 17), (6, 11, 12), (6, 11, 13), (6, 11, 14), (6, 11, 15), (6, 11, 16), (6, 11, 17), (6, 12, 13), (6, 12, 14), (6, 12, 15), (6, 12, 16), (6, 12, 17), (6, 13, 14), (6, 13, 15), (6, 13, 16), (6, 13, 17), (6, 14, 15), (6, 14, 16), (6, 14, 17), (6, 15, 16), (6, 15, 17), (6, 16, 17), (7, 8, 9), (7, 8, 10), (7, 8, 11), (7, 8, 12), (7, 8, 13), (7, 8, 14), (7, 8, 15), (7, 8, 16), (7, 8, 17), (7, 9, 10), (7, 9, 11), (7, 9, 12), (7, 9, 13), (7, 9, 14), (7, 9, 15), (7, 9, 16), (7, 9, 17), (7, 10, 11), (7, 10, 12), (7, 10, 13), (7, 10, 14), (7, 10, 15), (7, 10, 16), (7, 10, 17), (7, 11, 12), (7, 11, 13), (7, 11, 14), (7, 11, 15), (7, 11, 16), (7, 11, 17), (7, 12, 13), (7, 12, 14), (7, 12, 15), (7, 12, 16), (7, 12, 17), (7, 13, 14), (7, 13, 15), (7, 13, 16), (7, 13, 17), (7, 14, 15), (7, 14, 16), (7, 14, 17), (7, 15, 16), (7, 15, 17), (7, 16, 17), (8, 9, 10), (8, 9, 11), (8, 9, 12), (8, 9, 13), (8, 9, 14), (8, 9, 15), (8, 9, 16), (8, 9, 17), (8, 10, 11), (8, 10, 12), (8, 10, 13), (8, 10, 14), (8, 10, 15), (8, 10, 16), (8, 10, 17), (8, 11, 12), (8, 11, 13), (8, 11, 14), (8, 11, 15), (8, 11, 16), (8, 11, 17), (8, 12, 13), (8, 12, 14), (8, 12, 15), (8, 12, 16), (8, 12, 17), (8, 13, 14), (8, 13, 15), (8, 13, 16), (8, 13, 17), (8, 14, 15), (8, 14, 16), (8, 14, 17), (8, 15, 16), (8, 15, 17), (8, 16, 17), (9, 10, 11), (9, 10, 12), (9, 10, 13), (9, 10, 14), (9, 10, 15), (9, 10, 16), (9, 10, 17), (9, 11, 12), (9, 11, 13), (9, 11, 14), (9, 11, 15), (9, 11, 16), (9, 11, 17), (9, 12, 13), (9, 12, 14), (9, 12, 15), (9, 12, 16), (9, 12, 17), (9, 13, 14), (9, 13, 15), (9, 13, 16), (9, 13, 17), (9, 14, 15), (9, 14, 16), (9, 14, 17), (9, 15, 16), (9, 15, 17), (9, 16, 17), (10, 11, 12), (10, 11, 13), (10, 11, 14), (10, 11, 15), (10, 11, 16), (10, 11, 17), (10, 12, 13), (10, 12, 14), (10, 12, 15), (10, 12, 16), (10, 12, 17), (10, 13, 14), (10, 13, 15), (10, 13, 16), (10, 13, 17), (10, 14, 15), (10, 14, 16), (10, 14, 17), (10, 15, 16), (10, 15, 17), (10, 16, 17), (11, 12, 13), (11, 12, 14), (11, 12, 15), (11, 12, 16), (11, 12, 17), (11, 13, 14), (11, 13, 15), (11, 13, 16), (11, 13, 17), (11, 14, 15), (11, 14, 16), (11, 14, 17), (11, 15, 16), (11, 15, 17), (11, 16, 17), (12, 13, 14), (12, 13, 15), (12, 13, 16), (12, 13, 17), (12, 14, 15), (12, 14, 16), (12, 14, 17), (12, 15, 16), (12, 15, 17), (12, 16, 17), (13, 14, 15), (13, 14, 16), (13, 14, 17), (13, 15, 16), (13, 15, 17), (13, 16, 17), (14, 15, 16), (14, 15, 17), (14, 16, 17), (15, 16, 17)]\n"
     ]
    }
   ],
   "source": [
    "import itertools\n",
    "print(list(itertools.combinations(range(18),3)))"
   ]
  },
  {
   "cell_type": "code",
   "execution_count": 226,
   "metadata": {
    "collapsed": true
   },
   "outputs": [],
   "source": [
    "#refazer o kmeans para calcular a variancia\n"
   ]
  },
  {
   "cell_type": "markdown",
   "metadata": {},
   "source": [
    "BOA SORTE COM CLUSTERS PARTICIONADOS"
   ]
  },
  {
   "cell_type": "code",
   "execution_count": null,
   "metadata": {
    "collapsed": true
   },
   "outputs": [],
   "source": []
  }
 ],
 "metadata": {
  "kernelspec": {
   "display_name": "Python 3",
   "language": "python",
   "name": "python3"
  },
  "language_info": {
   "codemirror_mode": {
    "name": "ipython",
    "version": 3
   },
   "file_extension": ".py",
   "mimetype": "text/x-python",
   "name": "python",
   "nbconvert_exporter": "python",
   "pygments_lexer": "ipython3",
   "version": "3.6.3"
  }
 },
 "nbformat": 4,
 "nbformat_minor": 2
}
