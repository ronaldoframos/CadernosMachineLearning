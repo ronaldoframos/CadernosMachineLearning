{
 "cells": [
  {
   "cell_type": "markdown",
   "metadata": {},
   "source": [
    "<h1> Classificadores Avançados </h1>"
   ]
  },
  {
   "cell_type": "markdown",
   "metadata": {},
   "source": [
    "<h2> 1. Árvores de Decisão <h2>"
   ]
  },
  {
   "cell_type": "code",
   "execution_count": 3,
   "metadata": {
    "collapsed": true
   },
   "outputs": [],
   "source": [
    "%matplotlib inline"
   ]
  },
  {
   "cell_type": "code",
   "execution_count": 9,
   "metadata": {
    "collapsed": true
   },
   "outputs": [],
   "source": [
    "import matplotlib.pyplot as plt\n",
    "import numpy as np \n",
    "import math"
   ]
  },
  {
   "cell_type": "markdown",
   "metadata": {},
   "source": [
    "<h2> Primeiro Vamos Criar a Estrutura de Dados </h2>"
   ]
  },
  {
   "cell_type": "code",
   "execution_count": 40,
   "metadata": {
    "collapsed": true
   },
   "outputs": [],
   "source": [
    "class Noh:\n",
    "    def __init__(self,rot,valores=()): # rotulo do no + lista de atributos\n",
    "        self.rotulo =  rot\n",
    "        self.valores = valores\n",
    "        self.filhos  = [None for i in valores]\n",
    "    \n",
    "    def addFilho(self,valor,noh):\n",
    "        pos = self.valores.index(valor)\n",
    "        self.filhos[pos]=noh\n",
    "    \n",
    "    def __repr__(self):\n",
    "        st = \"< {} : {} : {} > \\n\".format(self.rotulo,self.valores,self.filhos)\n",
    "        return st"
   ]
  },
  {
   "cell_type": "code",
   "execution_count": 41,
   "metadata": {
    "collapsed": true
   },
   "outputs": [],
   "source": [
    "#\n",
    "#\n",
    "class ArvoreDecisao:\n",
    "    # construtor da classe\n",
    "    def __init__(self,noh):\n",
    "        self.raiz = noh\n",
    "    \n",
    "    # adiciona um nó filho a um dado pai\n",
    "    def addNoh(self, p, valor, noh):\n",
    "        #localiza o no pai\n",
    "        pais = self.locNoh(self.raiz,p)\n",
    "        for pai in pais:\n",
    "            pai.addFilho(valor,noh)\n",
    "        \n",
    "    #localiza o noh - Usa Busca em Largura\n",
    "    def locNoh(self,raiz,rotulo):\n",
    "        lista=[raiz]\n",
    "        res = []\n",
    "        while len(lista) > 0:\n",
    "            atual = lista.pop(0)\n",
    "            if atual == None: continue\n",
    "            if atual.rotulo == rotulo:\n",
    "                res.append(atual)\n",
    "            else:\n",
    "                for v in atual.filhos:\n",
    "                    lista.append(v)\n",
    "        return res\n",
    "    \n",
    "    #imprime a arvore\n",
    "    def imprimir(self,raiz,tab=\"\"):\n",
    "        if raiz == None: \n",
    "            print(tab,\"X\")\n",
    "        else:\n",
    "            print(tab,raiz.rotulo)\n",
    "        tab+=\"\\t | \"\n",
    "        for i,j in zip(raiz.valores,raiz.filhos):\n",
    "            print(tab,\"[{}]\".format(i))\n",
    "            if j != None: self.imprimir(j,tab)\n",
    "    \n",
    "    # faz inferencia, ou seja encontra o ramos e a saida(folha)\n",
    "    def inferencia(self, nr):\n",
    "        if nr.valores == \"{}\":\n",
    "            return nr.rotulo \n",
    "        resposta = input(\"Qual o valor de {} ( {} )\".format(nr.rotulo,nr.valores)).upper()\n",
    "        pos = nr.valores.index(resposta)\n",
    "        return self.inferencia(nr.filhos[pos])\n",
    "        \n",
    "    "
   ]
  },
  {
   "cell_type": "markdown",
   "metadata": {},
   "source": [
    "</h2> Calculos ...</h3>"
   ]
  },
  {
   "cell_type": "code",
   "execution_count": 33,
   "metadata": {
    "collapsed": true
   },
   "outputs": [],
   "source": [
    "#vamos definir nossa função entropia\n",
    "def entropia(a,b): # a = quantidade de elementos a e b quant de elementos b\n",
    "    if a == 0 or b == 0: return 0\n",
    "    total = a+b\n",
    "    pa = a/total\n",
    "    pb = b/total\n",
    "    return -pa*math.log(pa,2) - pb*math.log(pb,2) \n"
   ]
  },
  {
   "cell_type": "code",
   "execution_count": 34,
   "metadata": {},
   "outputs": [
    {
     "data": {
      "text/plain": [
       "0"
      ]
     },
     "execution_count": 34,
     "metadata": {},
     "output_type": "execute_result"
    }
   ],
   "source": [
    "entropia(0,4)"
   ]
  },
  {
   "cell_type": "code",
   "execution_count": 35,
   "metadata": {
    "collapsed": true
   },
   "outputs": [],
   "source": [
    "def r(lista): # lista de tuplas dos filhos (Positivos,Negativos)\n",
    "    P = 0\n",
    "    N = 0\n",
    "    R = 0 \n",
    "    for i in lista:\n",
    "        P += i[0]\n",
    "        N += i[1]\n",
    "    for f in lista:\n",
    "        R += (f[0]+f[1])/(P+N)*entropia(f[0]/(f[0]+f[1]),f[1]/(f[0]+f[1]))\n",
    "    return R\n",
    "    "
   ]
  },
  {
   "cell_type": "code",
   "execution_count": 36,
   "metadata": {},
   "outputs": [
    {
     "data": {
      "text/plain": [
       "0.9182958340544896"
      ]
     },
     "execution_count": 36,
     "metadata": {},
     "output_type": "execute_result"
    }
   ],
   "source": [
    "r([(1,2),(1,2),(1,2),(1,2)])"
   ]
  },
  {
   "cell_type": "code",
   "execution_count": 38,
   "metadata": {},
   "outputs": [
    {
     "data": {
      "text/plain": [
       "0.6935361388961918"
      ]
     },
     "execution_count": 38,
     "metadata": {},
     "output_type": "execute_result"
    }
   ],
   "source": [
    "r([(3,2),(4,0),(3,2)])"
   ]
  },
  {
   "cell_type": "code",
   "execution_count": null,
   "metadata": {
    "collapsed": true
   },
   "outputs": [],
   "source": []
  },
  {
   "cell_type": "code",
   "execution_count": 42,
   "metadata": {
    "collapsed": true
   },
   "outputs": [],
   "source": [
    "datasetRestaurante = [[\"CLIENTELA\",\"TIPO\",\"FICOU\"],\n",
    "                       [\"LOTADO\",\"LACARTE\",\"N\"],\n",
    "                       [\"MEDIO\",\"LACARTE\",\"S\"],\n",
    "                       [\"VAZIO\",\"LACARTE\",\"N\"],\n",
    "                       [\"LOTADO\",\"SELF\",\"N\"],\n",
    "                       [\"MEDIO\",\"SELF\",\"S\"],\n",
    "                       [\"VAZIO\",\"SELF\",\"N\"],  \n",
    "                       [\"LOTADO\",\"FAST\",\"N\"],\n",
    "                       [\"MEDIO\",\"FAST\",\"S\"],\n",
    "                       [\"VAZIO\",\"FAST\",\"N\"],\n",
    "                       [\"LOTADO\",\"SUSHI\",\"N\"],\n",
    "                       [\"MEDIO\",\"SUSHI\",\"S\"],\n",
    "                       [\"VAZIO\",\"SUSHI\",\"N\"],\n",
    "                      ]"
   ]
  },
  {
   "cell_type": "code",
   "execution_count": 43,
   "metadata": {
    "collapsed": true
   },
   "outputs": [],
   "source": [
    "datasetTempo = [[\"Tempo\", \"Temperatura\", \"Humidade\", \"Ventando\", \"JogarTennis\"],\n",
    "                [\"Ensolarado\", \"Quente\", \"Alta\", \"Não\", \"N\"],\n",
    "                [\"Ensolarado\", \"Quente\", \"Alta\", \"Sim\", \"N\"],\n",
    "                [\"Nublado\", \"Quente\", \"Alta\", \"Não\", \"S\"],\n",
    "                [\"Chuva\", \"Média\", \"Alta\", \"Não\", \"S\"],\n",
    "                [\"Chuva\", \"Fria\", \"Normal\", \"Não\", \"S\"],\n",
    "                [\"Chuva\", \"Fria\", \"Normal\", \"Sim\", \"N\"],\n",
    "                [\"Nublado\", \"Fria\", \"Normal\", \"Sim\", \"S\"],\n",
    "                [\"Ensolarado\", \"Média\", \"Alta\", \"Não\", \"S\"],\n",
    "                [\"Ensolarado\", \"Fria\", \"Normal\", \"Não\", \"S\"],\n",
    "                [\"Chuva\", \"Média\", \"Normal\", \"Não\", \"S\"],\n",
    "                [\"Ensolarado\", \"Média\", \"Normal\", \"Sim\", \"S\"],\n",
    "                [\"Nublado\", \"Média\", \"Alta\", \"Sim\", \"S\"],\n",
    "                [\"Nublado\", \"Quente\", \"Normal\", \"Não\", \"S\"],\n",
    "                [\"Chuva\", \"Média\", \"Alta\", \"Sim\", \"N\"],]"
   ]
  },
  {
   "cell_type": "code",
   "execution_count": 45,
   "metadata": {
    "collapsed": true
   },
   "outputs": [],
   "source": [
    "# conta os positivo e nagativos. ignora a linha de rotulos\n",
    "def totalPN(ds):\n",
    "    lista = [i[-1] for i in ds]\n",
    "    p = lista.count(\"S\")\n",
    "    n = lista.count(\"N\")\n",
    "    return p,n"
   ]
  },
  {
   "cell_type": "code",
   "execution_count": 46,
   "metadata": {
    "collapsed": true
   },
   "outputs": [],
   "source": [
    "# poda o dataset\n",
    "def subDs(ds,at,val):\n",
    "    pos = ds[0].index(at)\n",
    "    sub = [ds[0]] + [i for i in ds if i[pos] == val ]\n",
    "    return sub"
   ]
  },
  {
   "cell_type": "code",
   "execution_count": 47,
   "metadata": {
    "collapsed": true
   },
   "outputs": [],
   "source": [
    "#\n",
    "def removeColuna(ds,atributo):\n",
    "    sub = [i[:] for i in ds ] # copia profunda\n",
    "    pos = ds[0].index(atributo)\n",
    "    for i in sub: del i[pos]\n",
    "    return sub"
   ]
  },
  {
   "cell_type": "code",
   "execution_count": 48,
   "metadata": {
    "collapsed": true
   },
   "outputs": [],
   "source": [
    "def listaValores(ds):\n",
    "    valores = dict()\n",
    "    feats = ds[0][:-1]\n",
    "    feats = ds[0]\n",
    "    #print(feats)\n",
    "    for f in feats:\n",
    "        pos = feats.index(f)\n",
    "        listVal = set([v[pos] for v in ds[1:] ])\n",
    "        #print(listVal)\n",
    "        valores[f] = listVal\n",
    "    return valores    "
   ]
  },
  {
   "cell_type": "code",
   "execution_count": 49,
   "metadata": {
    "collapsed": true
   },
   "outputs": [],
   "source": [
    "def calculaGanhoInformacao(dados):\n",
    "    p,n = totalPN(dados)\n",
    "    entropia_inicial = entropia(p,n)\n",
    "    listaFeat = dados[0][:-1]\n",
    "    listval = listaValores(dados)\n",
    "    entResto = 0\n",
    "    ganhos = dict()\n",
    "    for k,v in listval.items():\n",
    "        for i in v:\n",
    "            ss = subDs(dados,k,i)\n",
    "            sp,sn = totalPN(ss)\n",
    "            sentropia = entropia(sp,sn)\n",
    "            entResto += (sp+sn)/(p+n) * sentropia\n",
    "        gan = entropia_inicial - entResto\n",
    "        ganhos[k] = gan\n",
    "    return sorted(ganhos.items(), key=lambda x: x[1],reverse=True)"
   ]
  },
  {
   "cell_type": "code",
   "execution_count": 50,
   "metadata": {
    "collapsed": true
   },
   "outputs": [],
   "source": [
    "def selecionaAtributoValor(ds):\n",
    "    if len(ds[0]) == 1:\n",
    "        atributo = \"\".join(ds[0])\n",
    "        v = []\n",
    "        for i in ds[1:]:\n",
    "            if i not in v: v.append(\"\".join(i))\n",
    "    elif len(ds[0]) == 2:\n",
    "        atributo = ds[0][0]\n",
    "        v = set([i[0] for i in ds[1:]])\n",
    "    else:\n",
    "        atributo = calculaGanhoInformacao(ds)[0][0]\n",
    "        vals = listaValores(ds)\n",
    "        v = vals.get(atributo)\n",
    "    return atributo,tuple(v)"
   ]
  },
  {
   "cell_type": "code",
   "execution_count": 51,
   "metadata": {
    "collapsed": true
   },
   "outputs": [],
   "source": [
    "def geraArvoreID3(ds,noh=None,arco=None):\n",
    "    if not ds:return\n",
    "    if noh == None: return\n",
    "    a,v = selecionaAtributoValor(ds)\n",
    "    n = Noh(a,tuple(v))\n",
    "    noh.addFilho(arco,n)\n",
    "    for i in n.valores:\n",
    "        nds  = removeColuna(subDs(ds,a,i),a)\n",
    "        if not nds[-1]:break\n",
    "        geraArvoreID3(nds,n,i)\n",
    "\n",
    "def geraArvore(ds):\n",
    "    #print(\"Criado a raiz\")\n",
    "    if len(ds[0])<3:\n",
    "        return \"Muito pequeno dataset\"\n",
    "    a,v = selecionaAtributoValor(ds)\n",
    "    n = Noh(a,v)\n",
    "    dt = ArvoreDecisao(n)\n",
    "    #\n",
    "    # recursao\n",
    "    #\n",
    "    for i in n.valores:\n",
    "        nds  = removeColuna(subDs(ds,a,i),a)\n",
    "        if not nds[0]:break\n",
    "        geraArvoreID3(nds,n,i)\n",
    "    return dt"
   ]
  },
  {
   "cell_type": "code",
   "execution_count": 52,
   "metadata": {},
   "outputs": [
    {
     "name": "stdout",
     "output_type": "stream",
     "text": [
      " CLIENTELA\n",
      "\t |  [MEDIO]\n",
      "\t |  TIPO\n",
      "\t | \t |  [LACARTE]\n",
      "\t | \t |  FICOU\n",
      "\t | \t | \t |  [S]\n",
      "\t | \t |  [SUSHI]\n",
      "\t | \t |  FICOU\n",
      "\t | \t | \t |  [S]\n",
      "\t | \t |  [FAST]\n",
      "\t | \t |  FICOU\n",
      "\t | \t | \t |  [S]\n",
      "\t | \t |  [SELF]\n",
      "\t | \t |  FICOU\n",
      "\t | \t | \t |  [S]\n",
      "\t |  [LOTADO]\n",
      "\t |  TIPO\n",
      "\t | \t |  [LACARTE]\n",
      "\t | \t |  FICOU\n",
      "\t | \t | \t |  [N]\n",
      "\t | \t |  [SUSHI]\n",
      "\t | \t |  FICOU\n",
      "\t | \t | \t |  [N]\n",
      "\t | \t |  [FAST]\n",
      "\t | \t |  FICOU\n",
      "\t | \t | \t |  [N]\n",
      "\t | \t |  [SELF]\n",
      "\t | \t |  FICOU\n",
      "\t | \t | \t |  [N]\n",
      "\t |  [VAZIO]\n",
      "\t |  TIPO\n",
      "\t | \t |  [LACARTE]\n",
      "\t | \t |  FICOU\n",
      "\t | \t | \t |  [N]\n",
      "\t | \t |  [SUSHI]\n",
      "\t | \t |  FICOU\n",
      "\t | \t | \t |  [N]\n",
      "\t | \t |  [FAST]\n",
      "\t | \t |  FICOU\n",
      "\t | \t | \t |  [N]\n",
      "\t | \t |  [SELF]\n",
      "\t | \t |  FICOU\n",
      "\t | \t | \t |  [N]\n"
     ]
    }
   ],
   "source": [
    "ad = geraArvore(datasetRestaurante)\n",
    "ad.imprimir(ad.raiz)"
   ]
  },
  {
   "cell_type": "code",
   "execution_count": 53,
   "metadata": {},
   "outputs": [
    {
     "name": "stdout",
     "output_type": "stream",
     "text": [
      " Tempo\n",
      "\t |  [Ensolarado]\n",
      "\t |  Temperatura\n",
      "\t | \t |  [Quente]\n",
      "\t | \t |  Humidade\n",
      "\t | \t | \t |  [Alta]\n",
      "\t | \t | \t |  Ventando\n",
      "\t | \t | \t | \t |  [Não]\n",
      "\t | \t | \t | \t |  JogarTennis\n",
      "\t | \t | \t | \t | \t |  [N]\n",
      "\t | \t | \t | \t |  [Sim]\n",
      "\t | \t | \t | \t |  JogarTennis\n",
      "\t | \t | \t | \t | \t |  [N]\n",
      "\t | \t |  [Fria]\n",
      "\t | \t |  Humidade\n",
      "\t | \t | \t |  [Normal]\n",
      "\t | \t | \t |  Ventando\n",
      "\t | \t | \t | \t |  [Não]\n",
      "\t | \t | \t | \t |  JogarTennis\n",
      "\t | \t | \t | \t | \t |  [S]\n",
      "\t | \t |  [Média]\n",
      "\t | \t |  Humidade\n",
      "\t | \t | \t |  [Alta]\n",
      "\t | \t | \t |  Ventando\n",
      "\t | \t | \t | \t |  [Não]\n",
      "\t | \t | \t | \t |  JogarTennis\n",
      "\t | \t | \t | \t | \t |  [S]\n",
      "\t | \t | \t |  [Normal]\n",
      "\t | \t | \t |  Ventando\n",
      "\t | \t | \t | \t |  [Sim]\n",
      "\t | \t | \t | \t |  JogarTennis\n",
      "\t | \t | \t | \t | \t |  [S]\n",
      "\t |  [Chuva]\n",
      "\t |  Temperatura\n",
      "\t | \t |  [Fria]\n",
      "\t | \t |  Humidade\n",
      "\t | \t | \t |  [Normal]\n",
      "\t | \t | \t |  Ventando\n",
      "\t | \t | \t | \t |  [Não]\n",
      "\t | \t | \t | \t |  JogarTennis\n",
      "\t | \t | \t | \t | \t |  [S]\n",
      "\t | \t | \t | \t |  [Sim]\n",
      "\t | \t | \t | \t |  JogarTennis\n",
      "\t | \t | \t | \t | \t |  [N]\n",
      "\t | \t |  [Média]\n",
      "\t | \t |  Humidade\n",
      "\t | \t | \t |  [Alta]\n",
      "\t | \t | \t |  Ventando\n",
      "\t | \t | \t | \t |  [Não]\n",
      "\t | \t | \t | \t |  JogarTennis\n",
      "\t | \t | \t | \t | \t |  [S]\n",
      "\t | \t | \t | \t |  [Sim]\n",
      "\t | \t | \t | \t |  JogarTennis\n",
      "\t | \t | \t | \t | \t |  [N]\n",
      "\t | \t | \t |  [Normal]\n",
      "\t | \t | \t |  Ventando\n",
      "\t | \t | \t | \t |  [Não]\n",
      "\t | \t | \t | \t |  JogarTennis\n",
      "\t | \t | \t | \t | \t |  [S]\n",
      "\t |  [Nublado]\n",
      "\t |  Temperatura\n",
      "\t | \t |  [Quente]\n",
      "\t | \t |  Humidade\n",
      "\t | \t | \t |  [Alta]\n",
      "\t | \t | \t |  Ventando\n",
      "\t | \t | \t | \t |  [Não]\n",
      "\t | \t | \t | \t |  JogarTennis\n",
      "\t | \t | \t | \t | \t |  [S]\n",
      "\t | \t | \t |  [Normal]\n",
      "\t | \t | \t |  Ventando\n",
      "\t | \t | \t | \t |  [Não]\n",
      "\t | \t | \t | \t |  JogarTennis\n",
      "\t | \t | \t | \t | \t |  [S]\n",
      "\t | \t |  [Fria]\n",
      "\t | \t |  Humidade\n",
      "\t | \t | \t |  [Normal]\n",
      "\t | \t | \t |  Ventando\n",
      "\t | \t | \t | \t |  [Sim]\n",
      "\t | \t | \t | \t |  JogarTennis\n",
      "\t | \t | \t | \t | \t |  [S]\n",
      "\t | \t |  [Média]\n",
      "\t | \t |  Humidade\n",
      "\t | \t | \t |  [Alta]\n",
      "\t | \t | \t |  Ventando\n",
      "\t | \t | \t | \t |  [Sim]\n",
      "\t | \t | \t | \t |  JogarTennis\n",
      "\t | \t | \t | \t | \t |  [S]\n"
     ]
    }
   ],
   "source": [
    "ad2 = geraArvore(datasetTempo)\n",
    "ad2.imprimir(ad2.raiz)"
   ]
  },
  {
   "cell_type": "markdown",
   "metadata": {
    "collapsed": true
   },
   "source": [
    "<h1> Enjoy </h1>"
   ]
  },
  {
   "cell_type": "code",
   "execution_count": null,
   "metadata": {
    "collapsed": true
   },
   "outputs": [],
   "source": []
  }
 ],
 "metadata": {
  "kernelspec": {
   "display_name": "Python 3",
   "language": "python",
   "name": "python3"
  },
  "language_info": {
   "codemirror_mode": {
    "name": "ipython",
    "version": 3
   },
   "file_extension": ".py",
   "mimetype": "text/x-python",
   "name": "python",
   "nbconvert_exporter": "python",
   "pygments_lexer": "ipython3",
   "version": "3.6.3"
  }
 },
 "nbformat": 4,
 "nbformat_minor": 2
}
